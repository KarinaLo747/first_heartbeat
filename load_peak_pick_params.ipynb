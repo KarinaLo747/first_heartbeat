{
 "cells": [
  {
   "cell_type": "code",
   "execution_count": 1,
   "metadata": {},
   "outputs": [],
   "source": [
    "import glob\n",
    "import pathlib\n",
    "import pandas\n",
    "import pandas as pd\n",
    "import first_heartbeat.circles_analysis as circle\n",
    "from first_heartbeat.constants import manual_peak_find_csv"
   ]
  },
  {
   "cell_type": "code",
   "execution_count": 2,
   "metadata": {},
   "outputs": [
    {
     "name": "stdout",
     "output_type": "stream",
     "text": [
      "len(csv_files) = 84\n"
     ]
    },
    {
     "data": {
      "text/plain": [
       "['data/raw/2024-05-21_E8-0/E5/precut/240521_GCaMP_E8.0_Exp4_E5_20x_320cyc_precut_mid_t1_ls10_stage-4_dur-30.58.csv',\n",
       " 'data/raw/2024-06-07_E8-0/E5/precut-t1/240607_GCaMP_E8.0_Exp8_E5_20x_320cyc_precut_mid_t1_ls10_stage-1_dur-30.58.csv',\n",
       " 'data/raw/2024-06-07_E8-0/E5/precut-t0/240607_GCaMP_E8.0_Exp8_E5_20x_320cyc_precut_mid_t0_ls10_stage-1_dur-30.58.csv',\n",
       " 'data/raw/2024-06-07_E8-0/E5/postcut/240607_GCaMP_E8.0_Exp8_E5_20x_320cyc_postcut_mid_t1_ls10_stage-1_dur-30.58.csv',\n",
       " 'data/raw/2024-06-07_E8-0/E2/precut/240607_GCaMP_E8.0_Exp8_E2_20x_320cyc_precut_mid_t1_ls10_stage-2_dur-30.58.csv',\n",
       " 'data/raw/2024-06-07_E8-0/E2/postcut/240607_GCaMP_E8.0_Exp8_E2_20x_320cyc_postcut_mid_t1_ls10_stage-2_dur-30.58.csv',\n",
       " 'data/raw/2024-06-07_E8-0/E3/precut/240607_GCaMP_E8.0_Exp8_E3_20x_320cyc_precut_mid_t1_ls10_stage-1_dur-30.58.csv',\n",
       " 'data/raw/2024-06-07_E8-0/E3/postcut/240607_GCaMP_E8.0_Exp8_E3_20x_320cyc_postcut_mid_t1_ls10_stage-1_dur-30.58.csv',\n",
       " 'data/raw/2024-06-07_E8-0/E4/precut/240607_GCaMP_E8.0_Exp8_E4_20x_320cyc_precut_mid_t1_ls10_stage-2_dur-30.58.csv',\n",
       " 'data/raw/2024-06-07_E8-0/E4/postcut/240607_GCaMP_E8.0_Exp8_E4_20x_320cyc_postcut_mid_t1_ls10_stage-2_dur-30.58.csv',\n",
       " 'data/raw/2024-06-07_E8-0/E10/precut/240607_GCaMP_E8.0_Exp8_E10_20x_320cyc_precut_mid_t1_ls10_stage-1_dur-30.58.csv',\n",
       " 'data/raw/2024-06-07_E8-0/E10/postcut/240607_GCaMP_E8.0_Exp8_E10_20x_320cyc_postcut_mid_t1_ls10_stage-1_dur-30.58.csv',\n",
       " 'data/raw/2024-06-07_E8-0/E1/precut/240607_GCaMP_E8.0_Exp8_E1_20x_320cyc_precut_mid_t1_ls10_stage-2_dur-30.58.csv',\n",
       " 'data/raw/2024-06-07_E8-0/E1/postcut/240607_GCaMP_E8.0_Exp8_E1_20x_320cyc_postcut_mid_t1_ls10_stage-2_dur-45.27.csv',\n",
       " 'data/raw/2024-06-07_E8-0/E6/precut-t1/240607_GCaMP_E8.0_Exp8_E6_20x_320cyc_precut_mid_t1_ls10_stage-1_dur-30.58.csv',\n",
       " 'data/raw/2024-06-07_E8-0/E6/precut-t0/240607_GCaMP_E8.0_Exp8_E6_20x_320cyc_precut_mid_t0_ls10_stage-1_dur-30.58.csv',\n",
       " 'data/raw/2024-06-07_E8-0/E6/postcut/240607_GCaMP_E8.0_Exp8_E6_20x_320cyc_postcut_mid_t1_ls10_stage-1_dur-30.58.csv',\n",
       " 'data/raw/2024-06-07_E8-0/E8/precut-t1/240607_GCaMP_E8.0_Exp8_E8_20x_320cyc_precut_mid_t1_ls10_stage-2_dur-30.58.csv',\n",
       " 'data/raw/2024-06-07_E8-0/E8/precut-t0/240607_GCaMP_E8.0_Exp8_E8_20x_320cyc_precut_mid_t0_ls10_stage-2_dur-30.58.csv',\n",
       " 'data/raw/2024-06-07_E8-0/E8/postcut/240607_GCaMP_E8.0_Exp8_E8_20x_320cyc_postcut_mid_t1_ls10_stage-2_dur-30.58.csv',\n",
       " 'data/raw/2024-06-07_E8-0/E9/precut-t1/240607_GCaMP_E8.0_Exp8_E9_20x_320cyc_precut_mid_t1_ls10_stage-2_dur-30.58.csv',\n",
       " 'data/raw/2024-06-07_E8-0/E9/precut-t0/240607_GCaMP_E8.0_Exp8_E9_20x_320cyc_precut_mid_t0_ls10_stage-2_dur-30.58.csv',\n",
       " 'data/raw/2024-06-07_E8-0/E9/postcut/240607_GCaMP_E8.0_Exp8_E9_20x_320cyc_postcut_mid_t1_ls10_stage-2_dur-30.58.csv',\n",
       " 'data/raw/2024-06-07_E8-0/E7/precut-t1/240607_GCaMP_E8.0_Exp8_E7_20x_320cyc_precut_mid_t1_ls10_stage-2_dur-30.58.csv',\n",
       " 'data/raw/2024-06-07_E8-0/E7/precut-t0/240607_GCaMP_E8.0_Exp8_E7_20x_320cyc_precut_mid_t0_ls10_stage-2_dur-30.58.csv',\n",
       " 'data/raw/2024-06-07_E8-0/E7/postcut/240607_GCaMP_E8.0_Exp8_E7_20x_320cyc_postcut_mid_t1_ls10_stage-1_dur-30.58.csv',\n",
       " 'data/raw/2024-05-17_E8-0/E5/precut/240517_GCaMP_E8.0_Exp3_E5_20x_320cyc_precut_mid_t1_ls10_stage-1_dur-30.58.csv',\n",
       " 'data/raw/2024-05-17_E8-0/E5/postcut/240517_GCaMP_E8.0_Exp3_E5_20x_320cyc_postcut_mid_t2_ls10_stage-1_dur-30.58.csv',\n",
       " 'data/raw/2024-05-17_E8-0/E4/precut/240517_GCaMP_E8.0_Exp3_E4_20x_320cyc_precut_mid_t3_ls10_stage-1_dur-30.58.csv',\n",
       " 'data/raw/2024-05-17_E8-0/E4/postcut/240517_GCaMP_E8.0_Exp3_E4_20x_320cyc_postcut_mid_t1_ls10_stage-1_dur-30.58.csv',\n",
       " 'data/raw/2024-05-17_E8-0/E1/precut/240517_GCaMP_E8.0_Exp3_E1_20x_320cyc_precut_mid_t1_ls10_stage-1_dur-38.02.csv',\n",
       " 'data/raw/2024-05-17_E8-0/E6/precut/240517_GCaMP_E8.0_Exp3_E6_20x_320cyc_precut_mid_t2_ls10_stage-2_dur-30.58.csv',\n",
       " 'data/raw/2024-05-17_E8-0/E6/postcut/240517_GCaMP_E8.0_Exp3_E6_20x_320cyc_postcut_mid_t1_ls10_stage-2_dur-30.58.csv',\n",
       " 'data/raw/2024-05-17_E8-0/E8/precut/240517_GCaMP_E8.0_Exp3_E8_20x_320cyc_precut_mid_t1_ls10_stage-1_dur-30.58.csv',\n",
       " 'data/raw/2024-05-17_E8-0/E8/postcut/240517_GCaMP_E8.0_Exp3_E8_20x_320cyc_postcut_mid_t1_ls10_stage-1_dur-30.58.csv',\n",
       " 'data/raw/2024-05-17_E8-0/E9/precut/240517_GCaMP_E8.0_Exp3_E9_20x_320cyc_precut_mid_t1_ls10_stage-3_dur-30.58.csv',\n",
       " 'data/raw/2024-05-17_E8-0/E9/postcut/240517_GCaMP_E8.0_Exp3_E9_20x_320cyc_postcut_mid_t2_ls10_stage-3_dur-30.58.csv',\n",
       " 'data/raw/2024-05-17_E8-0/E7/precut/240517_GCaMP_E8.0_Exp3_E7_20x_320cyc_precut_mid_t1_ls10_stage-2_dur-30.58.csv',\n",
       " 'data/raw/2024-05-17_E8-0/E7/postcut/240517_GCaMP_E8.0_Exp3_E7_20x_320cyc_postcut_mid_t1_ls10_stage-2_dur-30.58.csv',\n",
       " 'data/raw/2024-06-20_E8-0/E5/precut/240620_GCaMP_E8.0_Exp11_E5_20x_320cyc_precut_mid_t1_ls10_stage-1_dur-30.58.csv',\n",
       " 'data/raw/2024-06-20_E8-0/E5/postcut/240620_GCaMP_E8.0_Exp11_E5_20x_320cyc_postcut_mid_t1_ls10_stage-1_dur-30.58.csv',\n",
       " 'data/raw/2024-06-20_E8-0/E2/precut/240620_GCaMP_E8.0_Exp11_E2_20x_320cyc_precut_mid_t1_ls10_stage-4_dur-30.58.csv',\n",
       " 'data/raw/2024-06-20_E8-0/E2/postcut/240620_GCaMP_E8.0_Exp11_E2_20x_320cyc_postcut_mid_t1_ls10_stage-4_dur-30.58.csv',\n",
       " 'data/raw/2024-06-20_E8-0/E3/precut/240620_GCaMP_E8.0_Exp11_E3_20x_320cyc_precut_mid_t1_ls10_stage-2_dur-30.58.csv',\n",
       " 'data/raw/2024-06-20_E8-0/E3/postcut/240620_GCaMP_E8.0_Exp11_E3_20x_320cyc_postcut_mid_t1_ls10_stage-2_dur-30.58.csv',\n",
       " 'data/raw/2024-06-20_E8-0/E1/precut/240620_GCaMP_E8.0_Exp11_E1_20x_320cyc_precut_mid_t1_ls10_stage-4_dur-30.58.csv',\n",
       " 'data/raw/2024-06-20_E8-0/E1/postcut/240620_GCaMP_E8.0_Exp11_E1_20x_320cyc_postcut_mid_t1_ls10_stage-4_dur-30.58.csv',\n",
       " 'data/raw/2024-06-20_E8-0/E6/precut/240620_GCaMP_E8.0_Exp11_E6_20x_320cyc_precut_mid_t1_ls10_stage-2_dur-30.58.csv',\n",
       " 'data/raw/2024-06-20_E8-0/E6/postcut/240620_GCaMP_E8.0_Exp11_E6_20x_320cyc_postcut_mid_t1_ls10_stage-2_dur-30.58.csv',\n",
       " 'data/raw/2024-06-20_E8-0/E8/precut/240620_GCaMP_E8.0_Exp11_E8_20x_320cyc_precut_mid_t1_ls10_stage-2_dur-30.58.csv',\n",
       " 'data/raw/2024-06-20_E8-0/E8/postcut/240620_GCaMP_E8.0_Exp11_E8_20x_320cyc_postcut_mid_t1_ls10_stage-2_dur-30.58.csv',\n",
       " 'data/raw/2024-06-20_E8-0/E7/precut/240620_GCaMP_E8.0_Exp11_E7_20x_320cyc_precut_mid_t1_ls10_stage-3_dur-30.58.csv',\n",
       " 'data/raw/2024-06-20_E8-0/E7/postcut/240620_GCaMP_E8.0_Exp11_E7_20x_320cyc_postcut_mid_t1_ls10_stage-3_dur-30.58.csv',\n",
       " 'data/raw/2024-06-18_E8-0/E5/precut/240618_GCaMP_E8.0_Exp10_E5_20x_320cyc_precut_mid_t1_ls10_stage-4_dur-30.58.csv',\n",
       " 'data/raw/2024-06-18_E8-0/E5/postcut/240618_GCaMP_E8.0_Exp10_E5_20x_320cyc_postcut_mid_t1_ls10_stage-4_dur-30.58.csv',\n",
       " 'data/raw/2024-06-18_E8-0/E2/precut/240618_GCaMP_E8.0_Exp10_E2_20x_320cyc_precut_mid_t1_ls10_stage-2_dur-30.58.csv',\n",
       " 'data/raw/2024-06-18_E8-0/E2/postcut/240618_GCaMP_E8.0_Exp10_E2_20x_320cyc_postcut_mid_t1_ls10_stage-2_dur-30.58.csv',\n",
       " 'data/raw/2024-06-18_E8-0/E3/precut/240618_GCaMP_E8.0_Exp10_E3_20x_320cyc_precut_mid_t1_ls10_stage-1_dur-30.58.csv',\n",
       " 'data/raw/2024-06-18_E8-0/E3/postcut/240618_GCaMP_E8.0_Exp10_E3_20x_320cyc_postcut_mid_t1_ls10_stage-1_dur-30.58.csv',\n",
       " 'data/raw/2024-06-18_E8-0/E4/precut/240618_GCaMP_E8.0_Exp10_E4_20x_320cyc_precut_mid_t1_ls10_stage-3_dur-30.58.csv',\n",
       " 'data/raw/2024-06-18_E8-0/E4/postcut/240618_GCaMP_E8.0_Exp10_E4_20x_320cyc_postcut_mid_t1_ls10_stage-3_dur-30.58.csv',\n",
       " 'data/raw/2024-06-18_E8-0/E1/precut/240618_GCaMP_E8.0_Exp10_E1_20x_320cyc_precut_mid_t1_ls10_stage-3_dur-30.58.csv',\n",
       " 'data/raw/2024-06-18_E8-0/E1/postcut/240618_GCaMP_E8.0_Exp10_E1_20x_320cyc_postcut_mid_t1_ls10_stage-3_dur-30.58.csv',\n",
       " 'data/raw/2024-06-18_E8-0/E6/precut/240618_GCaMP_E8.0_Exp10_E6_20x_320cyc_precut_mid_t1_ls10_stage-4_dur-30.58.csv',\n",
       " 'data/raw/2024-06-18_E8-0/E6/postcut/240618_GCaMP_E8.0_Exp10_E6_20x_320cyc_postcut_mid_t1_ls10_stage-4_dur-30.58.csv',\n",
       " 'data/raw/2024-06-18_E8-0/E9/precut/240618_GCaMP_E8.0_Exp10_E9_20x_320cyc_precut_mid_t1_ls10_stage-2_dur-30.58.csv',\n",
       " 'data/raw/2024-06-18_E8-0/E9/postcut/240618_GCaMP_E8.0_Exp10_E9_20x_320cyc_postcut_mid_t1_ls10_stage-2_dur-30.58.csv',\n",
       " 'data/raw/2024-06-18_E8-0/E7/precut/240618_GCaMP_E8.0_Exp10_E7_20x_320cyc_precut_mid_t1_ls10_stage-2_dur-30.58.csv',\n",
       " 'data/raw/2024-06-18_E8-0/E7/postcut/240618_GCaMP_E8.0_Exp10_E7_20x_320cyc_postcut_mid_t1_ls10_stage-2_dur-30.58.csv',\n",
       " 'data/raw/2024-05-23_E8-0/E5/precut/240523_GCaMP_E8.0_Exp6_E5_20x_320cyc_precut_mid_t1_ls10_stage-2_dur-30.58.csv',\n",
       " 'data/raw/2024-05-23_E8-0/E5/postcut/240523_GCaMP_E8.0_Exp6_E5_20x_320cyc_postcut_mid_t1_ls10_stage-2_dur-30.58.csv',\n",
       " 'data/raw/2024-05-23_E8-0/E2/precut-t1/240523_GCaMP_E8.0_Exp6_E2_20x_320cyc_precut_mid_t1_ls10_stage-1_dur-30.58.csv',\n",
       " 'data/raw/2024-05-23_E8-0/E2/precut-t0/240523_GCaMP_E8.0_Exp6_E2_20x_320cyc_precut_mid_t0_ls10_stage-1_dur-30.58.csv',\n",
       " 'data/raw/2024-05-23_E8-0/E2/postcut/240523_GCaMP_E8.0_Exp6_E2_20x_320cyc_postcut_mid_t1_ls10_stage-1_dur-30.58.csv',\n",
       " 'data/raw/2024-05-23_E8-0/E3/precut-t1/240523_GCaMP_E8.0_Exp6_E3_20x_320cyc_precut_mid_t1_ls10_stage-3_dur-30.58.csv',\n",
       " 'data/raw/2024-05-23_E8-0/E3/precut-t0/240523_GCaMP_E8.0_Exp6_E3_20x_320cyc_precut_mid_t0_ls10_stage-3_dur-30.58.csv',\n",
       " 'data/raw/2024-05-23_E8-0/E1/precut-t1/240523_GCaMP_E8.0_Exp6_E1_20x_320c_precut_mid_t1_ls10_stage-1_dur-30.58.csv',\n",
       " 'data/raw/2024-05-23_E8-0/E1/precut-t0/240523_GCaMP_E8.0_Exp6_E1_20x_320c_precut_mid_t0_ls10_stage-1_dur-30.58.csv',\n",
       " 'data/raw/2024-05-23_E8-0/E6/precut/240523_GCaMP_E8.0_Exp6_E6_20x_320cyc_precut_mid_t1_ls10_stage-1_dur-30.58.csv',\n",
       " 'data/raw/2024-05-23_E8-0/E6/postcut/240523_GCaMP_E8.0_Exp6_E6_20x_320cyc_postcut_mid_t2_ls10_stage-1_dur-30.58.csv',\n",
       " 'data/raw/2024-05-22_E8-0/E2/precut-t1/240522_GCaMP_E8.0_Exp5_E2_20x_320cyc_precut_mid_t1_ls10_stage-1_dur-30.58.csv',\n",
       " 'data/raw/2024-05-22_E8-0/E2/precut-t2/240522_GCaMP_E8.0_Exp5_E2_20x_320cyc_precut_mid_t2_ls10_stage-1_dur-30.58.csv',\n",
       " 'data/raw/2024-05-22_E8-0/E3/precut/240522_GCaMP_E8.0_Exp5_E3_20x_320cyc_precut_mid_t1_ls10_stage-3_dur-30.58.csv',\n",
       " 'data/raw/2024-05-22_E8-0/E3/postcut/240522_GCaMP_E8.0_Exp5_E3_20x_320cyc_postcut_mid_t3_ls10_stage-3_dur-30.58.csv']"
      ]
     },
     "execution_count": 2,
     "metadata": {},
     "output_type": "execute_result"
    }
   ],
   "source": [
    "csv_files: list[str] = glob.glob(f'data/raw/*/*/*/*.csv')\n",
    "print(f'{len(csv_files) = }')\n",
    "csv_files"
   ]
  },
  {
   "cell_type": "code",
   "execution_count": 3,
   "metadata": {},
   "outputs": [
    {
     "name": "stderr",
     "output_type": "stream",
     "text": [
      "data/interim/2024-05-21_E8-0/E5/precut/ already exists and has not been overwritten\n",
      "data/processed/2024-05-21_E8-0/E5/precut/ already exists and has not been overwritten\n",
      "Loaded data/raw/2024-05-21_E8-0/E5/precut/240521_GCaMP_E8.0_Exp4_E5_20x_320cyc_precut_mid_t1_ls10_stage-4_dur-30.58.csv\n",
      "Filtered columns using regex 'Mean': Mean(LL), Mean(LI), Mean(LM), Mean(RM), Mean(RI), Mean(RL)\n",
      "Min max normalised DataFrame\n",
      "Saved data/processed/2024-05-21_E8-0/E5/precut/all_roi-time_vs_fluorescence_intensity.svg\n",
      "Saved data/processed/2024-05-21_E8-0/E5/precut/left_side_l_and_m-time_vs_fluorescence_intensity.svg\n",
      "Saved data/processed/2024-05-21_E8-0/E5/precut/left_side_l_and_m-xlim_0_to_10-time_vs_fluorescence_intensity.svg\n",
      "Saved data/processed/2024-05-21_E8-0/E5/precut/right_side_l_and_m-time_vs_fluorescence_intensity.svg\n",
      "Saved data/processed/2024-05-21_E8-0/E5/precut/right_side_l_and_m-xlim_0_to_10-time_vs_fluorescence_intensity.svg\n",
      "Saved data/processed/2024-05-21_E8-0/E5/precut/left_side_i-time_vs_fluorescence_intensity.svg\n",
      "Saved data/processed/2024-05-21_E8-0/E5/precut/left_side_i-xlim_0_to_10-time_vs_fluorescence_intensity.svg\n",
      "Saved data/processed/2024-05-21_E8-0/E5/precut/right_side_i-time_vs_fluorescence_intensity.svg\n",
      "Saved data/processed/2024-05-21_E8-0/E5/precut/right_side_i-xlim_0_to_10-time_vs_fluorescence_intensity.svg\n",
      "data/interim/2024-06-07_E8-0/E5/precut-t1/ already exists and has not been overwritten\n",
      "data/processed/2024-06-07_E8-0/E5/precut-t1/ already exists and has not been overwritten\n",
      "Loaded data/raw/2024-06-07_E8-0/E5/precut-t1/240607_GCaMP_E8.0_Exp8_E5_20x_320cyc_precut_mid_t1_ls10_stage-1_dur-30.58.csv\n",
      "Filtered columns using regex 'Mean': Mean(LL), Mean(LI), Mean(LM), Mean(RM), Mean(RI), Mean(RL)\n",
      "Min max normalised DataFrame\n"
     ]
    },
    {
     "name": "stdout",
     "output_type": "stream",
     "text": [
      "Left: lateral -> medial ---> right: medial -> lateral\n",
      "Left: 0.502 +/- 0.311 ---> right: -0.08 +/- 0.3\n",
      "overall_direction = 1\n"
     ]
    },
    {
     "name": "stderr",
     "output_type": "stream",
     "text": [
      "Saved data/processed/2024-06-07_E8-0/E5/precut-t1/all_roi-time_vs_fluorescence_intensity.svg\n",
      "Saved data/processed/2024-06-07_E8-0/E5/precut-t1/left_side_l_and_m-time_vs_fluorescence_intensity.svg\n",
      "Saved data/processed/2024-06-07_E8-0/E5/precut-t1/left_side_l_and_m-xlim_0_to_10-time_vs_fluorescence_intensity.svg\n",
      "Saved data/processed/2024-06-07_E8-0/E5/precut-t1/right_side_l_and_m-time_vs_fluorescence_intensity.svg\n",
      "Saved data/processed/2024-06-07_E8-0/E5/precut-t1/right_side_l_and_m-xlim_0_to_10-time_vs_fluorescence_intensity.svg\n",
      "Saved data/processed/2024-06-07_E8-0/E5/precut-t1/left_side_i-time_vs_fluorescence_intensity.svg\n",
      "Saved data/processed/2024-06-07_E8-0/E5/precut-t1/left_side_i-xlim_0_to_10-time_vs_fluorescence_intensity.svg\n",
      "Saved data/processed/2024-06-07_E8-0/E5/precut-t1/right_side_i-time_vs_fluorescence_intensity.svg\n",
      "Saved data/processed/2024-06-07_E8-0/E5/precut-t1/right_side_i-xlim_0_to_10-time_vs_fluorescence_intensity.svg\n",
      "data/interim/2024-06-07_E8-0/E5/precut-t0/ already exists and has not been overwritten\n",
      "data/processed/2024-06-07_E8-0/E5/precut-t0/ already exists and has not been overwritten\n",
      "Loaded data/raw/2024-06-07_E8-0/E5/precut-t0/240607_GCaMP_E8.0_Exp8_E5_20x_320cyc_precut_mid_t0_ls10_stage-1_dur-30.58.csv\n",
      "Filtered columns using regex 'Mean': Mean(LL), Mean(LI), Mean(LM), Mean(RM), Mean(RI), Mean(RL)\n",
      "Min max normalised DataFrame\n",
      "Saved data/processed/2024-06-07_E8-0/E5/precut-t0/all_roi-time_vs_fluorescence_intensity.svg\n"
     ]
    },
    {
     "name": "stdout",
     "output_type": "stream",
     "text": [
      "Left: lateral -> medial ---> right: medial -> lateral\n",
      "Left: 1.877 +/- 0.23 ---> right: -0.927 +/- 0.17\n",
      "overall_direction = 1\n"
     ]
    },
    {
     "name": "stderr",
     "output_type": "stream",
     "text": [
      "Saved data/processed/2024-06-07_E8-0/E5/precut-t0/left_side_l_and_m-time_vs_fluorescence_intensity.svg\n",
      "Saved data/processed/2024-06-07_E8-0/E5/precut-t0/left_side_l_and_m-xlim_0_to_10-time_vs_fluorescence_intensity.svg\n",
      "Saved data/processed/2024-06-07_E8-0/E5/precut-t0/right_side_l_and_m-time_vs_fluorescence_intensity.svg\n",
      "Saved data/processed/2024-06-07_E8-0/E5/precut-t0/right_side_l_and_m-xlim_0_to_10-time_vs_fluorescence_intensity.svg\n",
      "Saved data/processed/2024-06-07_E8-0/E5/precut-t0/left_side_i-time_vs_fluorescence_intensity.svg\n",
      "Saved data/processed/2024-06-07_E8-0/E5/precut-t0/left_side_i-xlim_0_to_10-time_vs_fluorescence_intensity.svg\n",
      "Saved data/processed/2024-06-07_E8-0/E5/precut-t0/right_side_i-time_vs_fluorescence_intensity.svg\n",
      "Saved data/processed/2024-06-07_E8-0/E5/precut-t0/right_side_i-xlim_0_to_10-time_vs_fluorescence_intensity.svg\n",
      "data/interim/2024-06-07_E8-0/E5/postcut/ already exists and has not been overwritten\n",
      "data/processed/2024-06-07_E8-0/E5/postcut/ already exists and has not been overwritten\n",
      "Loaded data/raw/2024-06-07_E8-0/E5/postcut/240607_GCaMP_E8.0_Exp8_E5_20x_320cyc_postcut_mid_t1_ls10_stage-1_dur-30.58.csv\n",
      "Filtered columns using regex 'Mean': Mean(LL), Mean(LI), Mean(LM), Mean(RM), Mean(RI), Mean(RL)\n",
      "Min max normalised DataFrame\n",
      "Saved data/processed/2024-06-07_E8-0/E5/postcut/all_roi-time_vs_fluorescence_intensity.svg\n"
     ]
    },
    {
     "name": "stdout",
     "output_type": "stream",
     "text": [
      "Left: lateral -> medial ---> right: medial -> lateral\n",
      "Left: 1.203 +/- 0.261 ---> right: -0.403 +/- 0.248\n",
      "overall_direction = 1\n"
     ]
    },
    {
     "name": "stderr",
     "output_type": "stream",
     "text": [
      "Saved data/processed/2024-06-07_E8-0/E5/postcut/left_side_l_and_m-time_vs_fluorescence_intensity.svg\n",
      "Saved data/processed/2024-06-07_E8-0/E5/postcut/left_side_l_and_m-xlim_0_to_10-time_vs_fluorescence_intensity.svg\n",
      "Saved data/processed/2024-06-07_E8-0/E5/postcut/right_side_l_and_m-time_vs_fluorescence_intensity.svg\n",
      "Saved data/processed/2024-06-07_E8-0/E5/postcut/right_side_l_and_m-xlim_0_to_10-time_vs_fluorescence_intensity.svg\n",
      "Saved data/processed/2024-06-07_E8-0/E5/postcut/left_side_i-time_vs_fluorescence_intensity.svg\n",
      "Saved data/processed/2024-06-07_E8-0/E5/postcut/left_side_i-xlim_0_to_10-time_vs_fluorescence_intensity.svg\n",
      "Saved data/processed/2024-06-07_E8-0/E5/postcut/right_side_i-time_vs_fluorescence_intensity.svg\n",
      "Saved data/processed/2024-06-07_E8-0/E5/postcut/right_side_i-xlim_0_to_10-time_vs_fluorescence_intensity.svg\n",
      "data/interim/2024-06-07_E8-0/E2/precut/ already exists and has not been overwritten\n",
      "data/processed/2024-06-07_E8-0/E2/precut/ already exists and has not been overwritten\n",
      "Loaded data/raw/2024-06-07_E8-0/E2/precut/240607_GCaMP_E8.0_Exp8_E2_20x_320cyc_precut_mid_t1_ls10_stage-2_dur-30.58.csv\n",
      "Filtered columns using regex 'Mean': Mean(LL), Mean(LI), Mean(LM), Mean(RM), Mean(RI), Mean(RL)\n",
      "Min max normalised DataFrame\n",
      "Saved data/processed/2024-06-07_E8-0/E2/precut/all_roi-time_vs_fluorescence_intensity.svg\n"
     ]
    },
    {
     "name": "stdout",
     "output_type": "stream",
     "text": [
      "Left: lateral -> medial ---> right: lateral -> medial\n",
      "Left: 2.522 +/- 3.349 ---> right: 0.626 +/- 0.192\n",
      "overall_direction = 3\n"
     ]
    },
    {
     "name": "stderr",
     "output_type": "stream",
     "text": [
      "Saved data/processed/2024-06-07_E8-0/E2/precut/left_side_l_and_m-time_vs_fluorescence_intensity.svg\n",
      "Saved data/processed/2024-06-07_E8-0/E2/precut/left_side_l_and_m-xlim_0_to_10-time_vs_fluorescence_intensity.svg\n",
      "Saved data/processed/2024-06-07_E8-0/E2/precut/right_side_l_and_m-time_vs_fluorescence_intensity.svg\n",
      "Saved data/processed/2024-06-07_E8-0/E2/precut/right_side_l_and_m-xlim_0_to_10-time_vs_fluorescence_intensity.svg\n",
      "Saved data/processed/2024-06-07_E8-0/E2/precut/left_side_i-time_vs_fluorescence_intensity.svg\n",
      "Saved data/processed/2024-06-07_E8-0/E2/precut/left_side_i-xlim_0_to_10-time_vs_fluorescence_intensity.svg\n",
      "Saved data/processed/2024-06-07_E8-0/E2/precut/right_side_i-time_vs_fluorescence_intensity.svg\n",
      "Saved data/processed/2024-06-07_E8-0/E2/precut/right_side_i-xlim_0_to_10-time_vs_fluorescence_intensity.svg\n",
      "data/interim/2024-06-07_E8-0/E2/postcut/ already exists and has not been overwritten\n",
      "data/processed/2024-06-07_E8-0/E2/postcut/ already exists and has not been overwritten\n",
      "Loaded data/raw/2024-06-07_E8-0/E2/postcut/240607_GCaMP_E8.0_Exp8_E2_20x_320cyc_postcut_mid_t1_ls10_stage-2_dur-30.58.csv\n",
      "Filtered columns using regex 'Mean': Mean(LL), Mean(LI), Mean(LM), Mean(RM), Mean(RI), Mean(RL)\n",
      "Min max normalised DataFrame\n",
      "Saved data/processed/2024-06-07_E8-0/E2/postcut/all_roi-time_vs_fluorescence_intensity.svg\n"
     ]
    },
    {
     "name": "stdout",
     "output_type": "stream",
     "text": [
      "Left: medial -> lateral ---> right: lateral -> medial\n",
      "Left: -0.231 +/- 0.364 ---> right: 0.666 +/- 0.203\n",
      "overall_direction = 2\n"
     ]
    },
    {
     "name": "stderr",
     "output_type": "stream",
     "text": [
      "Saved data/processed/2024-06-07_E8-0/E2/postcut/left_side_l_and_m-time_vs_fluorescence_intensity.svg\n",
      "Saved data/processed/2024-06-07_E8-0/E2/postcut/left_side_l_and_m-xlim_0_to_10-time_vs_fluorescence_intensity.svg\n",
      "Saved data/processed/2024-06-07_E8-0/E2/postcut/right_side_l_and_m-time_vs_fluorescence_intensity.svg\n",
      "Saved data/processed/2024-06-07_E8-0/E2/postcut/right_side_l_and_m-xlim_0_to_10-time_vs_fluorescence_intensity.svg\n",
      "Saved data/processed/2024-06-07_E8-0/E2/postcut/left_side_i-time_vs_fluorescence_intensity.svg\n",
      "Saved data/processed/2024-06-07_E8-0/E2/postcut/left_side_i-xlim_0_to_10-time_vs_fluorescence_intensity.svg\n",
      "Saved data/processed/2024-06-07_E8-0/E2/postcut/right_side_i-time_vs_fluorescence_intensity.svg\n",
      "Saved data/processed/2024-06-07_E8-0/E2/postcut/right_side_i-xlim_0_to_10-time_vs_fluorescence_intensity.svg\n",
      "data/interim/2024-06-07_E8-0/E3/precut/ already exists and has not been overwritten\n",
      "data/processed/2024-06-07_E8-0/E3/precut/ already exists and has not been overwritten\n",
      "Loaded data/raw/2024-06-07_E8-0/E3/precut/240607_GCaMP_E8.0_Exp8_E3_20x_320cyc_precut_mid_t1_ls10_stage-1_dur-30.58.csv\n",
      "Filtered columns using regex 'Mean': Mean(LL), Mean(LI), Mean(LM), Mean(RM), Mean(RI), Mean(RL)\n",
      "Min max normalised DataFrame\n",
      "Saved data/processed/2024-06-07_E8-0/E3/precut/all_roi-time_vs_fluorescence_intensity.svg\n"
     ]
    },
    {
     "name": "stdout",
     "output_type": "stream",
     "text": [
      "Left: lateral -> medial ---> right: lateral -> medial\n",
      "Left: 0.867 +/- 0.39 ---> right: 0.877 +/- 0.394\n",
      "overall_direction = 3\n"
     ]
    },
    {
     "name": "stderr",
     "output_type": "stream",
     "text": [
      "Saved data/processed/2024-06-07_E8-0/E3/precut/left_side_l_and_m-time_vs_fluorescence_intensity.svg\n",
      "Saved data/processed/2024-06-07_E8-0/E3/precut/left_side_l_and_m-xlim_0_to_10-time_vs_fluorescence_intensity.svg\n",
      "Saved data/processed/2024-06-07_E8-0/E3/precut/right_side_l_and_m-time_vs_fluorescence_intensity.svg\n",
      "Saved data/processed/2024-06-07_E8-0/E3/precut/right_side_l_and_m-xlim_0_to_10-time_vs_fluorescence_intensity.svg\n",
      "Saved data/processed/2024-06-07_E8-0/E3/precut/left_side_i-time_vs_fluorescence_intensity.svg\n",
      "Saved data/processed/2024-06-07_E8-0/E3/precut/left_side_i-xlim_0_to_10-time_vs_fluorescence_intensity.svg\n",
      "Saved data/processed/2024-06-07_E8-0/E3/precut/right_side_i-time_vs_fluorescence_intensity.svg\n",
      "Saved data/processed/2024-06-07_E8-0/E3/precut/right_side_i-xlim_0_to_10-time_vs_fluorescence_intensity.svg\n",
      "data/interim/2024-06-07_E8-0/E3/postcut/ already exists and has not been overwritten\n",
      "data/processed/2024-06-07_E8-0/E3/postcut/ already exists and has not been overwritten\n",
      "Loaded data/raw/2024-06-07_E8-0/E3/postcut/240607_GCaMP_E8.0_Exp8_E3_20x_320cyc_postcut_mid_t1_ls10_stage-1_dur-30.58.csv\n",
      "Filtered columns using regex 'Mean': Mean(LL), Mean(LI), Mean(LM), Mean(RM), Mean(RI), Mean(RL)\n",
      "Min max normalised DataFrame\n",
      "Saved data/processed/2024-06-07_E8-0/E3/postcut/all_roi-time_vs_fluorescence_intensity.svg\n"
     ]
    },
    {
     "name": "stdout",
     "output_type": "stream",
     "text": [
      "Left: lateral -> medial ---> right: medial -> lateral\n",
      "Left: 1.022 +/- 0.211 ---> right: -0.759 +/- 0.285\n",
      "overall_direction = 1\n"
     ]
    },
    {
     "name": "stderr",
     "output_type": "stream",
     "text": [
      "Saved data/processed/2024-06-07_E8-0/E3/postcut/left_side_l_and_m-time_vs_fluorescence_intensity.svg\n",
      "Saved data/processed/2024-06-07_E8-0/E3/postcut/left_side_l_and_m-xlim_0_to_10-time_vs_fluorescence_intensity.svg\n",
      "Saved data/processed/2024-06-07_E8-0/E3/postcut/right_side_l_and_m-time_vs_fluorescence_intensity.svg\n",
      "Saved data/processed/2024-06-07_E8-0/E3/postcut/right_side_l_and_m-xlim_0_to_10-time_vs_fluorescence_intensity.svg\n",
      "Saved data/processed/2024-06-07_E8-0/E3/postcut/left_side_i-time_vs_fluorescence_intensity.svg\n",
      "Saved data/processed/2024-06-07_E8-0/E3/postcut/left_side_i-xlim_0_to_10-time_vs_fluorescence_intensity.svg\n",
      "Saved data/processed/2024-06-07_E8-0/E3/postcut/right_side_i-time_vs_fluorescence_intensity.svg\n",
      "Saved data/processed/2024-06-07_E8-0/E3/postcut/right_side_i-xlim_0_to_10-time_vs_fluorescence_intensity.svg\n",
      "data/interim/2024-06-07_E8-0/E4/precut/ already exists and has not been overwritten\n",
      "data/processed/2024-06-07_E8-0/E4/precut/ already exists and has not been overwritten\n",
      "Loaded data/raw/2024-06-07_E8-0/E4/precut/240607_GCaMP_E8.0_Exp8_E4_20x_320cyc_precut_mid_t1_ls10_stage-2_dur-30.58.csv\n",
      "Filtered columns using regex 'Mean': Mean(LL), Mean(LI), Mean(LM), Mean(RM), Mean(RI), Mean(RL)\n",
      "Min max normalised DataFrame\n",
      "Saved data/processed/2024-06-07_E8-0/E4/precut/all_roi-time_vs_fluorescence_intensity.svg\n"
     ]
    },
    {
     "name": "stdout",
     "output_type": "stream",
     "text": [
      "Left: lateral -> medial ---> right: lateral -> medial\n",
      "Left: 1.326 +/- 0.309 ---> right: 0.902 +/- 0.554\n",
      "overall_direction = 3\n"
     ]
    },
    {
     "name": "stderr",
     "output_type": "stream",
     "text": [
      "Saved data/processed/2024-06-07_E8-0/E4/precut/left_side_l_and_m-time_vs_fluorescence_intensity.svg\n",
      "Saved data/processed/2024-06-07_E8-0/E4/precut/left_side_l_and_m-xlim_0_to_10-time_vs_fluorescence_intensity.svg\n",
      "Saved data/processed/2024-06-07_E8-0/E4/precut/right_side_l_and_m-time_vs_fluorescence_intensity.svg\n",
      "Saved data/processed/2024-06-07_E8-0/E4/precut/right_side_l_and_m-xlim_0_to_10-time_vs_fluorescence_intensity.svg\n",
      "Saved data/processed/2024-06-07_E8-0/E4/precut/left_side_i-time_vs_fluorescence_intensity.svg\n",
      "Saved data/processed/2024-06-07_E8-0/E4/precut/left_side_i-xlim_0_to_10-time_vs_fluorescence_intensity.svg\n",
      "Saved data/processed/2024-06-07_E8-0/E4/precut/right_side_i-time_vs_fluorescence_intensity.svg\n",
      "Saved data/processed/2024-06-07_E8-0/E4/precut/right_side_i-xlim_0_to_10-time_vs_fluorescence_intensity.svg\n",
      "data/interim/2024-06-07_E8-0/E4/postcut/ already exists and has not been overwritten\n",
      "data/processed/2024-06-07_E8-0/E4/postcut/ already exists and has not been overwritten\n",
      "Loaded data/raw/2024-06-07_E8-0/E4/postcut/240607_GCaMP_E8.0_Exp8_E4_20x_320cyc_postcut_mid_t1_ls10_stage-2_dur-30.58.csv\n",
      "Filtered columns using regex 'Mean': Mean(LL), Mean(LI), Mean(LM), Mean(RM), Mean(RI), Mean(RL)\n",
      "Min max normalised DataFrame\n",
      "Saved data/processed/2024-06-07_E8-0/E4/postcut/all_roi-time_vs_fluorescence_intensity.svg\n"
     ]
    },
    {
     "name": "stdout",
     "output_type": "stream",
     "text": [
      "Left: lateral -> medial ---> right: lateral -> medial\n",
      "Left: 1.065 +/- 0.165 ---> right: 1.421 +/- 0.21\n",
      "overall_direction = 3\n"
     ]
    },
    {
     "name": "stderr",
     "output_type": "stream",
     "text": [
      "Saved data/processed/2024-06-07_E8-0/E4/postcut/left_side_l_and_m-time_vs_fluorescence_intensity.svg\n",
      "Saved data/processed/2024-06-07_E8-0/E4/postcut/left_side_l_and_m-xlim_0_to_10-time_vs_fluorescence_intensity.svg\n",
      "Saved data/processed/2024-06-07_E8-0/E4/postcut/right_side_l_and_m-time_vs_fluorescence_intensity.svg\n",
      "Saved data/processed/2024-06-07_E8-0/E4/postcut/right_side_l_and_m-xlim_0_to_10-time_vs_fluorescence_intensity.svg\n",
      "Saved data/processed/2024-06-07_E8-0/E4/postcut/left_side_i-time_vs_fluorescence_intensity.svg\n",
      "Saved data/processed/2024-06-07_E8-0/E4/postcut/left_side_i-xlim_0_to_10-time_vs_fluorescence_intensity.svg\n",
      "Saved data/processed/2024-06-07_E8-0/E4/postcut/right_side_i-time_vs_fluorescence_intensity.svg\n",
      "Saved data/processed/2024-06-07_E8-0/E4/postcut/right_side_i-xlim_0_to_10-time_vs_fluorescence_intensity.svg\n",
      "data/interim/2024-06-07_E8-0/E10/precut/ already exists and has not been overwritten\n",
      "data/processed/2024-06-07_E8-0/E10/precut/ already exists and has not been overwritten\n",
      "Loaded data/raw/2024-06-07_E8-0/E10/precut/240607_GCaMP_E8.0_Exp8_E10_20x_320cyc_precut_mid_t1_ls10_stage-1_dur-30.58.csv\n",
      "Filtered columns using regex 'Mean': Mean(LL), Mean(LI), Mean(LM), Mean(RM), Mean(RI), Mean(RL)\n",
      "Min max normalised DataFrame\n",
      "Saved data/processed/2024-06-07_E8-0/E10/precut/all_roi-time_vs_fluorescence_intensity.svg\n"
     ]
    },
    {
     "name": "stdout",
     "output_type": "stream",
     "text": [
      "Trying RM - RI\n",
      "Left: lateral -> medial ---> right: lateral -> medial\n",
      "Left: 1.662 +/- 0.306 ---> right: 0.209 +/- 0.373\n",
      "overall_direction = 3\n"
     ]
    },
    {
     "name": "stderr",
     "output_type": "stream",
     "text": [
      "Saved data/processed/2024-06-07_E8-0/E10/precut/left_side_l_and_m-time_vs_fluorescence_intensity.svg\n",
      "Saved data/processed/2024-06-07_E8-0/E10/precut/left_side_l_and_m-xlim_0_to_10-time_vs_fluorescence_intensity.svg\n",
      "Saved data/processed/2024-06-07_E8-0/E10/precut/right_side_l_and_m-time_vs_fluorescence_intensity.svg\n",
      "Saved data/processed/2024-06-07_E8-0/E10/precut/right_side_l_and_m-xlim_0_to_10-time_vs_fluorescence_intensity.svg\n",
      "Saved data/processed/2024-06-07_E8-0/E10/precut/left_side_i-time_vs_fluorescence_intensity.svg\n",
      "Saved data/processed/2024-06-07_E8-0/E10/precut/left_side_i-xlim_0_to_10-time_vs_fluorescence_intensity.svg\n",
      "Saved data/processed/2024-06-07_E8-0/E10/precut/right_side_i-time_vs_fluorescence_intensity.svg\n",
      "Saved data/processed/2024-06-07_E8-0/E10/precut/right_side_i-xlim_0_to_10-time_vs_fluorescence_intensity.svg\n",
      "data/interim/2024-06-07_E8-0/E10/postcut/ already exists and has not been overwritten\n",
      "data/processed/2024-06-07_E8-0/E10/postcut/ already exists and has not been overwritten\n",
      "Loaded data/raw/2024-06-07_E8-0/E10/postcut/240607_GCaMP_E8.0_Exp8_E10_20x_320cyc_postcut_mid_t1_ls10_stage-1_dur-30.58.csv\n",
      "Filtered columns using regex 'Mean': Mean(LL), Mean(LI), Mean(LM), Mean(RM), Mean(RI), Mean(RL)\n",
      "Min max normalised DataFrame\n",
      "Saved data/processed/2024-06-07_E8-0/E10/postcut/all_roi-time_vs_fluorescence_intensity.svg\n"
     ]
    },
    {
     "name": "stdout",
     "output_type": "stream",
     "text": [
      "Left: lateral -> medial ---> right: lateral -> medial\n",
      "Left: 0.817 +/- 0.341 ---> right: 0.222 +/- 0.245\n",
      "overall_direction = 3\n"
     ]
    },
    {
     "name": "stderr",
     "output_type": "stream",
     "text": [
      "Saved data/processed/2024-06-07_E8-0/E10/postcut/left_side_l_and_m-time_vs_fluorescence_intensity.svg\n",
      "Saved data/processed/2024-06-07_E8-0/E10/postcut/left_side_l_and_m-xlim_0_to_10-time_vs_fluorescence_intensity.svg\n",
      "Saved data/processed/2024-06-07_E8-0/E10/postcut/right_side_l_and_m-time_vs_fluorescence_intensity.svg\n",
      "Saved data/processed/2024-06-07_E8-0/E10/postcut/right_side_l_and_m-xlim_0_to_10-time_vs_fluorescence_intensity.svg\n",
      "Saved data/processed/2024-06-07_E8-0/E10/postcut/left_side_i-time_vs_fluorescence_intensity.svg\n",
      "Saved data/processed/2024-06-07_E8-0/E10/postcut/left_side_i-xlim_0_to_10-time_vs_fluorescence_intensity.svg\n",
      "Saved data/processed/2024-06-07_E8-0/E10/postcut/right_side_i-time_vs_fluorescence_intensity.svg\n",
      "Saved data/processed/2024-06-07_E8-0/E10/postcut/right_side_i-xlim_0_to_10-time_vs_fluorescence_intensity.svg\n",
      "data/interim/2024-06-07_E8-0/E1/precut/ already exists and has not been overwritten\n",
      "data/processed/2024-06-07_E8-0/E1/precut/ already exists and has not been overwritten\n",
      "Loaded data/raw/2024-06-07_E8-0/E1/precut/240607_GCaMP_E8.0_Exp8_E1_20x_320cyc_precut_mid_t1_ls10_stage-2_dur-30.58.csv\n",
      "Filtered columns using regex 'Mean': Mean(LL), Mean(LI), Mean(LM), Mean(RM), Mean(RI), Mean(RL)\n",
      "Min max normalised DataFrame\n",
      "Saved data/processed/2024-06-07_E8-0/E1/precut/all_roi-time_vs_fluorescence_intensity.svg\n"
     ]
    },
    {
     "name": "stdout",
     "output_type": "stream",
     "text": [
      "Left: lateral -> medial ---> right: lateral -> medial\n",
      "Left: 0.44 +/- 0.355 ---> right: 0.389 +/- 0.253\n",
      "overall_direction = 3\n"
     ]
    },
    {
     "name": "stderr",
     "output_type": "stream",
     "text": [
      "Saved data/processed/2024-06-07_E8-0/E1/precut/left_side_l_and_m-time_vs_fluorescence_intensity.svg\n",
      "Saved data/processed/2024-06-07_E8-0/E1/precut/left_side_l_and_m-xlim_0_to_10-time_vs_fluorescence_intensity.svg\n",
      "Saved data/processed/2024-06-07_E8-0/E1/precut/right_side_l_and_m-time_vs_fluorescence_intensity.svg\n",
      "Saved data/processed/2024-06-07_E8-0/E1/precut/right_side_l_and_m-xlim_0_to_10-time_vs_fluorescence_intensity.svg\n",
      "Saved data/processed/2024-06-07_E8-0/E1/precut/left_side_i-time_vs_fluorescence_intensity.svg\n",
      "Saved data/processed/2024-06-07_E8-0/E1/precut/left_side_i-xlim_0_to_10-time_vs_fluorescence_intensity.svg\n",
      "Saved data/processed/2024-06-07_E8-0/E1/precut/right_side_i-time_vs_fluorescence_intensity.svg\n",
      "Saved data/processed/2024-06-07_E8-0/E1/precut/right_side_i-xlim_0_to_10-time_vs_fluorescence_intensity.svg\n",
      "data/interim/2024-06-07_E8-0/E1/postcut/ already exists and has not been overwritten\n",
      "data/processed/2024-06-07_E8-0/E1/postcut/ already exists and has not been overwritten\n",
      "Loaded data/raw/2024-06-07_E8-0/E1/postcut/240607_GCaMP_E8.0_Exp8_E1_20x_320cyc_postcut_mid_t1_ls10_stage-2_dur-45.27.csv\n",
      "Filtered columns using regex 'Mean': Mean(LL), Mean(LI), Mean(LM), Mean(RM), Mean(RI), Mean(RL)\n",
      "Min max normalised DataFrame\n",
      "Saved data/processed/2024-06-07_E8-0/E1/postcut/all_roi-time_vs_fluorescence_intensity.svg\n"
     ]
    },
    {
     "name": "stdout",
     "output_type": "stream",
     "text": [
      "Left: lateral -> medial ---> right: medial -> lateral\n",
      "Left: 1.302 +/- 0.202 ---> right: -0.631 +/- 0.188\n",
      "overall_direction = 1\n"
     ]
    },
    {
     "name": "stderr",
     "output_type": "stream",
     "text": [
      "Saved data/processed/2024-06-07_E8-0/E1/postcut/left_side_l_and_m-time_vs_fluorescence_intensity.svg\n",
      "Saved data/processed/2024-06-07_E8-0/E1/postcut/left_side_l_and_m-xlim_0_to_10-time_vs_fluorescence_intensity.svg\n",
      "Saved data/processed/2024-06-07_E8-0/E1/postcut/right_side_l_and_m-time_vs_fluorescence_intensity.svg\n",
      "Saved data/processed/2024-06-07_E8-0/E1/postcut/right_side_l_and_m-xlim_0_to_10-time_vs_fluorescence_intensity.svg\n",
      "Saved data/processed/2024-06-07_E8-0/E1/postcut/left_side_i-time_vs_fluorescence_intensity.svg\n",
      "Saved data/processed/2024-06-07_E8-0/E1/postcut/left_side_i-xlim_0_to_10-time_vs_fluorescence_intensity.svg\n",
      "Saved data/processed/2024-06-07_E8-0/E1/postcut/right_side_i-time_vs_fluorescence_intensity.svg\n",
      "Saved data/processed/2024-06-07_E8-0/E1/postcut/right_side_i-xlim_0_to_10-time_vs_fluorescence_intensity.svg\n",
      "data/interim/2024-06-07_E8-0/E6/precut-t1/ already exists and has not been overwritten\n",
      "data/processed/2024-06-07_E8-0/E6/precut-t1/ already exists and has not been overwritten\n",
      "Loaded data/raw/2024-06-07_E8-0/E6/precut-t1/240607_GCaMP_E8.0_Exp8_E6_20x_320cyc_precut_mid_t1_ls10_stage-1_dur-30.58.csv\n",
      "Filtered columns using regex 'Mean': Mean(LL), Mean(LI), Mean(LM), Mean(RM), Mean(RI), Mean(RL)\n",
      "Min max normalised DataFrame\n",
      "Saved data/processed/2024-06-07_E8-0/E6/precut-t1/all_roi-time_vs_fluorescence_intensity.svg\n"
     ]
    },
    {
     "name": "stdout",
     "output_type": "stream",
     "text": [
      "Left: lateral -> medial ---> right: lateral -> medial\n",
      "Left: 0.324 +/- 0.364 ---> right: 0.719 +/- 0.698\n",
      "overall_direction = 3\n"
     ]
    },
    {
     "name": "stderr",
     "output_type": "stream",
     "text": [
      "Saved data/processed/2024-06-07_E8-0/E6/precut-t1/left_side_l_and_m-time_vs_fluorescence_intensity.svg\n",
      "Saved data/processed/2024-06-07_E8-0/E6/precut-t1/left_side_l_and_m-xlim_0_to_10-time_vs_fluorescence_intensity.svg\n",
      "Saved data/processed/2024-06-07_E8-0/E6/precut-t1/right_side_l_and_m-time_vs_fluorescence_intensity.svg\n",
      "Saved data/processed/2024-06-07_E8-0/E6/precut-t1/right_side_l_and_m-xlim_0_to_10-time_vs_fluorescence_intensity.svg\n",
      "Saved data/processed/2024-06-07_E8-0/E6/precut-t1/left_side_i-time_vs_fluorescence_intensity.svg\n",
      "Saved data/processed/2024-06-07_E8-0/E6/precut-t1/left_side_i-xlim_0_to_10-time_vs_fluorescence_intensity.svg\n",
      "Saved data/processed/2024-06-07_E8-0/E6/precut-t1/right_side_i-time_vs_fluorescence_intensity.svg\n",
      "Saved data/processed/2024-06-07_E8-0/E6/precut-t1/right_side_i-xlim_0_to_10-time_vs_fluorescence_intensity.svg\n",
      "data/interim/2024-06-07_E8-0/E6/precut-t0/ already exists and has not been overwritten\n",
      "data/processed/2024-06-07_E8-0/E6/precut-t0/ already exists and has not been overwritten\n",
      "Loaded data/raw/2024-06-07_E8-0/E6/precut-t0/240607_GCaMP_E8.0_Exp8_E6_20x_320cyc_precut_mid_t0_ls10_stage-1_dur-30.58.csv\n",
      "Filtered columns using regex 'Mean': Mean(LL), Mean(LI), Mean(LM), Mean(RM), Mean(RI), Mean(RL)\n",
      "Min max normalised DataFrame\n",
      "Saved data/processed/2024-06-07_E8-0/E6/precut-t0/all_roi-time_vs_fluorescence_intensity.svg\n"
     ]
    },
    {
     "name": "stdout",
     "output_type": "stream",
     "text": [
      "Left: lateral -> medial ---> right: medial -> lateral\n",
      "Left: 0.281 +/- 0.279 ---> right: -0.692 +/- 0.194\n",
      "overall_direction = 1\n"
     ]
    },
    {
     "name": "stderr",
     "output_type": "stream",
     "text": [
      "Saved data/processed/2024-06-07_E8-0/E6/precut-t0/left_side_l_and_m-time_vs_fluorescence_intensity.svg\n",
      "Saved data/processed/2024-06-07_E8-0/E6/precut-t0/left_side_l_and_m-xlim_0_to_10-time_vs_fluorescence_intensity.svg\n",
      "Saved data/processed/2024-06-07_E8-0/E6/precut-t0/right_side_l_and_m-time_vs_fluorescence_intensity.svg\n",
      "Saved data/processed/2024-06-07_E8-0/E6/precut-t0/right_side_l_and_m-xlim_0_to_10-time_vs_fluorescence_intensity.svg\n",
      "Saved data/processed/2024-06-07_E8-0/E6/precut-t0/left_side_i-time_vs_fluorescence_intensity.svg\n",
      "Saved data/processed/2024-06-07_E8-0/E6/precut-t0/left_side_i-xlim_0_to_10-time_vs_fluorescence_intensity.svg\n",
      "Saved data/processed/2024-06-07_E8-0/E6/precut-t0/right_side_i-time_vs_fluorescence_intensity.svg\n",
      "Saved data/processed/2024-06-07_E8-0/E6/precut-t0/right_side_i-xlim_0_to_10-time_vs_fluorescence_intensity.svg\n",
      "data/interim/2024-06-07_E8-0/E6/postcut/ already exists and has not been overwritten\n",
      "data/processed/2024-06-07_E8-0/E6/postcut/ already exists and has not been overwritten\n",
      "Loaded data/raw/2024-06-07_E8-0/E6/postcut/240607_GCaMP_E8.0_Exp8_E6_20x_320cyc_postcut_mid_t1_ls10_stage-1_dur-30.58.csv\n",
      "Filtered columns using regex 'Mean': Mean(LL), Mean(LI), Mean(LM), Mean(RM), Mean(RI), Mean(RL)\n",
      "Min max normalised DataFrame\n",
      "Saved data/processed/2024-06-07_E8-0/E6/postcut/all_roi-time_vs_fluorescence_intensity.svg\n"
     ]
    },
    {
     "name": "stdout",
     "output_type": "stream",
     "text": [
      "Left: lateral -> medial ---> right: medial -> lateral\n",
      "Left: 0.282 +/- 0.166 ---> right: -0.691 +/- 0.245\n",
      "overall_direction = 1\n"
     ]
    },
    {
     "name": "stderr",
     "output_type": "stream",
     "text": [
      "Saved data/processed/2024-06-07_E8-0/E6/postcut/left_side_l_and_m-time_vs_fluorescence_intensity.svg\n",
      "Saved data/processed/2024-06-07_E8-0/E6/postcut/left_side_l_and_m-xlim_0_to_10-time_vs_fluorescence_intensity.svg\n",
      "Saved data/processed/2024-06-07_E8-0/E6/postcut/right_side_l_and_m-time_vs_fluorescence_intensity.svg\n",
      "Saved data/processed/2024-06-07_E8-0/E6/postcut/right_side_l_and_m-xlim_0_to_10-time_vs_fluorescence_intensity.svg\n",
      "Saved data/processed/2024-06-07_E8-0/E6/postcut/left_side_i-time_vs_fluorescence_intensity.svg\n",
      "Saved data/processed/2024-06-07_E8-0/E6/postcut/left_side_i-xlim_0_to_10-time_vs_fluorescence_intensity.svg\n",
      "Saved data/processed/2024-06-07_E8-0/E6/postcut/right_side_i-time_vs_fluorescence_intensity.svg\n",
      "Saved data/processed/2024-06-07_E8-0/E6/postcut/right_side_i-xlim_0_to_10-time_vs_fluorescence_intensity.svg\n",
      "data/interim/2024-06-07_E8-0/E8/precut-t1/ already exists and has not been overwritten\n",
      "data/processed/2024-06-07_E8-0/E8/precut-t1/ already exists and has not been overwritten\n",
      "Loaded data/raw/2024-06-07_E8-0/E8/precut-t1/240607_GCaMP_E8.0_Exp8_E8_20x_320cyc_precut_mid_t1_ls10_stage-2_dur-30.58.csv\n",
      "Filtered columns using regex 'Mean': Mean(LL), Mean(LI), Mean(LM), Mean(RM), Mean(RI), Mean(RL)\n",
      "Min max normalised DataFrame\n",
      "Saved data/processed/2024-06-07_E8-0/E8/precut-t1/all_roi-time_vs_fluorescence_intensity.svg\n"
     ]
    },
    {
     "name": "stdout",
     "output_type": "stream",
     "text": [
      "Left: lateral -> medial ---> right: medial -> lateral\n",
      "Left: 0.539 +/- 0.321 ---> right: -0.48 +/- 0.305\n",
      "overall_direction = 1\n"
     ]
    },
    {
     "name": "stderr",
     "output_type": "stream",
     "text": [
      "Saved data/processed/2024-06-07_E8-0/E8/precut-t1/left_side_l_and_m-time_vs_fluorescence_intensity.svg\n",
      "Saved data/processed/2024-06-07_E8-0/E8/precut-t1/left_side_l_and_m-xlim_0_to_10-time_vs_fluorescence_intensity.svg\n",
      "Saved data/processed/2024-06-07_E8-0/E8/precut-t1/right_side_l_and_m-time_vs_fluorescence_intensity.svg\n",
      "Saved data/processed/2024-06-07_E8-0/E8/precut-t1/right_side_l_and_m-xlim_0_to_10-time_vs_fluorescence_intensity.svg\n",
      "Saved data/processed/2024-06-07_E8-0/E8/precut-t1/left_side_i-time_vs_fluorescence_intensity.svg\n",
      "Saved data/processed/2024-06-07_E8-0/E8/precut-t1/left_side_i-xlim_0_to_10-time_vs_fluorescence_intensity.svg\n",
      "Saved data/processed/2024-06-07_E8-0/E8/precut-t1/right_side_i-time_vs_fluorescence_intensity.svg\n",
      "Saved data/processed/2024-06-07_E8-0/E8/precut-t1/right_side_i-xlim_0_to_10-time_vs_fluorescence_intensity.svg\n",
      "data/interim/2024-06-07_E8-0/E8/precut-t0/ already exists and has not been overwritten\n",
      "data/processed/2024-06-07_E8-0/E8/precut-t0/ already exists and has not been overwritten\n",
      "Loaded data/raw/2024-06-07_E8-0/E8/precut-t0/240607_GCaMP_E8.0_Exp8_E8_20x_320cyc_precut_mid_t0_ls10_stage-2_dur-30.58.csv\n",
      "Filtered columns using regex 'Mean': Mean(LL), Mean(LI), Mean(LM), Mean(RM), Mean(RI), Mean(RL)\n",
      "Min max normalised DataFrame\n",
      "Saved data/processed/2024-06-07_E8-0/E8/precut-t0/all_roi-time_vs_fluorescence_intensity.svg\n"
     ]
    },
    {
     "name": "stdout",
     "output_type": "stream",
     "text": [
      "Left: lateral -> medial ---> right: lateral -> medial\n",
      "Left: 0.752 +/- 0.176 ---> right: 1.413 +/- 0.197\n",
      "overall_direction = 3\n"
     ]
    },
    {
     "name": "stderr",
     "output_type": "stream",
     "text": [
      "Saved data/processed/2024-06-07_E8-0/E8/precut-t0/left_side_l_and_m-time_vs_fluorescence_intensity.svg\n",
      "Saved data/processed/2024-06-07_E8-0/E8/precut-t0/left_side_l_and_m-xlim_0_to_10-time_vs_fluorescence_intensity.svg\n",
      "Saved data/processed/2024-06-07_E8-0/E8/precut-t0/right_side_l_and_m-time_vs_fluorescence_intensity.svg\n",
      "Saved data/processed/2024-06-07_E8-0/E8/precut-t0/right_side_l_and_m-xlim_0_to_10-time_vs_fluorescence_intensity.svg\n",
      "Saved data/processed/2024-06-07_E8-0/E8/precut-t0/left_side_i-time_vs_fluorescence_intensity.svg\n",
      "Saved data/processed/2024-06-07_E8-0/E8/precut-t0/left_side_i-xlim_0_to_10-time_vs_fluorescence_intensity.svg\n",
      "Saved data/processed/2024-06-07_E8-0/E8/precut-t0/right_side_i-time_vs_fluorescence_intensity.svg\n",
      "Saved data/processed/2024-06-07_E8-0/E8/precut-t0/right_side_i-xlim_0_to_10-time_vs_fluorescence_intensity.svg\n",
      "data/interim/2024-06-07_E8-0/E8/postcut/ already exists and has not been overwritten\n",
      "data/processed/2024-06-07_E8-0/E8/postcut/ already exists and has not been overwritten\n",
      "Loaded data/raw/2024-06-07_E8-0/E8/postcut/240607_GCaMP_E8.0_Exp8_E8_20x_320cyc_postcut_mid_t1_ls10_stage-2_dur-30.58.csv\n",
      "Filtered columns using regex 'Mean': Mean(LL), Mean(LI), Mean(LM), Mean(RM), Mean(RI), Mean(RL)\n",
      "Min max normalised DataFrame\n",
      "Saved data/processed/2024-06-07_E8-0/E8/postcut/all_roi-time_vs_fluorescence_intensity.svg\n"
     ]
    },
    {
     "name": "stdout",
     "output_type": "stream",
     "text": [
      "Left: lateral -> medial ---> right: lateral -> medial\n",
      "Left: 1.032 +/- 0.136 ---> right: 1.435 +/- 0.144\n",
      "overall_direction = 3\n"
     ]
    },
    {
     "name": "stderr",
     "output_type": "stream",
     "text": [
      "Saved data/processed/2024-06-07_E8-0/E8/postcut/left_side_l_and_m-time_vs_fluorescence_intensity.svg\n",
      "Saved data/processed/2024-06-07_E8-0/E8/postcut/left_side_l_and_m-xlim_0_to_10-time_vs_fluorescence_intensity.svg\n",
      "Saved data/processed/2024-06-07_E8-0/E8/postcut/right_side_l_and_m-time_vs_fluorescence_intensity.svg\n",
      "Saved data/processed/2024-06-07_E8-0/E8/postcut/right_side_l_and_m-xlim_0_to_10-time_vs_fluorescence_intensity.svg\n",
      "Saved data/processed/2024-06-07_E8-0/E8/postcut/left_side_i-time_vs_fluorescence_intensity.svg\n",
      "Saved data/processed/2024-06-07_E8-0/E8/postcut/left_side_i-xlim_0_to_10-time_vs_fluorescence_intensity.svg\n",
      "Saved data/processed/2024-06-07_E8-0/E8/postcut/right_side_i-time_vs_fluorescence_intensity.svg\n",
      "Saved data/processed/2024-06-07_E8-0/E8/postcut/right_side_i-xlim_0_to_10-time_vs_fluorescence_intensity.svg\n",
      "data/interim/2024-06-07_E8-0/E9/precut-t1/ already exists and has not been overwritten\n",
      "data/processed/2024-06-07_E8-0/E9/precut-t1/ already exists and has not been overwritten\n",
      "Loaded data/raw/2024-06-07_E8-0/E9/precut-t1/240607_GCaMP_E8.0_Exp8_E9_20x_320cyc_precut_mid_t1_ls10_stage-2_dur-30.58.csv\n",
      "Filtered columns using regex 'Mean': Mean(LL), Mean(LI), Mean(LM), Mean(RM), Mean(RI), Mean(RL)\n",
      "Min max normalised DataFrame\n",
      "Saved data/processed/2024-06-07_E8-0/E9/precut-t1/all_roi-time_vs_fluorescence_intensity.svg\n"
     ]
    },
    {
     "name": "stdout",
     "output_type": "stream",
     "text": [
      "Left: lateral -> medial ---> right: lateral -> medial\n",
      "Left: 1.076 +/- 0.525 ---> right: 1.273 +/- 0.78\n",
      "overall_direction = 3\n"
     ]
    },
    {
     "name": "stderr",
     "output_type": "stream",
     "text": [
      "Saved data/processed/2024-06-07_E8-0/E9/precut-t1/left_side_l_and_m-time_vs_fluorescence_intensity.svg\n",
      "Saved data/processed/2024-06-07_E8-0/E9/precut-t1/left_side_l_and_m-xlim_0_to_10-time_vs_fluorescence_intensity.svg\n",
      "Saved data/processed/2024-06-07_E8-0/E9/precut-t1/right_side_l_and_m-time_vs_fluorescence_intensity.svg\n",
      "Saved data/processed/2024-06-07_E8-0/E9/precut-t1/right_side_l_and_m-xlim_0_to_10-time_vs_fluorescence_intensity.svg\n",
      "Saved data/processed/2024-06-07_E8-0/E9/precut-t1/left_side_i-time_vs_fluorescence_intensity.svg\n",
      "Saved data/processed/2024-06-07_E8-0/E9/precut-t1/left_side_i-xlim_0_to_10-time_vs_fluorescence_intensity.svg\n",
      "Saved data/processed/2024-06-07_E8-0/E9/precut-t1/right_side_i-time_vs_fluorescence_intensity.svg\n",
      "Saved data/processed/2024-06-07_E8-0/E9/precut-t1/right_side_i-xlim_0_to_10-time_vs_fluorescence_intensity.svg\n",
      "data/interim/2024-06-07_E8-0/E9/precut-t0/ already exists and has not been overwritten\n",
      "data/processed/2024-06-07_E8-0/E9/precut-t0/ already exists and has not been overwritten\n",
      "Loaded data/raw/2024-06-07_E8-0/E9/precut-t0/240607_GCaMP_E8.0_Exp8_E9_20x_320cyc_precut_mid_t0_ls10_stage-2_dur-30.58.csv\n",
      "Filtered columns using regex 'Mean': Mean(LL), Mean(LI), Mean(LM), Mean(RM), Mean(RI), Mean(RL)\n",
      "Min max normalised DataFrame\n",
      "Saved data/processed/2024-06-07_E8-0/E9/precut-t0/all_roi-time_vs_fluorescence_intensity.svg\n"
     ]
    },
    {
     "name": "stdout",
     "output_type": "stream",
     "text": [
      "Left: lateral -> medial ---> right: medial -> lateral\n",
      "Left: 2.831 +/- 0.303 ---> right: -0.707 +/- 0.257\n",
      "overall_direction = 1\n"
     ]
    },
    {
     "name": "stderr",
     "output_type": "stream",
     "text": [
      "Saved data/processed/2024-06-07_E8-0/E9/precut-t0/left_side_l_and_m-time_vs_fluorescence_intensity.svg\n",
      "Saved data/processed/2024-06-07_E8-0/E9/precut-t0/left_side_l_and_m-xlim_0_to_10-time_vs_fluorescence_intensity.svg\n",
      "Saved data/processed/2024-06-07_E8-0/E9/precut-t0/right_side_l_and_m-time_vs_fluorescence_intensity.svg\n",
      "Saved data/processed/2024-06-07_E8-0/E9/precut-t0/right_side_l_and_m-xlim_0_to_10-time_vs_fluorescence_intensity.svg\n",
      "Saved data/processed/2024-06-07_E8-0/E9/precut-t0/left_side_i-time_vs_fluorescence_intensity.svg\n",
      "Saved data/processed/2024-06-07_E8-0/E9/precut-t0/left_side_i-xlim_0_to_10-time_vs_fluorescence_intensity.svg\n",
      "Saved data/processed/2024-06-07_E8-0/E9/precut-t0/right_side_i-time_vs_fluorescence_intensity.svg\n",
      "Saved data/processed/2024-06-07_E8-0/E9/precut-t0/right_side_i-xlim_0_to_10-time_vs_fluorescence_intensity.svg\n",
      "data/interim/2024-06-07_E8-0/E9/postcut/ already exists and has not been overwritten\n",
      "data/processed/2024-06-07_E8-0/E9/postcut/ already exists and has not been overwritten\n",
      "Loaded data/raw/2024-06-07_E8-0/E9/postcut/240607_GCaMP_E8.0_Exp8_E9_20x_320cyc_postcut_mid_t1_ls10_stage-2_dur-30.58.csv\n",
      "Filtered columns using regex 'Mean': Mean(LL), Mean(LI), Mean(LM), Mean(RM), Mean(RI), Mean(RL)\n",
      "Min max normalised DataFrame\n",
      "Saved data/processed/2024-06-07_E8-0/E9/postcut/all_roi-time_vs_fluorescence_intensity.svg\n"
     ]
    },
    {
     "name": "stdout",
     "output_type": "stream",
     "text": [
      "Left: lateral -> medial ---> right: lateral -> medial\n",
      "Left: 1.177 +/- 0.292 ---> right: 0.437 +/- 0.497\n",
      "overall_direction = 3\n"
     ]
    },
    {
     "name": "stderr",
     "output_type": "stream",
     "text": [
      "Saved data/processed/2024-06-07_E8-0/E9/postcut/left_side_l_and_m-time_vs_fluorescence_intensity.svg\n",
      "Saved data/processed/2024-06-07_E8-0/E9/postcut/left_side_l_and_m-xlim_0_to_10-time_vs_fluorescence_intensity.svg\n",
      "Saved data/processed/2024-06-07_E8-0/E9/postcut/right_side_l_and_m-time_vs_fluorescence_intensity.svg\n",
      "Saved data/processed/2024-06-07_E8-0/E9/postcut/right_side_l_and_m-xlim_0_to_10-time_vs_fluorescence_intensity.svg\n",
      "Saved data/processed/2024-06-07_E8-0/E9/postcut/left_side_i-time_vs_fluorescence_intensity.svg\n",
      "Saved data/processed/2024-06-07_E8-0/E9/postcut/left_side_i-xlim_0_to_10-time_vs_fluorescence_intensity.svg\n",
      "Saved data/processed/2024-06-07_E8-0/E9/postcut/right_side_i-time_vs_fluorescence_intensity.svg\n",
      "Saved data/processed/2024-06-07_E8-0/E9/postcut/right_side_i-xlim_0_to_10-time_vs_fluorescence_intensity.svg\n",
      "data/interim/2024-06-07_E8-0/E7/precut-t1/ already exists and has not been overwritten\n",
      "data/processed/2024-06-07_E8-0/E7/precut-t1/ already exists and has not been overwritten\n",
      "Loaded data/raw/2024-06-07_E8-0/E7/precut-t1/240607_GCaMP_E8.0_Exp8_E7_20x_320cyc_precut_mid_t1_ls10_stage-2_dur-30.58.csv\n",
      "Filtered columns using regex 'Mean': Mean(LL), Mean(LI), Mean(LM), Mean(RM), Mean(RI), Mean(RL)\n",
      "Min max normalised DataFrame\n",
      "Saved data/processed/2024-06-07_E8-0/E7/precut-t1/all_roi-time_vs_fluorescence_intensity.svg\n"
     ]
    },
    {
     "name": "stdout",
     "output_type": "stream",
     "text": [
      "Left: lateral -> medial ---> right: lateral -> medial\n",
      "Left: 1.784 +/- 0.293 ---> right: 2.363 +/- 0.487\n",
      "overall_direction = 3\n"
     ]
    },
    {
     "name": "stderr",
     "output_type": "stream",
     "text": [
      "Saved data/processed/2024-06-07_E8-0/E7/precut-t1/left_side_l_and_m-time_vs_fluorescence_intensity.svg\n",
      "Saved data/processed/2024-06-07_E8-0/E7/precut-t1/left_side_l_and_m-xlim_0_to_10-time_vs_fluorescence_intensity.svg\n",
      "Saved data/processed/2024-06-07_E8-0/E7/precut-t1/right_side_l_and_m-time_vs_fluorescence_intensity.svg\n",
      "Saved data/processed/2024-06-07_E8-0/E7/precut-t1/right_side_l_and_m-xlim_0_to_10-time_vs_fluorescence_intensity.svg\n",
      "Saved data/processed/2024-06-07_E8-0/E7/precut-t1/left_side_i-time_vs_fluorescence_intensity.svg\n",
      "Saved data/processed/2024-06-07_E8-0/E7/precut-t1/left_side_i-xlim_0_to_10-time_vs_fluorescence_intensity.svg\n",
      "Saved data/processed/2024-06-07_E8-0/E7/precut-t1/right_side_i-time_vs_fluorescence_intensity.svg\n",
      "Saved data/processed/2024-06-07_E8-0/E7/precut-t1/right_side_i-xlim_0_to_10-time_vs_fluorescence_intensity.svg\n",
      "data/interim/2024-06-07_E8-0/E7/precut-t0/ already exists and has not been overwritten\n",
      "data/processed/2024-06-07_E8-0/E7/precut-t0/ already exists and has not been overwritten\n",
      "Loaded data/raw/2024-06-07_E8-0/E7/precut-t0/240607_GCaMP_E8.0_Exp8_E7_20x_320cyc_precut_mid_t0_ls10_stage-2_dur-30.58.csv\n",
      "Filtered columns using regex 'Mean': Mean(LL), Mean(LI), Mean(LM), Mean(RM), Mean(RI), Mean(RL)\n",
      "Min max normalised DataFrame\n",
      "Saved data/processed/2024-06-07_E8-0/E7/precut-t0/all_roi-time_vs_fluorescence_intensity.svg\n"
     ]
    },
    {
     "name": "stdout",
     "output_type": "stream",
     "text": [
      "Left: lateral -> medial ---> right: lateral -> medial\n",
      "Left: 0.1 +/- 0.326 ---> right: 0.976 +/- 0.213\n",
      "overall_direction = 3\n"
     ]
    },
    {
     "name": "stderr",
     "output_type": "stream",
     "text": [
      "Saved data/processed/2024-06-07_E8-0/E7/precut-t0/left_side_l_and_m-time_vs_fluorescence_intensity.svg\n",
      "Saved data/processed/2024-06-07_E8-0/E7/precut-t0/left_side_l_and_m-xlim_0_to_10-time_vs_fluorescence_intensity.svg\n",
      "Saved data/processed/2024-06-07_E8-0/E7/precut-t0/right_side_l_and_m-time_vs_fluorescence_intensity.svg\n",
      "Saved data/processed/2024-06-07_E8-0/E7/precut-t0/right_side_l_and_m-xlim_0_to_10-time_vs_fluorescence_intensity.svg\n",
      "Saved data/processed/2024-06-07_E8-0/E7/precut-t0/left_side_i-time_vs_fluorescence_intensity.svg\n",
      "Saved data/processed/2024-06-07_E8-0/E7/precut-t0/left_side_i-xlim_0_to_10-time_vs_fluorescence_intensity.svg\n",
      "Saved data/processed/2024-06-07_E8-0/E7/precut-t0/right_side_i-time_vs_fluorescence_intensity.svg\n",
      "Saved data/processed/2024-06-07_E8-0/E7/precut-t0/right_side_i-xlim_0_to_10-time_vs_fluorescence_intensity.svg\n",
      "data/interim/2024-06-07_E8-0/E7/postcut/ already exists and has not been overwritten\n",
      "data/processed/2024-06-07_E8-0/E7/postcut/ already exists and has not been overwritten\n",
      "Loaded data/raw/2024-06-07_E8-0/E7/postcut/240607_GCaMP_E8.0_Exp8_E7_20x_320cyc_postcut_mid_t1_ls10_stage-1_dur-30.58.csv\n",
      "Filtered columns using regex 'Mean': Mean(LL), Mean(LI), Mean(LM), Mean(RM), Mean(RI), Mean(RL)\n",
      "Min max normalised DataFrame\n",
      "Saved data/processed/2024-06-07_E8-0/E7/postcut/all_roi-time_vs_fluorescence_intensity.svg\n"
     ]
    },
    {
     "name": "stdout",
     "output_type": "stream",
     "text": [
      "Left: lateral -> medial ---> right: medial -> lateral\n",
      "Left: 0.929 +/- 0.31 ---> right: -0.232 +/- 0.23\n",
      "overall_direction = 1\n"
     ]
    },
    {
     "name": "stderr",
     "output_type": "stream",
     "text": [
      "Saved data/processed/2024-06-07_E8-0/E7/postcut/left_side_l_and_m-time_vs_fluorescence_intensity.svg\n",
      "Saved data/processed/2024-06-07_E8-0/E7/postcut/left_side_l_and_m-xlim_0_to_10-time_vs_fluorescence_intensity.svg\n",
      "Saved data/processed/2024-06-07_E8-0/E7/postcut/right_side_l_and_m-time_vs_fluorescence_intensity.svg\n",
      "Saved data/processed/2024-06-07_E8-0/E7/postcut/right_side_l_and_m-xlim_0_to_10-time_vs_fluorescence_intensity.svg\n",
      "Saved data/processed/2024-06-07_E8-0/E7/postcut/left_side_i-time_vs_fluorescence_intensity.svg\n",
      "Saved data/processed/2024-06-07_E8-0/E7/postcut/left_side_i-xlim_0_to_10-time_vs_fluorescence_intensity.svg\n",
      "Saved data/processed/2024-06-07_E8-0/E7/postcut/right_side_i-time_vs_fluorescence_intensity.svg\n",
      "Saved data/processed/2024-06-07_E8-0/E7/postcut/right_side_i-xlim_0_to_10-time_vs_fluorescence_intensity.svg\n",
      "data/interim/2024-05-17_E8-0/E5/precut/ already exists and has not been overwritten\n",
      "data/processed/2024-05-17_E8-0/E5/precut/ already exists and has not been overwritten\n",
      "Loaded data/raw/2024-05-17_E8-0/E5/precut/240517_GCaMP_E8.0_Exp3_E5_20x_320cyc_precut_mid_t1_ls10_stage-1_dur-30.58.csv\n",
      "Filtered columns using regex 'Mean': Mean(LL), Mean(LI), Mean(LM), Mean(RM), Mean(RI), Mean(RL)\n",
      "Min max normalised DataFrame\n",
      "Saved data/processed/2024-05-17_E8-0/E5/precut/all_roi-time_vs_fluorescence_intensity.svg\n"
     ]
    },
    {
     "name": "stdout",
     "output_type": "stream",
     "text": [
      "Left: lateral -> medial ---> right: lateral -> medial\n",
      "Left: 1.031 +/- 0.27 ---> right: 1.442 +/- 0.315\n",
      "overall_direction = 3\n"
     ]
    },
    {
     "name": "stderr",
     "output_type": "stream",
     "text": [
      "Saved data/processed/2024-05-17_E8-0/E5/precut/left_side_l_and_m-time_vs_fluorescence_intensity.svg\n",
      "Saved data/processed/2024-05-17_E8-0/E5/precut/left_side_l_and_m-xlim_0_to_10-time_vs_fluorescence_intensity.svg\n",
      "Saved data/processed/2024-05-17_E8-0/E5/precut/right_side_l_and_m-time_vs_fluorescence_intensity.svg\n",
      "Saved data/processed/2024-05-17_E8-0/E5/precut/right_side_l_and_m-xlim_0_to_10-time_vs_fluorescence_intensity.svg\n",
      "Saved data/processed/2024-05-17_E8-0/E5/precut/left_side_i-time_vs_fluorescence_intensity.svg\n",
      "Saved data/processed/2024-05-17_E8-0/E5/precut/left_side_i-xlim_0_to_10-time_vs_fluorescence_intensity.svg\n",
      "Saved data/processed/2024-05-17_E8-0/E5/precut/right_side_i-time_vs_fluorescence_intensity.svg\n",
      "Saved data/processed/2024-05-17_E8-0/E5/precut/right_side_i-xlim_0_to_10-time_vs_fluorescence_intensity.svg\n",
      "data/interim/2024-05-17_E8-0/E5/postcut/ already exists and has not been overwritten\n",
      "data/processed/2024-05-17_E8-0/E5/postcut/ already exists and has not been overwritten\n",
      "Loaded data/raw/2024-05-17_E8-0/E5/postcut/240517_GCaMP_E8.0_Exp3_E5_20x_320cyc_postcut_mid_t2_ls10_stage-1_dur-30.58.csv\n",
      "Filtered columns using regex 'Mean': Mean(LL), Mean(LI), Mean(LM), Mean(RM), Mean(RI), Mean(RL)\n",
      "Min max normalised DataFrame\n",
      "Saved data/processed/2024-05-17_E8-0/E5/postcut/all_roi-time_vs_fluorescence_intensity.svg\n"
     ]
    },
    {
     "name": "stdout",
     "output_type": "stream",
     "text": [
      "Trying LM - LI\n",
      "Left: lateral -> medial ---> right: lateral -> medial\n",
      "Left: 0.494 +/- 1.449 ---> right: 0.344 +/- 0.21\n",
      "overall_direction = 3\n"
     ]
    },
    {
     "name": "stderr",
     "output_type": "stream",
     "text": [
      "Saved data/processed/2024-05-17_E8-0/E5/postcut/left_side_l_and_m-time_vs_fluorescence_intensity.svg\n",
      "Saved data/processed/2024-05-17_E8-0/E5/postcut/left_side_l_and_m-xlim_0_to_10-time_vs_fluorescence_intensity.svg\n",
      "Saved data/processed/2024-05-17_E8-0/E5/postcut/right_side_l_and_m-time_vs_fluorescence_intensity.svg\n",
      "Saved data/processed/2024-05-17_E8-0/E5/postcut/right_side_l_and_m-xlim_0_to_10-time_vs_fluorescence_intensity.svg\n",
      "Saved data/processed/2024-05-17_E8-0/E5/postcut/left_side_i-time_vs_fluorescence_intensity.svg\n",
      "Saved data/processed/2024-05-17_E8-0/E5/postcut/left_side_i-xlim_0_to_10-time_vs_fluorescence_intensity.svg\n",
      "Saved data/processed/2024-05-17_E8-0/E5/postcut/right_side_i-time_vs_fluorescence_intensity.svg\n",
      "Saved data/processed/2024-05-17_E8-0/E5/postcut/right_side_i-xlim_0_to_10-time_vs_fluorescence_intensity.svg\n",
      "data/interim/2024-05-17_E8-0/E4/precut/ already exists and has not been overwritten\n",
      "data/processed/2024-05-17_E8-0/E4/precut/ already exists and has not been overwritten\n",
      "Loaded data/raw/2024-05-17_E8-0/E4/precut/240517_GCaMP_E8.0_Exp3_E4_20x_320cyc_precut_mid_t3_ls10_stage-1_dur-30.58.csv\n",
      "Filtered columns using regex 'Mean': Mean(LL), Mean(LI), Mean(LM), Mean(RM), Mean(RI), Mean(RL)\n",
      "Min max normalised DataFrame\n",
      "Saved data/processed/2024-05-17_E8-0/E4/precut/all_roi-time_vs_fluorescence_intensity.svg\n"
     ]
    },
    {
     "name": "stdout",
     "output_type": "stream",
     "text": [
      "Left: lateral -> medial ---> right: medial -> lateral\n",
      "Left: 0.122 +/- 0.218 ---> right: -0.545 +/- 0.205\n",
      "overall_direction = 1\n"
     ]
    },
    {
     "name": "stderr",
     "output_type": "stream",
     "text": [
      "Saved data/processed/2024-05-17_E8-0/E4/precut/left_side_l_and_m-time_vs_fluorescence_intensity.svg\n",
      "Saved data/processed/2024-05-17_E8-0/E4/precut/left_side_l_and_m-xlim_0_to_10-time_vs_fluorescence_intensity.svg\n",
      "Saved data/processed/2024-05-17_E8-0/E4/precut/right_side_l_and_m-time_vs_fluorescence_intensity.svg\n",
      "Saved data/processed/2024-05-17_E8-0/E4/precut/right_side_l_and_m-xlim_0_to_10-time_vs_fluorescence_intensity.svg\n",
      "Saved data/processed/2024-05-17_E8-0/E4/precut/left_side_i-time_vs_fluorescence_intensity.svg\n",
      "Saved data/processed/2024-05-17_E8-0/E4/precut/left_side_i-xlim_0_to_10-time_vs_fluorescence_intensity.svg\n",
      "Saved data/processed/2024-05-17_E8-0/E4/precut/right_side_i-time_vs_fluorescence_intensity.svg\n",
      "Saved data/processed/2024-05-17_E8-0/E4/precut/right_side_i-xlim_0_to_10-time_vs_fluorescence_intensity.svg\n",
      "data/interim/2024-05-17_E8-0/E4/postcut/ already exists and has not been overwritten\n",
      "data/processed/2024-05-17_E8-0/E4/postcut/ already exists and has not been overwritten\n",
      "Loaded data/raw/2024-05-17_E8-0/E4/postcut/240517_GCaMP_E8.0_Exp3_E4_20x_320cyc_postcut_mid_t1_ls10_stage-1_dur-30.58.csv\n",
      "Filtered columns using regex 'Mean': Mean(LL), Mean(LI), Mean(LM), Mean(RM), Mean(RI), Mean(RL)\n",
      "Min max normalised DataFrame\n",
      "Saved data/processed/2024-05-17_E8-0/E4/postcut/all_roi-time_vs_fluorescence_intensity.svg\n"
     ]
    },
    {
     "name": "stdout",
     "output_type": "stream",
     "text": [
      "Left: lateral -> medial ---> right: medial -> lateral\n",
      "Left: 1.373 +/- 0.187 ---> right: -0.58 +/- 0.209\n",
      "overall_direction = 1\n"
     ]
    },
    {
     "name": "stderr",
     "output_type": "stream",
     "text": [
      "Saved data/processed/2024-05-17_E8-0/E4/postcut/left_side_l_and_m-time_vs_fluorescence_intensity.svg\n",
      "Saved data/processed/2024-05-17_E8-0/E4/postcut/left_side_l_and_m-xlim_0_to_10-time_vs_fluorescence_intensity.svg\n",
      "Saved data/processed/2024-05-17_E8-0/E4/postcut/right_side_l_and_m-time_vs_fluorescence_intensity.svg\n",
      "Saved data/processed/2024-05-17_E8-0/E4/postcut/right_side_l_and_m-xlim_0_to_10-time_vs_fluorescence_intensity.svg\n",
      "Saved data/processed/2024-05-17_E8-0/E4/postcut/left_side_i-time_vs_fluorescence_intensity.svg\n",
      "Saved data/processed/2024-05-17_E8-0/E4/postcut/left_side_i-xlim_0_to_10-time_vs_fluorescence_intensity.svg\n",
      "Saved data/processed/2024-05-17_E8-0/E4/postcut/right_side_i-time_vs_fluorescence_intensity.svg\n",
      "Saved data/processed/2024-05-17_E8-0/E4/postcut/right_side_i-xlim_0_to_10-time_vs_fluorescence_intensity.svg\n",
      "data/interim/2024-05-17_E8-0/E1/precut/ already exists and has not been overwritten\n",
      "data/processed/2024-05-17_E8-0/E1/precut/ already exists and has not been overwritten\n",
      "Loaded data/raw/2024-05-17_E8-0/E1/precut/240517_GCaMP_E8.0_Exp3_E1_20x_320cyc_precut_mid_t1_ls10_stage-1_dur-38.02.csv\n",
      "Filtered columns using regex 'Mean': Mean(LL), Mean(LI), Mean(LM), Mean(RM), Mean(RI), Mean(RL)\n",
      "Min max normalised DataFrame\n",
      "Saved data/processed/2024-05-17_E8-0/E1/precut/all_roi-time_vs_fluorescence_intensity.svg\n"
     ]
    },
    {
     "name": "stdout",
     "output_type": "stream",
     "text": [
      "Left: lateral -> medial ---> right: lateral -> medial\n",
      "Left: 1.676 +/- 0.214 ---> right: 0.806 +/- 0.233\n",
      "overall_direction = 3\n"
     ]
    },
    {
     "name": "stderr",
     "output_type": "stream",
     "text": [
      "Saved data/processed/2024-05-17_E8-0/E1/precut/left_side_l_and_m-time_vs_fluorescence_intensity.svg\n",
      "Saved data/processed/2024-05-17_E8-0/E1/precut/left_side_l_and_m-xlim_0_to_10-time_vs_fluorescence_intensity.svg\n",
      "Saved data/processed/2024-05-17_E8-0/E1/precut/right_side_l_and_m-time_vs_fluorescence_intensity.svg\n",
      "Saved data/processed/2024-05-17_E8-0/E1/precut/right_side_l_and_m-xlim_0_to_10-time_vs_fluorescence_intensity.svg\n",
      "Saved data/processed/2024-05-17_E8-0/E1/precut/left_side_i-time_vs_fluorescence_intensity.svg\n",
      "Saved data/processed/2024-05-17_E8-0/E1/precut/left_side_i-xlim_0_to_10-time_vs_fluorescence_intensity.svg\n",
      "Saved data/processed/2024-05-17_E8-0/E1/precut/right_side_i-time_vs_fluorescence_intensity.svg\n",
      "Saved data/processed/2024-05-17_E8-0/E1/precut/right_side_i-xlim_0_to_10-time_vs_fluorescence_intensity.svg\n",
      "data/interim/2024-05-17_E8-0/E6/precut/ already exists and has not been overwritten\n",
      "data/processed/2024-05-17_E8-0/E6/precut/ already exists and has not been overwritten\n",
      "Loaded data/raw/2024-05-17_E8-0/E6/precut/240517_GCaMP_E8.0_Exp3_E6_20x_320cyc_precut_mid_t2_ls10_stage-2_dur-30.58.csv\n",
      "Filtered columns using regex 'Mean': Mean(LL), Mean(LI), Mean(LM), Mean(RM), Mean(RI), Mean(RL)\n",
      "Min max normalised DataFrame\n",
      "Saved data/processed/2024-05-17_E8-0/E6/precut/all_roi-time_vs_fluorescence_intensity.svg\n"
     ]
    },
    {
     "name": "stdout",
     "output_type": "stream",
     "text": [
      "Left: lateral -> medial ---> right: lateral -> medial\n",
      "Left: 0.496 +/- 0.229 ---> right: 0.79 +/- 0.261\n",
      "overall_direction = 3\n"
     ]
    },
    {
     "name": "stderr",
     "output_type": "stream",
     "text": [
      "Saved data/processed/2024-05-17_E8-0/E6/precut/left_side_l_and_m-time_vs_fluorescence_intensity.svg\n",
      "Saved data/processed/2024-05-17_E8-0/E6/precut/left_side_l_and_m-xlim_0_to_10-time_vs_fluorescence_intensity.svg\n",
      "Saved data/processed/2024-05-17_E8-0/E6/precut/right_side_l_and_m-time_vs_fluorescence_intensity.svg\n",
      "Saved data/processed/2024-05-17_E8-0/E6/precut/right_side_l_and_m-xlim_0_to_10-time_vs_fluorescence_intensity.svg\n",
      "Saved data/processed/2024-05-17_E8-0/E6/precut/left_side_i-time_vs_fluorescence_intensity.svg\n",
      "Saved data/processed/2024-05-17_E8-0/E6/precut/left_side_i-xlim_0_to_10-time_vs_fluorescence_intensity.svg\n",
      "Saved data/processed/2024-05-17_E8-0/E6/precut/right_side_i-time_vs_fluorescence_intensity.svg\n",
      "Saved data/processed/2024-05-17_E8-0/E6/precut/right_side_i-xlim_0_to_10-time_vs_fluorescence_intensity.svg\n",
      "data/interim/2024-05-17_E8-0/E6/postcut/ already exists and has not been overwritten\n",
      "data/processed/2024-05-17_E8-0/E6/postcut/ already exists and has not been overwritten\n",
      "Loaded data/raw/2024-05-17_E8-0/E6/postcut/240517_GCaMP_E8.0_Exp3_E6_20x_320cyc_postcut_mid_t1_ls10_stage-2_dur-30.58.csv\n",
      "Filtered columns using regex 'Mean': Mean(LL), Mean(LI), Mean(LM), Mean(RM), Mean(RI), Mean(RL)\n",
      "Min max normalised DataFrame\n",
      "Saved data/processed/2024-05-17_E8-0/E6/postcut/all_roi-time_vs_fluorescence_intensity.svg\n"
     ]
    },
    {
     "name": "stdout",
     "output_type": "stream",
     "text": [
      "Left: lateral -> medial ---> right: lateral -> medial\n",
      "Left: 0.552 +/- 0.456 ---> right: 0.564 +/- 0.499\n",
      "overall_direction = 3\n"
     ]
    },
    {
     "name": "stderr",
     "output_type": "stream",
     "text": [
      "Saved data/processed/2024-05-17_E8-0/E6/postcut/left_side_l_and_m-time_vs_fluorescence_intensity.svg\n",
      "Saved data/processed/2024-05-17_E8-0/E6/postcut/left_side_l_and_m-xlim_0_to_10-time_vs_fluorescence_intensity.svg\n",
      "Saved data/processed/2024-05-17_E8-0/E6/postcut/right_side_l_and_m-time_vs_fluorescence_intensity.svg\n",
      "Saved data/processed/2024-05-17_E8-0/E6/postcut/right_side_l_and_m-xlim_0_to_10-time_vs_fluorescence_intensity.svg\n",
      "Saved data/processed/2024-05-17_E8-0/E6/postcut/left_side_i-time_vs_fluorescence_intensity.svg\n",
      "Saved data/processed/2024-05-17_E8-0/E6/postcut/left_side_i-xlim_0_to_10-time_vs_fluorescence_intensity.svg\n",
      "Saved data/processed/2024-05-17_E8-0/E6/postcut/right_side_i-time_vs_fluorescence_intensity.svg\n",
      "Saved data/processed/2024-05-17_E8-0/E6/postcut/right_side_i-xlim_0_to_10-time_vs_fluorescence_intensity.svg\n",
      "data/interim/2024-05-17_E8-0/E8/precut/ already exists and has not been overwritten\n",
      "data/processed/2024-05-17_E8-0/E8/precut/ already exists and has not been overwritten\n",
      "Loaded data/raw/2024-05-17_E8-0/E8/precut/240517_GCaMP_E8.0_Exp3_E8_20x_320cyc_precut_mid_t1_ls10_stage-1_dur-30.58.csv\n",
      "Filtered columns using regex 'Mean': Mean(LL), Mean(LI), Mean(LM), Mean(RM), Mean(RI), Mean(RL)\n",
      "Min max normalised DataFrame\n",
      "Saved data/processed/2024-05-17_E8-0/E8/precut/all_roi-time_vs_fluorescence_intensity.svg\n"
     ]
    },
    {
     "name": "stdout",
     "output_type": "stream",
     "text": [
      "Left: lateral -> medial ---> right: lateral -> medial\n",
      "Left: 1.2 +/- 1.335 ---> right: 0.291 +/- 0.298\n",
      "overall_direction = 3\n"
     ]
    },
    {
     "name": "stderr",
     "output_type": "stream",
     "text": [
      "Saved data/processed/2024-05-17_E8-0/E8/precut/left_side_l_and_m-time_vs_fluorescence_intensity.svg\n",
      "Saved data/processed/2024-05-17_E8-0/E8/precut/left_side_l_and_m-xlim_0_to_10-time_vs_fluorescence_intensity.svg\n",
      "Saved data/processed/2024-05-17_E8-0/E8/precut/right_side_l_and_m-time_vs_fluorescence_intensity.svg\n",
      "Saved data/processed/2024-05-17_E8-0/E8/precut/right_side_l_and_m-xlim_0_to_10-time_vs_fluorescence_intensity.svg\n",
      "Saved data/processed/2024-05-17_E8-0/E8/precut/left_side_i-time_vs_fluorescence_intensity.svg\n",
      "Saved data/processed/2024-05-17_E8-0/E8/precut/left_side_i-xlim_0_to_10-time_vs_fluorescence_intensity.svg\n",
      "Saved data/processed/2024-05-17_E8-0/E8/precut/right_side_i-time_vs_fluorescence_intensity.svg\n",
      "Saved data/processed/2024-05-17_E8-0/E8/precut/right_side_i-xlim_0_to_10-time_vs_fluorescence_intensity.svg\n",
      "data/interim/2024-05-17_E8-0/E8/postcut/ already exists and has not been overwritten\n",
      "data/processed/2024-05-17_E8-0/E8/postcut/ already exists and has not been overwritten\n",
      "Loaded data/raw/2024-05-17_E8-0/E8/postcut/240517_GCaMP_E8.0_Exp3_E8_20x_320cyc_postcut_mid_t1_ls10_stage-1_dur-30.58.csv\n",
      "Filtered columns using regex 'Mean': Mean(LL), Mean(LI), Mean(LM), Mean(RM), Mean(RI), Mean(RL)\n",
      "Min max normalised DataFrame\n",
      "Saved data/processed/2024-05-17_E8-0/E8/postcut/all_roi-time_vs_fluorescence_intensity.svg\n"
     ]
    },
    {
     "name": "stdout",
     "output_type": "stream",
     "text": [
      "Left: lateral -> medial ---> right: medial -> lateral\n",
      "Left: 0.142 +/- 0.278 ---> right: -0.632 +/- 0.314\n",
      "overall_direction = 1\n"
     ]
    },
    {
     "name": "stderr",
     "output_type": "stream",
     "text": [
      "Saved data/processed/2024-05-17_E8-0/E8/postcut/left_side_l_and_m-time_vs_fluorescence_intensity.svg\n",
      "Saved data/processed/2024-05-17_E8-0/E8/postcut/left_side_l_and_m-xlim_0_to_10-time_vs_fluorescence_intensity.svg\n",
      "Saved data/processed/2024-05-17_E8-0/E8/postcut/right_side_l_and_m-time_vs_fluorescence_intensity.svg\n",
      "Saved data/processed/2024-05-17_E8-0/E8/postcut/right_side_l_and_m-xlim_0_to_10-time_vs_fluorescence_intensity.svg\n",
      "Saved data/processed/2024-05-17_E8-0/E8/postcut/left_side_i-time_vs_fluorescence_intensity.svg\n",
      "Saved data/processed/2024-05-17_E8-0/E8/postcut/left_side_i-xlim_0_to_10-time_vs_fluorescence_intensity.svg\n",
      "Saved data/processed/2024-05-17_E8-0/E8/postcut/right_side_i-time_vs_fluorescence_intensity.svg\n",
      "Saved data/processed/2024-05-17_E8-0/E8/postcut/right_side_i-xlim_0_to_10-time_vs_fluorescence_intensity.svg\n",
      "data/interim/2024-05-17_E8-0/E9/precut/ already exists and has not been overwritten\n",
      "data/processed/2024-05-17_E8-0/E9/precut/ already exists and has not been overwritten\n",
      "Loaded data/raw/2024-05-17_E8-0/E9/precut/240517_GCaMP_E8.0_Exp3_E9_20x_320cyc_precut_mid_t1_ls10_stage-3_dur-30.58.csv\n",
      "Filtered columns using regex 'Mean': Mean(LL), Mean(LI), Mean(LM), Mean(RM), Mean(RI), Mean(RL)\n",
      "Min max normalised DataFrame\n",
      "Saved data/processed/2024-05-17_E8-0/E9/precut/all_roi-time_vs_fluorescence_intensity.svg\n"
     ]
    },
    {
     "name": "stdout",
     "output_type": "stream",
     "text": [
      "Left: lateral -> medial ---> right: lateral -> medial\n",
      "Left: 0.065 +/- 0.251 ---> right: 0.349 +/- 0.321\n",
      "overall_direction = 3\n"
     ]
    },
    {
     "name": "stderr",
     "output_type": "stream",
     "text": [
      "Saved data/processed/2024-05-17_E8-0/E9/precut/left_side_l_and_m-time_vs_fluorescence_intensity.svg\n",
      "Saved data/processed/2024-05-17_E8-0/E9/precut/left_side_l_and_m-xlim_0_to_10-time_vs_fluorescence_intensity.svg\n",
      "Saved data/processed/2024-05-17_E8-0/E9/precut/right_side_l_and_m-time_vs_fluorescence_intensity.svg\n",
      "Saved data/processed/2024-05-17_E8-0/E9/precut/right_side_l_and_m-xlim_0_to_10-time_vs_fluorescence_intensity.svg\n",
      "Saved data/processed/2024-05-17_E8-0/E9/precut/left_side_i-time_vs_fluorescence_intensity.svg\n",
      "Saved data/processed/2024-05-17_E8-0/E9/precut/left_side_i-xlim_0_to_10-time_vs_fluorescence_intensity.svg\n",
      "Saved data/processed/2024-05-17_E8-0/E9/precut/right_side_i-time_vs_fluorescence_intensity.svg\n",
      "Saved data/processed/2024-05-17_E8-0/E9/precut/right_side_i-xlim_0_to_10-time_vs_fluorescence_intensity.svg\n",
      "data/interim/2024-05-17_E8-0/E9/postcut/ already exists and has not been overwritten\n",
      "data/processed/2024-05-17_E8-0/E9/postcut/ already exists and has not been overwritten\n",
      "Loaded data/raw/2024-05-17_E8-0/E9/postcut/240517_GCaMP_E8.0_Exp3_E9_20x_320cyc_postcut_mid_t2_ls10_stage-3_dur-30.58.csv\n",
      "Filtered columns using regex 'Mean': Mean(LL), Mean(LI), Mean(LM), Mean(RM), Mean(RI), Mean(RL)\n",
      "Min max normalised DataFrame\n",
      "Saved data/processed/2024-05-17_E8-0/E9/postcut/all_roi-time_vs_fluorescence_intensity.svg\n"
     ]
    },
    {
     "name": "stdout",
     "output_type": "stream",
     "text": [
      "Left: lateral -> medial ---> right: lateral -> medial\n",
      "Left: 1.113 +/- 0.194 ---> right: 3.081 +/- 0.197\n",
      "overall_direction = 3\n"
     ]
    },
    {
     "name": "stderr",
     "output_type": "stream",
     "text": [
      "Saved data/processed/2024-05-17_E8-0/E9/postcut/left_side_l_and_m-time_vs_fluorescence_intensity.svg\n",
      "Saved data/processed/2024-05-17_E8-0/E9/postcut/left_side_l_and_m-xlim_0_to_10-time_vs_fluorescence_intensity.svg\n",
      "Saved data/processed/2024-05-17_E8-0/E9/postcut/right_side_l_and_m-time_vs_fluorescence_intensity.svg\n",
      "Saved data/processed/2024-05-17_E8-0/E9/postcut/right_side_l_and_m-xlim_0_to_10-time_vs_fluorescence_intensity.svg\n",
      "Saved data/processed/2024-05-17_E8-0/E9/postcut/left_side_i-time_vs_fluorescence_intensity.svg\n",
      "Saved data/processed/2024-05-17_E8-0/E9/postcut/left_side_i-xlim_0_to_10-time_vs_fluorescence_intensity.svg\n",
      "Saved data/processed/2024-05-17_E8-0/E9/postcut/right_side_i-time_vs_fluorescence_intensity.svg\n",
      "Saved data/processed/2024-05-17_E8-0/E9/postcut/right_side_i-xlim_0_to_10-time_vs_fluorescence_intensity.svg\n",
      "data/interim/2024-05-17_E8-0/E7/precut/ already exists and has not been overwritten\n",
      "data/processed/2024-05-17_E8-0/E7/precut/ already exists and has not been overwritten\n",
      "Loaded data/raw/2024-05-17_E8-0/E7/precut/240517_GCaMP_E8.0_Exp3_E7_20x_320cyc_precut_mid_t1_ls10_stage-2_dur-30.58.csv\n",
      "Filtered columns using regex 'Mean': Mean(LL), Mean(LI), Mean(LM), Mean(RM), Mean(RI), Mean(RL)\n",
      "Min max normalised DataFrame\n",
      "Saved data/processed/2024-05-17_E8-0/E7/precut/all_roi-time_vs_fluorescence_intensity.svg\n"
     ]
    },
    {
     "name": "stdout",
     "output_type": "stream",
     "text": [
      "Left: lateral -> medial ---> right: medial -> lateral\n",
      "Left: 2.954 +/- 0.162 ---> right: -2.514 +/- 6.9\n",
      "overall_direction = 1\n"
     ]
    },
    {
     "name": "stderr",
     "output_type": "stream",
     "text": [
      "Saved data/processed/2024-05-17_E8-0/E7/precut/left_side_l_and_m-time_vs_fluorescence_intensity.svg\n",
      "Saved data/processed/2024-05-17_E8-0/E7/precut/left_side_l_and_m-xlim_0_to_10-time_vs_fluorescence_intensity.svg\n",
      "Saved data/processed/2024-05-17_E8-0/E7/precut/right_side_l_and_m-time_vs_fluorescence_intensity.svg\n",
      "Saved data/processed/2024-05-17_E8-0/E7/precut/right_side_l_and_m-xlim_0_to_10-time_vs_fluorescence_intensity.svg\n",
      "Saved data/processed/2024-05-17_E8-0/E7/precut/left_side_i-time_vs_fluorescence_intensity.svg\n",
      "Saved data/processed/2024-05-17_E8-0/E7/precut/left_side_i-xlim_0_to_10-time_vs_fluorescence_intensity.svg\n",
      "Saved data/processed/2024-05-17_E8-0/E7/precut/right_side_i-time_vs_fluorescence_intensity.svg\n",
      "Saved data/processed/2024-05-17_E8-0/E7/precut/right_side_i-xlim_0_to_10-time_vs_fluorescence_intensity.svg\n",
      "data/interim/2024-05-17_E8-0/E7/postcut/ already exists and has not been overwritten\n",
      "data/processed/2024-05-17_E8-0/E7/postcut/ already exists and has not been overwritten\n",
      "Loaded data/raw/2024-05-17_E8-0/E7/postcut/240517_GCaMP_E8.0_Exp3_E7_20x_320cyc_postcut_mid_t1_ls10_stage-2_dur-30.58.csv\n",
      "Filtered columns using regex 'Mean': Mean(LL), Mean(LI), Mean(LM), Mean(RM), Mean(RI), Mean(RL)\n",
      "Min max normalised DataFrame\n",
      "Saved data/processed/2024-05-17_E8-0/E7/postcut/all_roi-time_vs_fluorescence_intensity.svg\n"
     ]
    },
    {
     "name": "stdout",
     "output_type": "stream",
     "text": [
      "Left: lateral -> medial ---> right: lateral -> medial\n",
      "Left: 0.976 +/- 0.193 ---> right: 0.679 +/- 0.361\n",
      "overall_direction = 3\n"
     ]
    },
    {
     "name": "stderr",
     "output_type": "stream",
     "text": [
      "Saved data/processed/2024-05-17_E8-0/E7/postcut/left_side_l_and_m-time_vs_fluorescence_intensity.svg\n",
      "Saved data/processed/2024-05-17_E8-0/E7/postcut/left_side_l_and_m-xlim_0_to_10-time_vs_fluorescence_intensity.svg\n",
      "Saved data/processed/2024-05-17_E8-0/E7/postcut/right_side_l_and_m-time_vs_fluorescence_intensity.svg\n",
      "Saved data/processed/2024-05-17_E8-0/E7/postcut/right_side_l_and_m-xlim_0_to_10-time_vs_fluorescence_intensity.svg\n",
      "Saved data/processed/2024-05-17_E8-0/E7/postcut/left_side_i-time_vs_fluorescence_intensity.svg\n",
      "Saved data/processed/2024-05-17_E8-0/E7/postcut/left_side_i-xlim_0_to_10-time_vs_fluorescence_intensity.svg\n",
      "Saved data/processed/2024-05-17_E8-0/E7/postcut/right_side_i-time_vs_fluorescence_intensity.svg\n",
      "Saved data/processed/2024-05-17_E8-0/E7/postcut/right_side_i-xlim_0_to_10-time_vs_fluorescence_intensity.svg\n",
      "data/interim/2024-06-20_E8-0/E5/precut/ already exists and has not been overwritten\n",
      "data/processed/2024-06-20_E8-0/E5/precut/ already exists and has not been overwritten\n",
      "Loaded data/raw/2024-06-20_E8-0/E5/precut/240620_GCaMP_E8.0_Exp11_E5_20x_320cyc_precut_mid_t1_ls10_stage-1_dur-30.58.csv\n",
      "Filtered columns using regex 'Mean': Mean(LL), Mean(LI), Mean(LM), Mean(RM), Mean(RI), Mean(RL)\n",
      "Min max normalised DataFrame\n",
      "Saved data/processed/2024-06-20_E8-0/E5/precut/all_roi-time_vs_fluorescence_intensity.svg\n"
     ]
    },
    {
     "name": "stdout",
     "output_type": "stream",
     "text": [
      "Left: lateral -> medial ---> right: lateral -> medial\n",
      "Left: 1.876 +/- 0.201 ---> right: 0.982 +/- 0.255\n",
      "overall_direction = 3\n"
     ]
    },
    {
     "name": "stderr",
     "output_type": "stream",
     "text": [
      "Saved data/processed/2024-06-20_E8-0/E5/precut/left_side_l_and_m-time_vs_fluorescence_intensity.svg\n",
      "Saved data/processed/2024-06-20_E8-0/E5/precut/left_side_l_and_m-xlim_0_to_10-time_vs_fluorescence_intensity.svg\n",
      "Saved data/processed/2024-06-20_E8-0/E5/precut/right_side_l_and_m-time_vs_fluorescence_intensity.svg\n",
      "Saved data/processed/2024-06-20_E8-0/E5/precut/right_side_l_and_m-xlim_0_to_10-time_vs_fluorescence_intensity.svg\n",
      "Saved data/processed/2024-06-20_E8-0/E5/precut/left_side_i-time_vs_fluorescence_intensity.svg\n",
      "Saved data/processed/2024-06-20_E8-0/E5/precut/left_side_i-xlim_0_to_10-time_vs_fluorescence_intensity.svg\n",
      "Saved data/processed/2024-06-20_E8-0/E5/precut/right_side_i-time_vs_fluorescence_intensity.svg\n",
      "Saved data/processed/2024-06-20_E8-0/E5/precut/right_side_i-xlim_0_to_10-time_vs_fluorescence_intensity.svg\n",
      "data/interim/2024-06-20_E8-0/E5/postcut/ already exists and has not been overwritten\n",
      "data/processed/2024-06-20_E8-0/E5/postcut/ already exists and has not been overwritten\n",
      "Loaded data/raw/2024-06-20_E8-0/E5/postcut/240620_GCaMP_E8.0_Exp11_E5_20x_320cyc_postcut_mid_t1_ls10_stage-1_dur-30.58.csv\n",
      "Filtered columns using regex 'Mean': Mean(LL), Mean(LI), Mean(LM), Mean(RM), Mean(RI), Mean(RL)\n",
      "Min max normalised DataFrame\n",
      "Saved data/processed/2024-06-20_E8-0/E5/postcut/all_roi-time_vs_fluorescence_intensity.svg\n"
     ]
    },
    {
     "name": "stdout",
     "output_type": "stream",
     "text": [
      "Left: lateral -> medial ---> right: lateral -> medial\n",
      "Left: 1.68 +/- 0.219 ---> right: 0.362 +/- 0.26\n",
      "overall_direction = 3\n"
     ]
    },
    {
     "name": "stderr",
     "output_type": "stream",
     "text": [
      "Saved data/processed/2024-06-20_E8-0/E5/postcut/left_side_l_and_m-time_vs_fluorescence_intensity.svg\n",
      "Saved data/processed/2024-06-20_E8-0/E5/postcut/left_side_l_and_m-xlim_0_to_10-time_vs_fluorescence_intensity.svg\n",
      "Saved data/processed/2024-06-20_E8-0/E5/postcut/right_side_l_and_m-time_vs_fluorescence_intensity.svg\n",
      "Saved data/processed/2024-06-20_E8-0/E5/postcut/right_side_l_and_m-xlim_0_to_10-time_vs_fluorescence_intensity.svg\n",
      "Saved data/processed/2024-06-20_E8-0/E5/postcut/left_side_i-time_vs_fluorescence_intensity.svg\n",
      "Saved data/processed/2024-06-20_E8-0/E5/postcut/left_side_i-xlim_0_to_10-time_vs_fluorescence_intensity.svg\n",
      "Saved data/processed/2024-06-20_E8-0/E5/postcut/right_side_i-time_vs_fluorescence_intensity.svg\n",
      "Saved data/processed/2024-06-20_E8-0/E5/postcut/right_side_i-xlim_0_to_10-time_vs_fluorescence_intensity.svg\n",
      "data/interim/2024-06-20_E8-0/E2/precut/ already exists and has not been overwritten\n",
      "data/processed/2024-06-20_E8-0/E2/precut/ already exists and has not been overwritten\n",
      "Loaded data/raw/2024-06-20_E8-0/E2/precut/240620_GCaMP_E8.0_Exp11_E2_20x_320cyc_precut_mid_t1_ls10_stage-4_dur-30.58.csv\n",
      "Filtered columns using regex 'Mean': Mean(LL), Mean(LI), Mean(LM), Mean(RM), Mean(RI), Mean(RL)\n",
      "Min max normalised DataFrame\n",
      "Saved data/processed/2024-06-20_E8-0/E2/precut/all_roi-time_vs_fluorescence_intensity.svg\n"
     ]
    },
    {
     "name": "stdout",
     "output_type": "stream",
     "text": [
      "Left: lateral -> medial ---> right: lateral -> medial\n",
      "Left: 1.023 +/- 0.301 ---> right: 1.178 +/- 0.249\n",
      "overall_direction = 3\n"
     ]
    },
    {
     "name": "stderr",
     "output_type": "stream",
     "text": [
      "Saved data/processed/2024-06-20_E8-0/E2/precut/left_side_l_and_m-time_vs_fluorescence_intensity.svg\n",
      "Saved data/processed/2024-06-20_E8-0/E2/precut/left_side_l_and_m-xlim_0_to_10-time_vs_fluorescence_intensity.svg\n",
      "Saved data/processed/2024-06-20_E8-0/E2/precut/right_side_l_and_m-time_vs_fluorescence_intensity.svg\n",
      "Saved data/processed/2024-06-20_E8-0/E2/precut/right_side_l_and_m-xlim_0_to_10-time_vs_fluorescence_intensity.svg\n",
      "Saved data/processed/2024-06-20_E8-0/E2/precut/left_side_i-time_vs_fluorescence_intensity.svg\n",
      "Saved data/processed/2024-06-20_E8-0/E2/precut/left_side_i-xlim_0_to_10-time_vs_fluorescence_intensity.svg\n",
      "Saved data/processed/2024-06-20_E8-0/E2/precut/right_side_i-time_vs_fluorescence_intensity.svg\n",
      "Saved data/processed/2024-06-20_E8-0/E2/precut/right_side_i-xlim_0_to_10-time_vs_fluorescence_intensity.svg\n",
      "data/interim/2024-06-20_E8-0/E2/postcut/ already exists and has not been overwritten\n",
      "data/processed/2024-06-20_E8-0/E2/postcut/ already exists and has not been overwritten\n",
      "Loaded data/raw/2024-06-20_E8-0/E2/postcut/240620_GCaMP_E8.0_Exp11_E2_20x_320cyc_postcut_mid_t1_ls10_stage-4_dur-30.58.csv\n",
      "Filtered columns using regex 'Mean': Mean(LL), Mean(LI), Mean(LM), Mean(RM), Mean(RI), Mean(RL)\n",
      "Min max normalised DataFrame\n",
      "Saved data/processed/2024-06-20_E8-0/E2/postcut/all_roi-time_vs_fluorescence_intensity.svg\n"
     ]
    },
    {
     "name": "stdout",
     "output_type": "stream",
     "text": [
      "Left: lateral -> medial ---> right: lateral -> medial\n",
      "Left: 0.803 +/- 0.121 ---> right: 2.194 +/- 0.162\n",
      "overall_direction = 3\n"
     ]
    },
    {
     "name": "stderr",
     "output_type": "stream",
     "text": [
      "Saved data/processed/2024-06-20_E8-0/E2/postcut/left_side_l_and_m-time_vs_fluorescence_intensity.svg\n",
      "Saved data/processed/2024-06-20_E8-0/E2/postcut/left_side_l_and_m-xlim_0_to_10-time_vs_fluorescence_intensity.svg\n",
      "Saved data/processed/2024-06-20_E8-0/E2/postcut/right_side_l_and_m-time_vs_fluorescence_intensity.svg\n",
      "Saved data/processed/2024-06-20_E8-0/E2/postcut/right_side_l_and_m-xlim_0_to_10-time_vs_fluorescence_intensity.svg\n",
      "Saved data/processed/2024-06-20_E8-0/E2/postcut/left_side_i-time_vs_fluorescence_intensity.svg\n",
      "Saved data/processed/2024-06-20_E8-0/E2/postcut/left_side_i-xlim_0_to_10-time_vs_fluorescence_intensity.svg\n",
      "Saved data/processed/2024-06-20_E8-0/E2/postcut/right_side_i-time_vs_fluorescence_intensity.svg\n",
      "Saved data/processed/2024-06-20_E8-0/E2/postcut/right_side_i-xlim_0_to_10-time_vs_fluorescence_intensity.svg\n",
      "data/interim/2024-06-20_E8-0/E3/precut/ already exists and has not been overwritten\n",
      "data/processed/2024-06-20_E8-0/E3/precut/ already exists and has not been overwritten\n",
      "Loaded data/raw/2024-06-20_E8-0/E3/precut/240620_GCaMP_E8.0_Exp11_E3_20x_320cyc_precut_mid_t1_ls10_stage-2_dur-30.58.csv\n",
      "Filtered columns using regex 'Mean': Mean(LL), Mean(LI), Mean(LM), Mean(RM), Mean(RI), Mean(RL)\n",
      "Min max normalised DataFrame\n",
      "Saved data/processed/2024-06-20_E8-0/E3/precut/all_roi-time_vs_fluorescence_intensity.svg\n"
     ]
    },
    {
     "name": "stdout",
     "output_type": "stream",
     "text": [
      "Left: lateral -> medial ---> right: lateral -> medial\n",
      "Left: 1.814 +/- 0.169 ---> right: 2.061 +/- 0.157\n",
      "overall_direction = 3\n"
     ]
    },
    {
     "name": "stderr",
     "output_type": "stream",
     "text": [
      "Saved data/processed/2024-06-20_E8-0/E3/precut/left_side_l_and_m-time_vs_fluorescence_intensity.svg\n",
      "Saved data/processed/2024-06-20_E8-0/E3/precut/left_side_l_and_m-xlim_0_to_10-time_vs_fluorescence_intensity.svg\n",
      "Saved data/processed/2024-06-20_E8-0/E3/precut/right_side_l_and_m-time_vs_fluorescence_intensity.svg\n",
      "Saved data/processed/2024-06-20_E8-0/E3/precut/right_side_l_and_m-xlim_0_to_10-time_vs_fluorescence_intensity.svg\n",
      "Saved data/processed/2024-06-20_E8-0/E3/precut/left_side_i-time_vs_fluorescence_intensity.svg\n",
      "Saved data/processed/2024-06-20_E8-0/E3/precut/left_side_i-xlim_0_to_10-time_vs_fluorescence_intensity.svg\n",
      "Saved data/processed/2024-06-20_E8-0/E3/precut/right_side_i-time_vs_fluorescence_intensity.svg\n",
      "Saved data/processed/2024-06-20_E8-0/E3/precut/right_side_i-xlim_0_to_10-time_vs_fluorescence_intensity.svg\n",
      "data/interim/2024-06-20_E8-0/E3/postcut/ already exists and has not been overwritten\n",
      "data/processed/2024-06-20_E8-0/E3/postcut/ already exists and has not been overwritten\n",
      "Loaded data/raw/2024-06-20_E8-0/E3/postcut/240620_GCaMP_E8.0_Exp11_E3_20x_320cyc_postcut_mid_t1_ls10_stage-2_dur-30.58.csv\n",
      "Filtered columns using regex 'Mean': Mean(LL), Mean(LI), Mean(LM), Mean(RM), Mean(RI), Mean(RL)\n",
      "Min max normalised DataFrame\n"
     ]
    },
    {
     "name": "stdout",
     "output_type": "stream",
     "text": [
      "Left: lateral -> medial ---> right: lateral -> medial\n",
      "Left: 1.2 +/- 0.111 ---> right: 0.223 +/- 0.217\n",
      "overall_direction = 3\n"
     ]
    },
    {
     "name": "stderr",
     "output_type": "stream",
     "text": [
      "Saved data/processed/2024-06-20_E8-0/E3/postcut/all_roi-time_vs_fluorescence_intensity.svg\n",
      "Saved data/processed/2024-06-20_E8-0/E3/postcut/left_side_l_and_m-time_vs_fluorescence_intensity.svg\n",
      "Saved data/processed/2024-06-20_E8-0/E3/postcut/left_side_l_and_m-xlim_0_to_10-time_vs_fluorescence_intensity.svg\n",
      "Saved data/processed/2024-06-20_E8-0/E3/postcut/right_side_l_and_m-time_vs_fluorescence_intensity.svg\n",
      "Saved data/processed/2024-06-20_E8-0/E3/postcut/right_side_l_and_m-xlim_0_to_10-time_vs_fluorescence_intensity.svg\n",
      "Saved data/processed/2024-06-20_E8-0/E3/postcut/left_side_i-time_vs_fluorescence_intensity.svg\n",
      "Saved data/processed/2024-06-20_E8-0/E3/postcut/left_side_i-xlim_0_to_10-time_vs_fluorescence_intensity.svg\n",
      "Saved data/processed/2024-06-20_E8-0/E3/postcut/right_side_i-time_vs_fluorescence_intensity.svg\n",
      "Saved data/processed/2024-06-20_E8-0/E3/postcut/right_side_i-xlim_0_to_10-time_vs_fluorescence_intensity.svg\n",
      "data/interim/2024-06-20_E8-0/E1/precut/ already exists and has not been overwritten\n",
      "data/processed/2024-06-20_E8-0/E1/precut/ already exists and has not been overwritten\n",
      "Loaded data/raw/2024-06-20_E8-0/E1/precut/240620_GCaMP_E8.0_Exp11_E1_20x_320cyc_precut_mid_t1_ls10_stage-4_dur-30.58.csv\n",
      "Filtered columns using regex 'Mean': Mean(LL), Mean(LI), Mean(LM), Mean(RM), Mean(RI), Mean(RL)\n",
      "Min max normalised DataFrame\n",
      "Saved data/processed/2024-06-20_E8-0/E1/precut/all_roi-time_vs_fluorescence_intensity.svg\n"
     ]
    },
    {
     "name": "stdout",
     "output_type": "stream",
     "text": [
      "Left: lateral -> medial ---> right: medial -> lateral\n",
      "Left: 2.723 +/- 0.17 ---> right: -14.714 +/- 0.595\n",
      "overall_direction = 1\n"
     ]
    },
    {
     "name": "stderr",
     "output_type": "stream",
     "text": [
      "Saved data/processed/2024-06-20_E8-0/E1/precut/left_side_l_and_m-time_vs_fluorescence_intensity.svg\n",
      "Saved data/processed/2024-06-20_E8-0/E1/precut/left_side_l_and_m-xlim_0_to_10-time_vs_fluorescence_intensity.svg\n",
      "Saved data/processed/2024-06-20_E8-0/E1/precut/right_side_l_and_m-time_vs_fluorescence_intensity.svg\n",
      "Saved data/processed/2024-06-20_E8-0/E1/precut/right_side_l_and_m-xlim_0_to_10-time_vs_fluorescence_intensity.svg\n",
      "Saved data/processed/2024-06-20_E8-0/E1/precut/left_side_i-time_vs_fluorescence_intensity.svg\n",
      "Saved data/processed/2024-06-20_E8-0/E1/precut/left_side_i-xlim_0_to_10-time_vs_fluorescence_intensity.svg\n",
      "Saved data/processed/2024-06-20_E8-0/E1/precut/right_side_i-time_vs_fluorescence_intensity.svg\n",
      "Saved data/processed/2024-06-20_E8-0/E1/precut/right_side_i-xlim_0_to_10-time_vs_fluorescence_intensity.svg\n",
      "data/interim/2024-06-20_E8-0/E1/postcut/ already exists and has not been overwritten\n",
      "data/processed/2024-06-20_E8-0/E1/postcut/ already exists and has not been overwritten\n",
      "Loaded data/raw/2024-06-20_E8-0/E1/postcut/240620_GCaMP_E8.0_Exp11_E1_20x_320cyc_postcut_mid_t1_ls10_stage-4_dur-30.58.csv\n",
      "Filtered columns using regex 'Mean': Mean(LL), Mean(LI), Mean(LM), Mean(RM), Mean(RI), Mean(RL)\n",
      "Min max normalised DataFrame\n",
      "Saved data/processed/2024-06-20_E8-0/E1/postcut/all_roi-time_vs_fluorescence_intensity.svg\n"
     ]
    },
    {
     "name": "stdout",
     "output_type": "stream",
     "text": [
      "Left: lateral -> medial ---> right: lateral -> medial\n",
      "Left: 1.939 +/- 0.121 ---> right: 1.95 +/- 0.366\n",
      "overall_direction = 3\n"
     ]
    },
    {
     "name": "stderr",
     "output_type": "stream",
     "text": [
      "Saved data/processed/2024-06-20_E8-0/E1/postcut/left_side_l_and_m-time_vs_fluorescence_intensity.svg\n",
      "Saved data/processed/2024-06-20_E8-0/E1/postcut/left_side_l_and_m-xlim_0_to_10-time_vs_fluorescence_intensity.svg\n",
      "Saved data/processed/2024-06-20_E8-0/E1/postcut/right_side_l_and_m-time_vs_fluorescence_intensity.svg\n",
      "Saved data/processed/2024-06-20_E8-0/E1/postcut/right_side_l_and_m-xlim_0_to_10-time_vs_fluorescence_intensity.svg\n",
      "Saved data/processed/2024-06-20_E8-0/E1/postcut/left_side_i-time_vs_fluorescence_intensity.svg\n",
      "Saved data/processed/2024-06-20_E8-0/E1/postcut/left_side_i-xlim_0_to_10-time_vs_fluorescence_intensity.svg\n",
      "Saved data/processed/2024-06-20_E8-0/E1/postcut/right_side_i-time_vs_fluorescence_intensity.svg\n",
      "Saved data/processed/2024-06-20_E8-0/E1/postcut/right_side_i-xlim_0_to_10-time_vs_fluorescence_intensity.svg\n",
      "data/interim/2024-06-20_E8-0/E6/precut/ already exists and has not been overwritten\n",
      "data/processed/2024-06-20_E8-0/E6/precut/ already exists and has not been overwritten\n",
      "Loaded data/raw/2024-06-20_E8-0/E6/precut/240620_GCaMP_E8.0_Exp11_E6_20x_320cyc_precut_mid_t1_ls10_stage-2_dur-30.58.csv\n",
      "Filtered columns using regex 'Mean': Mean(LL), Mean(LI), Mean(LM), Mean(RM), Mean(RI), Mean(RL)\n",
      "Min max normalised DataFrame\n",
      "Saved data/processed/2024-06-20_E8-0/E6/precut/all_roi-time_vs_fluorescence_intensity.svg\n"
     ]
    },
    {
     "name": "stdout",
     "output_type": "stream",
     "text": [
      "Left: medial -> lateral ---> right: lateral -> medial\n",
      "Left: -9.189 +/- 0.315 ---> right: 2.599 +/- 0.209\n",
      "overall_direction = 2\n"
     ]
    },
    {
     "name": "stderr",
     "output_type": "stream",
     "text": [
      "Saved data/processed/2024-06-20_E8-0/E6/precut/left_side_l_and_m-time_vs_fluorescence_intensity.svg\n",
      "Saved data/processed/2024-06-20_E8-0/E6/precut/left_side_l_and_m-xlim_0_to_10-time_vs_fluorescence_intensity.svg\n",
      "Saved data/processed/2024-06-20_E8-0/E6/precut/right_side_l_and_m-time_vs_fluorescence_intensity.svg\n",
      "Saved data/processed/2024-06-20_E8-0/E6/precut/right_side_l_and_m-xlim_0_to_10-time_vs_fluorescence_intensity.svg\n",
      "Saved data/processed/2024-06-20_E8-0/E6/precut/left_side_i-time_vs_fluorescence_intensity.svg\n",
      "Saved data/processed/2024-06-20_E8-0/E6/precut/left_side_i-xlim_0_to_10-time_vs_fluorescence_intensity.svg\n",
      "Saved data/processed/2024-06-20_E8-0/E6/precut/right_side_i-time_vs_fluorescence_intensity.svg\n",
      "Saved data/processed/2024-06-20_E8-0/E6/precut/right_side_i-xlim_0_to_10-time_vs_fluorescence_intensity.svg\n",
      "data/interim/2024-06-20_E8-0/E6/postcut/ already exists and has not been overwritten\n",
      "data/processed/2024-06-20_E8-0/E6/postcut/ already exists and has not been overwritten\n",
      "Loaded data/raw/2024-06-20_E8-0/E6/postcut/240620_GCaMP_E8.0_Exp11_E6_20x_320cyc_postcut_mid_t1_ls10_stage-2_dur-30.58.csv\n",
      "Filtered columns using regex 'Mean': Mean(LL), Mean(LI), Mean(LM), Mean(RM), Mean(RI), Mean(RL)\n",
      "Min max normalised DataFrame\n",
      "Saved data/processed/2024-06-20_E8-0/E6/postcut/all_roi-time_vs_fluorescence_intensity.svg\n"
     ]
    },
    {
     "name": "stdout",
     "output_type": "stream",
     "text": [
      "Left: medial -> lateral ---> right: lateral -> medial\n",
      "Left: -0.105 +/- 0.152 ---> right: 0.879 +/- 0.161\n",
      "overall_direction = 2\n"
     ]
    },
    {
     "name": "stderr",
     "output_type": "stream",
     "text": [
      "Saved data/processed/2024-06-20_E8-0/E6/postcut/left_side_l_and_m-time_vs_fluorescence_intensity.svg\n",
      "Saved data/processed/2024-06-20_E8-0/E6/postcut/left_side_l_and_m-xlim_0_to_10-time_vs_fluorescence_intensity.svg\n",
      "Saved data/processed/2024-06-20_E8-0/E6/postcut/right_side_l_and_m-time_vs_fluorescence_intensity.svg\n",
      "Saved data/processed/2024-06-20_E8-0/E6/postcut/right_side_l_and_m-xlim_0_to_10-time_vs_fluorescence_intensity.svg\n",
      "Saved data/processed/2024-06-20_E8-0/E6/postcut/left_side_i-time_vs_fluorescence_intensity.svg\n",
      "Saved data/processed/2024-06-20_E8-0/E6/postcut/left_side_i-xlim_0_to_10-time_vs_fluorescence_intensity.svg\n",
      "Saved data/processed/2024-06-20_E8-0/E6/postcut/right_side_i-time_vs_fluorescence_intensity.svg\n",
      "Saved data/processed/2024-06-20_E8-0/E6/postcut/right_side_i-xlim_0_to_10-time_vs_fluorescence_intensity.svg\n",
      "data/interim/2024-06-20_E8-0/E8/precut/ already exists and has not been overwritten\n",
      "data/processed/2024-06-20_E8-0/E8/precut/ already exists and has not been overwritten\n",
      "Loaded data/raw/2024-06-20_E8-0/E8/precut/240620_GCaMP_E8.0_Exp11_E8_20x_320cyc_precut_mid_t1_ls10_stage-2_dur-30.58.csv\n",
      "Filtered columns using regex 'Mean': Mean(LL), Mean(LI), Mean(LM), Mean(RM), Mean(RI), Mean(RL)\n",
      "Min max normalised DataFrame\n",
      "Saved data/processed/2024-06-20_E8-0/E8/precut/all_roi-time_vs_fluorescence_intensity.svg\n"
     ]
    },
    {
     "name": "stdout",
     "output_type": "stream",
     "text": [
      "Left: lateral -> medial ---> right: lateral -> medial\n",
      "Left: 0.042 +/- 0.259 ---> right: 0.746 +/- 0.229\n",
      "overall_direction = 3\n"
     ]
    },
    {
     "name": "stderr",
     "output_type": "stream",
     "text": [
      "Saved data/processed/2024-06-20_E8-0/E8/precut/left_side_l_and_m-time_vs_fluorescence_intensity.svg\n",
      "Saved data/processed/2024-06-20_E8-0/E8/precut/left_side_l_and_m-xlim_0_to_10-time_vs_fluorescence_intensity.svg\n",
      "Saved data/processed/2024-06-20_E8-0/E8/precut/right_side_l_and_m-time_vs_fluorescence_intensity.svg\n",
      "Saved data/processed/2024-06-20_E8-0/E8/precut/right_side_l_and_m-xlim_0_to_10-time_vs_fluorescence_intensity.svg\n",
      "Saved data/processed/2024-06-20_E8-0/E8/precut/left_side_i-time_vs_fluorescence_intensity.svg\n",
      "Saved data/processed/2024-06-20_E8-0/E8/precut/left_side_i-xlim_0_to_10-time_vs_fluorescence_intensity.svg\n",
      "Saved data/processed/2024-06-20_E8-0/E8/precut/right_side_i-time_vs_fluorescence_intensity.svg\n",
      "Saved data/processed/2024-06-20_E8-0/E8/precut/right_side_i-xlim_0_to_10-time_vs_fluorescence_intensity.svg\n",
      "data/interim/2024-06-20_E8-0/E8/postcut/ already exists and has not been overwritten\n",
      "data/processed/2024-06-20_E8-0/E8/postcut/ already exists and has not been overwritten\n",
      "Loaded data/raw/2024-06-20_E8-0/E8/postcut/240620_GCaMP_E8.0_Exp11_E8_20x_320cyc_postcut_mid_t1_ls10_stage-2_dur-30.58.csv\n",
      "Filtered columns using regex 'Mean': Mean(LL), Mean(LI), Mean(LM), Mean(RM), Mean(RI), Mean(RL)\n",
      "Min max normalised DataFrame\n",
      "Saved data/processed/2024-06-20_E8-0/E8/postcut/all_roi-time_vs_fluorescence_intensity.svg\n"
     ]
    },
    {
     "name": "stdout",
     "output_type": "stream",
     "text": [
      "Left: lateral -> medial ---> right: medial -> lateral\n",
      "Left: 2.222 +/- 0.215 ---> right: -0.255 +/- 0.232\n",
      "overall_direction = 1\n"
     ]
    },
    {
     "name": "stderr",
     "output_type": "stream",
     "text": [
      "Saved data/processed/2024-06-20_E8-0/E8/postcut/left_side_l_and_m-time_vs_fluorescence_intensity.svg\n",
      "Saved data/processed/2024-06-20_E8-0/E8/postcut/left_side_l_and_m-xlim_0_to_10-time_vs_fluorescence_intensity.svg\n",
      "Saved data/processed/2024-06-20_E8-0/E8/postcut/right_side_l_and_m-time_vs_fluorescence_intensity.svg\n",
      "Saved data/processed/2024-06-20_E8-0/E8/postcut/right_side_l_and_m-xlim_0_to_10-time_vs_fluorescence_intensity.svg\n",
      "Saved data/processed/2024-06-20_E8-0/E8/postcut/left_side_i-time_vs_fluorescence_intensity.svg\n",
      "Saved data/processed/2024-06-20_E8-0/E8/postcut/left_side_i-xlim_0_to_10-time_vs_fluorescence_intensity.svg\n",
      "Saved data/processed/2024-06-20_E8-0/E8/postcut/right_side_i-time_vs_fluorescence_intensity.svg\n",
      "Saved data/processed/2024-06-20_E8-0/E8/postcut/right_side_i-xlim_0_to_10-time_vs_fluorescence_intensity.svg\n",
      "data/interim/2024-06-20_E8-0/E7/precut/ already exists and has not been overwritten\n",
      "data/processed/2024-06-20_E8-0/E7/precut/ already exists and has not been overwritten\n",
      "Loaded data/raw/2024-06-20_E8-0/E7/precut/240620_GCaMP_E8.0_Exp11_E7_20x_320cyc_precut_mid_t1_ls10_stage-3_dur-30.58.csv\n",
      "Filtered columns using regex 'Mean': Mean(LL), Mean(LI), Mean(LM), Mean(RM), Mean(RI), Mean(RL)\n",
      "Min max normalised DataFrame\n",
      "Saved data/processed/2024-06-20_E8-0/E7/precut/all_roi-time_vs_fluorescence_intensity.svg\n"
     ]
    },
    {
     "name": "stdout",
     "output_type": "stream",
     "text": [
      "Left: lateral -> medial ---> right: medial -> lateral\n",
      "Left: 2.033 +/- 0.436 ---> right: -13.707 +/- 0.816\n",
      "overall_direction = 1\n"
     ]
    },
    {
     "name": "stderr",
     "output_type": "stream",
     "text": [
      "Saved data/processed/2024-06-20_E8-0/E7/precut/left_side_l_and_m-time_vs_fluorescence_intensity.svg\n",
      "Saved data/processed/2024-06-20_E8-0/E7/precut/left_side_l_and_m-xlim_0_to_10-time_vs_fluorescence_intensity.svg\n",
      "Saved data/processed/2024-06-20_E8-0/E7/precut/right_side_l_and_m-time_vs_fluorescence_intensity.svg\n",
      "Saved data/processed/2024-06-20_E8-0/E7/precut/right_side_l_and_m-xlim_0_to_10-time_vs_fluorescence_intensity.svg\n",
      "Saved data/processed/2024-06-20_E8-0/E7/precut/left_side_i-time_vs_fluorescence_intensity.svg\n",
      "Saved data/processed/2024-06-20_E8-0/E7/precut/left_side_i-xlim_0_to_10-time_vs_fluorescence_intensity.svg\n",
      "Saved data/processed/2024-06-20_E8-0/E7/precut/right_side_i-time_vs_fluorescence_intensity.svg\n",
      "Saved data/processed/2024-06-20_E8-0/E7/precut/right_side_i-xlim_0_to_10-time_vs_fluorescence_intensity.svg\n",
      "data/interim/2024-06-20_E8-0/E7/postcut/ already exists and has not been overwritten\n",
      "data/processed/2024-06-20_E8-0/E7/postcut/ already exists and has not been overwritten\n",
      "Loaded data/raw/2024-06-20_E8-0/E7/postcut/240620_GCaMP_E8.0_Exp11_E7_20x_320cyc_postcut_mid_t1_ls10_stage-3_dur-30.58.csv\n",
      "Filtered columns using regex 'Mean': Mean(LL), Mean(LI), Mean(LM), Mean(RM), Mean(RI), Mean(RL)\n",
      "Min max normalised DataFrame\n",
      "Saved data/processed/2024-06-20_E8-0/E7/postcut/all_roi-time_vs_fluorescence_intensity.svg\n"
     ]
    },
    {
     "name": "stdout",
     "output_type": "stream",
     "text": [
      "Left: lateral -> medial ---> right: lateral -> medial\n",
      "Left: 2.457 +/- 3.316 ---> right: 1.808 +/- 0.198\n",
      "overall_direction = 3\n"
     ]
    },
    {
     "name": "stderr",
     "output_type": "stream",
     "text": [
      "Saved data/processed/2024-06-20_E8-0/E7/postcut/left_side_l_and_m-time_vs_fluorescence_intensity.svg\n",
      "Saved data/processed/2024-06-20_E8-0/E7/postcut/left_side_l_and_m-xlim_0_to_10-time_vs_fluorescence_intensity.svg\n",
      "Saved data/processed/2024-06-20_E8-0/E7/postcut/right_side_l_and_m-time_vs_fluorescence_intensity.svg\n",
      "Saved data/processed/2024-06-20_E8-0/E7/postcut/right_side_l_and_m-xlim_0_to_10-time_vs_fluorescence_intensity.svg\n",
      "Saved data/processed/2024-06-20_E8-0/E7/postcut/left_side_i-time_vs_fluorescence_intensity.svg\n",
      "Saved data/processed/2024-06-20_E8-0/E7/postcut/left_side_i-xlim_0_to_10-time_vs_fluorescence_intensity.svg\n",
      "Saved data/processed/2024-06-20_E8-0/E7/postcut/right_side_i-time_vs_fluorescence_intensity.svg\n",
      "Saved data/processed/2024-06-20_E8-0/E7/postcut/right_side_i-xlim_0_to_10-time_vs_fluorescence_intensity.svg\n",
      "data/interim/2024-06-18_E8-0/E5/precut/ already exists and has not been overwritten\n",
      "data/processed/2024-06-18_E8-0/E5/precut/ already exists and has not been overwritten\n",
      "Loaded data/raw/2024-06-18_E8-0/E5/precut/240618_GCaMP_E8.0_Exp10_E5_20x_320cyc_precut_mid_t1_ls10_stage-4_dur-30.58.csv\n",
      "Filtered columns using regex 'Mean': Mean(LL), Mean(LI), Mean(LM), Mean(RM), Mean(RI), Mean(RL)\n",
      "Min max normalised DataFrame\n",
      "Saved data/processed/2024-06-18_E8-0/E5/precut/all_roi-time_vs_fluorescence_intensity.svg\n"
     ]
    },
    {
     "name": "stdout",
     "output_type": "stream",
     "text": [
      "Left: lateral -> medial ---> right: lateral -> medial\n",
      "Left: 1.936 +/- 0.361 ---> right: 0.848 +/- 0.319\n",
      "overall_direction = 3\n"
     ]
    },
    {
     "name": "stderr",
     "output_type": "stream",
     "text": [
      "Saved data/processed/2024-06-18_E8-0/E5/precut/left_side_l_and_m-time_vs_fluorescence_intensity.svg\n",
      "Saved data/processed/2024-06-18_E8-0/E5/precut/left_side_l_and_m-xlim_0_to_10-time_vs_fluorescence_intensity.svg\n",
      "Saved data/processed/2024-06-18_E8-0/E5/precut/right_side_l_and_m-time_vs_fluorescence_intensity.svg\n",
      "Saved data/processed/2024-06-18_E8-0/E5/precut/right_side_l_and_m-xlim_0_to_10-time_vs_fluorescence_intensity.svg\n",
      "Saved data/processed/2024-06-18_E8-0/E5/precut/left_side_i-time_vs_fluorescence_intensity.svg\n",
      "Saved data/processed/2024-06-18_E8-0/E5/precut/left_side_i-xlim_0_to_10-time_vs_fluorescence_intensity.svg\n",
      "Saved data/processed/2024-06-18_E8-0/E5/precut/right_side_i-time_vs_fluorescence_intensity.svg\n",
      "Saved data/processed/2024-06-18_E8-0/E5/precut/right_side_i-xlim_0_to_10-time_vs_fluorescence_intensity.svg\n",
      "data/interim/2024-06-18_E8-0/E5/postcut/ already exists and has not been overwritten\n",
      "data/processed/2024-06-18_E8-0/E5/postcut/ already exists and has not been overwritten\n",
      "Loaded data/raw/2024-06-18_E8-0/E5/postcut/240618_GCaMP_E8.0_Exp10_E5_20x_320cyc_postcut_mid_t1_ls10_stage-4_dur-30.58.csv\n",
      "Filtered columns using regex 'Mean': Mean(LL), Mean(LI), Mean(LM), Mean(RM), Mean(RI), Mean(RL)\n",
      "Min max normalised DataFrame\n",
      "Saved data/processed/2024-06-18_E8-0/E5/postcut/all_roi-time_vs_fluorescence_intensity.svg\n"
     ]
    },
    {
     "name": "stdout",
     "output_type": "stream",
     "text": [
      "Left: lateral -> medial ---> right: lateral -> medial\n",
      "Left: 1.223 +/- 0.509 ---> right: 1.918 +/- 0.336\n",
      "overall_direction = 3\n"
     ]
    },
    {
     "name": "stderr",
     "output_type": "stream",
     "text": [
      "Saved data/processed/2024-06-18_E8-0/E5/postcut/left_side_l_and_m-time_vs_fluorescence_intensity.svg\n",
      "Saved data/processed/2024-06-18_E8-0/E5/postcut/left_side_l_and_m-xlim_0_to_10-time_vs_fluorescence_intensity.svg\n",
      "Saved data/processed/2024-06-18_E8-0/E5/postcut/right_side_l_and_m-time_vs_fluorescence_intensity.svg\n",
      "Saved data/processed/2024-06-18_E8-0/E5/postcut/right_side_l_and_m-xlim_0_to_10-time_vs_fluorescence_intensity.svg\n",
      "Saved data/processed/2024-06-18_E8-0/E5/postcut/left_side_i-time_vs_fluorescence_intensity.svg\n",
      "Saved data/processed/2024-06-18_E8-0/E5/postcut/left_side_i-xlim_0_to_10-time_vs_fluorescence_intensity.svg\n",
      "Saved data/processed/2024-06-18_E8-0/E5/postcut/right_side_i-time_vs_fluorescence_intensity.svg\n",
      "Saved data/processed/2024-06-18_E8-0/E5/postcut/right_side_i-xlim_0_to_10-time_vs_fluorescence_intensity.svg\n",
      "data/interim/2024-06-18_E8-0/E2/precut/ already exists and has not been overwritten\n",
      "data/processed/2024-06-18_E8-0/E2/precut/ already exists and has not been overwritten\n",
      "Loaded data/raw/2024-06-18_E8-0/E2/precut/240618_GCaMP_E8.0_Exp10_E2_20x_320cyc_precut_mid_t1_ls10_stage-2_dur-30.58.csv\n",
      "Filtered columns using regex 'Mean': Mean(LL), Mean(LI), Mean(LM), Mean(RM), Mean(RI), Mean(RL)\n",
      "Min max normalised DataFrame\n",
      "Saved data/processed/2024-06-18_E8-0/E2/precut/all_roi-time_vs_fluorescence_intensity.svg\n"
     ]
    },
    {
     "name": "stdout",
     "output_type": "stream",
     "text": [
      "Left: lateral -> medial ---> right: lateral -> medial\n",
      "Left: 2.1 +/- 0.376 ---> right: 1.615 +/- 0.594\n",
      "overall_direction = 3\n"
     ]
    },
    {
     "name": "stderr",
     "output_type": "stream",
     "text": [
      "Saved data/processed/2024-06-18_E8-0/E2/precut/left_side_l_and_m-time_vs_fluorescence_intensity.svg\n",
      "Saved data/processed/2024-06-18_E8-0/E2/precut/left_side_l_and_m-xlim_0_to_10-time_vs_fluorescence_intensity.svg\n",
      "Saved data/processed/2024-06-18_E8-0/E2/precut/right_side_l_and_m-time_vs_fluorescence_intensity.svg\n",
      "Saved data/processed/2024-06-18_E8-0/E2/precut/right_side_l_and_m-xlim_0_to_10-time_vs_fluorescence_intensity.svg\n",
      "Saved data/processed/2024-06-18_E8-0/E2/precut/left_side_i-time_vs_fluorescence_intensity.svg\n",
      "Saved data/processed/2024-06-18_E8-0/E2/precut/left_side_i-xlim_0_to_10-time_vs_fluorescence_intensity.svg\n",
      "Saved data/processed/2024-06-18_E8-0/E2/precut/right_side_i-time_vs_fluorescence_intensity.svg\n",
      "Saved data/processed/2024-06-18_E8-0/E2/precut/right_side_i-xlim_0_to_10-time_vs_fluorescence_intensity.svg\n",
      "data/interim/2024-06-18_E8-0/E2/postcut/ already exists and has not been overwritten\n",
      "data/processed/2024-06-18_E8-0/E2/postcut/ already exists and has not been overwritten\n",
      "Loaded data/raw/2024-06-18_E8-0/E2/postcut/240618_GCaMP_E8.0_Exp10_E2_20x_320cyc_postcut_mid_t1_ls10_stage-2_dur-30.58.csv\n",
      "Filtered columns using regex 'Mean': Mean(LL), Mean(LI), Mean(LM), Mean(RM), Mean(RI), Mean(RL)\n",
      "Min max normalised DataFrame\n",
      "Saved data/processed/2024-06-18_E8-0/E2/postcut/all_roi-time_vs_fluorescence_intensity.svg\n"
     ]
    },
    {
     "name": "stdout",
     "output_type": "stream",
     "text": [
      "Left: lateral -> medial ---> right: lateral -> medial\n",
      "Left: 0.674 +/- 0.218 ---> right: 2.494 +/- 0.182\n",
      "overall_direction = 3\n"
     ]
    },
    {
     "name": "stderr",
     "output_type": "stream",
     "text": [
      "Saved data/processed/2024-06-18_E8-0/E2/postcut/left_side_l_and_m-time_vs_fluorescence_intensity.svg\n",
      "Saved data/processed/2024-06-18_E8-0/E2/postcut/left_side_l_and_m-xlim_0_to_10-time_vs_fluorescence_intensity.svg\n",
      "Saved data/processed/2024-06-18_E8-0/E2/postcut/right_side_l_and_m-time_vs_fluorescence_intensity.svg\n",
      "Saved data/processed/2024-06-18_E8-0/E2/postcut/right_side_l_and_m-xlim_0_to_10-time_vs_fluorescence_intensity.svg\n",
      "Saved data/processed/2024-06-18_E8-0/E2/postcut/left_side_i-time_vs_fluorescence_intensity.svg\n",
      "Saved data/processed/2024-06-18_E8-0/E2/postcut/left_side_i-xlim_0_to_10-time_vs_fluorescence_intensity.svg\n",
      "Saved data/processed/2024-06-18_E8-0/E2/postcut/right_side_i-time_vs_fluorescence_intensity.svg\n",
      "Saved data/processed/2024-06-18_E8-0/E2/postcut/right_side_i-xlim_0_to_10-time_vs_fluorescence_intensity.svg\n",
      "data/interim/2024-06-18_E8-0/E3/precut/ already exists and has not been overwritten\n",
      "data/processed/2024-06-18_E8-0/E3/precut/ already exists and has not been overwritten\n",
      "Loaded data/raw/2024-06-18_E8-0/E3/precut/240618_GCaMP_E8.0_Exp10_E3_20x_320cyc_precut_mid_t1_ls10_stage-1_dur-30.58.csv\n",
      "Filtered columns using regex 'Mean': Mean(LL), Mean(LI), Mean(LM), Mean(RM), Mean(RI), Mean(RL)\n",
      "Min max normalised DataFrame\n",
      "Saved data/processed/2024-06-18_E8-0/E3/precut/all_roi-time_vs_fluorescence_intensity.svg\n"
     ]
    },
    {
     "name": "stdout",
     "output_type": "stream",
     "text": [
      "Left: lateral -> medial ---> right: lateral -> medial\n",
      "Left: 1.218 +/- 0.151 ---> right: 1.359 +/- 0.137\n",
      "overall_direction = 3\n"
     ]
    },
    {
     "name": "stderr",
     "output_type": "stream",
     "text": [
      "Saved data/processed/2024-06-18_E8-0/E3/precut/left_side_l_and_m-time_vs_fluorescence_intensity.svg\n",
      "Saved data/processed/2024-06-18_E8-0/E3/precut/left_side_l_and_m-xlim_0_to_10-time_vs_fluorescence_intensity.svg\n",
      "Saved data/processed/2024-06-18_E8-0/E3/precut/right_side_l_and_m-time_vs_fluorescence_intensity.svg\n",
      "Saved data/processed/2024-06-18_E8-0/E3/precut/right_side_l_and_m-xlim_0_to_10-time_vs_fluorescence_intensity.svg\n",
      "Saved data/processed/2024-06-18_E8-0/E3/precut/left_side_i-time_vs_fluorescence_intensity.svg\n",
      "Saved data/processed/2024-06-18_E8-0/E3/precut/left_side_i-xlim_0_to_10-time_vs_fluorescence_intensity.svg\n",
      "Saved data/processed/2024-06-18_E8-0/E3/precut/right_side_i-time_vs_fluorescence_intensity.svg\n",
      "Saved data/processed/2024-06-18_E8-0/E3/precut/right_side_i-xlim_0_to_10-time_vs_fluorescence_intensity.svg\n",
      "data/interim/2024-06-18_E8-0/E3/postcut/ already exists and has not been overwritten\n",
      "data/processed/2024-06-18_E8-0/E3/postcut/ already exists and has not been overwritten\n",
      "Loaded data/raw/2024-06-18_E8-0/E3/postcut/240618_GCaMP_E8.0_Exp10_E3_20x_320cyc_postcut_mid_t1_ls10_stage-1_dur-30.58.csv\n",
      "Filtered columns using regex 'Mean': Mean(LL), Mean(LI), Mean(LM), Mean(RM), Mean(RI), Mean(RL)\n",
      "Min max normalised DataFrame\n",
      "Saved data/processed/2024-06-18_E8-0/E3/postcut/all_roi-time_vs_fluorescence_intensity.svg\n"
     ]
    },
    {
     "name": "stdout",
     "output_type": "stream",
     "text": [
      "Left: lateral -> medial ---> right: lateral -> medial\n",
      "Left: 0.242 +/- 0.78 ---> right: 0.569 +/- 0.209\n",
      "overall_direction = 3\n"
     ]
    },
    {
     "name": "stderr",
     "output_type": "stream",
     "text": [
      "Saved data/processed/2024-06-18_E8-0/E3/postcut/left_side_l_and_m-time_vs_fluorescence_intensity.svg\n",
      "Saved data/processed/2024-06-18_E8-0/E3/postcut/left_side_l_and_m-xlim_0_to_10-time_vs_fluorescence_intensity.svg\n",
      "Saved data/processed/2024-06-18_E8-0/E3/postcut/right_side_l_and_m-time_vs_fluorescence_intensity.svg\n",
      "Saved data/processed/2024-06-18_E8-0/E3/postcut/right_side_l_and_m-xlim_0_to_10-time_vs_fluorescence_intensity.svg\n",
      "Saved data/processed/2024-06-18_E8-0/E3/postcut/left_side_i-time_vs_fluorescence_intensity.svg\n",
      "Saved data/processed/2024-06-18_E8-0/E3/postcut/left_side_i-xlim_0_to_10-time_vs_fluorescence_intensity.svg\n",
      "Saved data/processed/2024-06-18_E8-0/E3/postcut/right_side_i-time_vs_fluorescence_intensity.svg\n",
      "Saved data/processed/2024-06-18_E8-0/E3/postcut/right_side_i-xlim_0_to_10-time_vs_fluorescence_intensity.svg\n",
      "data/interim/2024-06-18_E8-0/E4/precut/ already exists and has not been overwritten\n",
      "data/processed/2024-06-18_E8-0/E4/precut/ already exists and has not been overwritten\n",
      "Loaded data/raw/2024-06-18_E8-0/E4/precut/240618_GCaMP_E8.0_Exp10_E4_20x_320cyc_precut_mid_t1_ls10_stage-3_dur-30.58.csv\n",
      "Filtered columns using regex 'Mean': Mean(LL), Mean(LI), Mean(LM), Mean(RM), Mean(RI), Mean(RL)\n",
      "Min max normalised DataFrame\n",
      "Saved data/processed/2024-06-18_E8-0/E4/precut/all_roi-time_vs_fluorescence_intensity.svg\n"
     ]
    },
    {
     "name": "stdout",
     "output_type": "stream",
     "text": [
      "Left: lateral -> medial ---> right: lateral -> medial\n",
      "Left: 0.725 +/- 0.122 ---> right: 0.453 +/- 0.114\n",
      "overall_direction = 3\n"
     ]
    },
    {
     "name": "stderr",
     "output_type": "stream",
     "text": [
      "Saved data/processed/2024-06-18_E8-0/E4/precut/left_side_l_and_m-time_vs_fluorescence_intensity.svg\n",
      "Saved data/processed/2024-06-18_E8-0/E4/precut/left_side_l_and_m-xlim_0_to_10-time_vs_fluorescence_intensity.svg\n",
      "Saved data/processed/2024-06-18_E8-0/E4/precut/right_side_l_and_m-time_vs_fluorescence_intensity.svg\n",
      "Saved data/processed/2024-06-18_E8-0/E4/precut/right_side_l_and_m-xlim_0_to_10-time_vs_fluorescence_intensity.svg\n",
      "Saved data/processed/2024-06-18_E8-0/E4/precut/left_side_i-time_vs_fluorescence_intensity.svg\n",
      "Saved data/processed/2024-06-18_E8-0/E4/precut/left_side_i-xlim_0_to_10-time_vs_fluorescence_intensity.svg\n",
      "Saved data/processed/2024-06-18_E8-0/E4/precut/right_side_i-time_vs_fluorescence_intensity.svg\n",
      "Saved data/processed/2024-06-18_E8-0/E4/precut/right_side_i-xlim_0_to_10-time_vs_fluorescence_intensity.svg\n",
      "data/interim/2024-06-18_E8-0/E4/postcut/ already exists and has not been overwritten\n",
      "data/processed/2024-06-18_E8-0/E4/postcut/ already exists and has not been overwritten\n",
      "Loaded data/raw/2024-06-18_E8-0/E4/postcut/240618_GCaMP_E8.0_Exp10_E4_20x_320cyc_postcut_mid_t1_ls10_stage-3_dur-30.58.csv\n",
      "Filtered columns using regex 'Mean': Mean(LL), Mean(LI), Mean(LM), Mean(RM), Mean(RI), Mean(RL)\n",
      "Min max normalised DataFrame\n",
      "Saved data/processed/2024-06-18_E8-0/E4/postcut/all_roi-time_vs_fluorescence_intensity.svg\n"
     ]
    },
    {
     "name": "stdout",
     "output_type": "stream",
     "text": [
      "Trying LM - LI\n",
      "Left: lateral -> medial ---> right: lateral -> medial\n",
      "Left: 1.25 +/- 0.146 ---> right: 0.22 +/- 1.371\n",
      "overall_direction = 3\n"
     ]
    },
    {
     "name": "stderr",
     "output_type": "stream",
     "text": [
      "Saved data/processed/2024-06-18_E8-0/E4/postcut/left_side_l_and_m-time_vs_fluorescence_intensity.svg\n",
      "Saved data/processed/2024-06-18_E8-0/E4/postcut/left_side_l_and_m-xlim_0_to_10-time_vs_fluorescence_intensity.svg\n",
      "Saved data/processed/2024-06-18_E8-0/E4/postcut/right_side_l_and_m-time_vs_fluorescence_intensity.svg\n",
      "Saved data/processed/2024-06-18_E8-0/E4/postcut/right_side_l_and_m-xlim_0_to_10-time_vs_fluorescence_intensity.svg\n",
      "Saved data/processed/2024-06-18_E8-0/E4/postcut/left_side_i-time_vs_fluorescence_intensity.svg\n",
      "Saved data/processed/2024-06-18_E8-0/E4/postcut/left_side_i-xlim_0_to_10-time_vs_fluorescence_intensity.svg\n",
      "Saved data/processed/2024-06-18_E8-0/E4/postcut/right_side_i-time_vs_fluorescence_intensity.svg\n",
      "Saved data/processed/2024-06-18_E8-0/E4/postcut/right_side_i-xlim_0_to_10-time_vs_fluorescence_intensity.svg\n",
      "data/interim/2024-06-18_E8-0/E1/precut/ already exists and has not been overwritten\n",
      "data/processed/2024-06-18_E8-0/E1/precut/ already exists and has not been overwritten\n",
      "Loaded data/raw/2024-06-18_E8-0/E1/precut/240618_GCaMP_E8.0_Exp10_E1_20x_320cyc_precut_mid_t1_ls10_stage-3_dur-30.58.csv\n",
      "Filtered columns using regex 'Mean': Mean(LL), Mean(LI), Mean(LM), Mean(RM), Mean(RI), Mean(RL)\n",
      "Min max normalised DataFrame\n",
      "Saved data/processed/2024-06-18_E8-0/E1/precut/all_roi-time_vs_fluorescence_intensity.svg\n"
     ]
    },
    {
     "name": "stdout",
     "output_type": "stream",
     "text": [
      "Trying RM - RI\n",
      "Left: lateral -> medial ---> right: lateral -> medial\n",
      "Left: 1.87 +/- 0.491 ---> right: 0.508 +/- 1.287\n",
      "overall_direction = 3\n"
     ]
    },
    {
     "name": "stderr",
     "output_type": "stream",
     "text": [
      "Saved data/processed/2024-06-18_E8-0/E1/precut/left_side_l_and_m-time_vs_fluorescence_intensity.svg\n",
      "Saved data/processed/2024-06-18_E8-0/E1/precut/left_side_l_and_m-xlim_0_to_10-time_vs_fluorescence_intensity.svg\n",
      "Saved data/processed/2024-06-18_E8-0/E1/precut/right_side_l_and_m-time_vs_fluorescence_intensity.svg\n",
      "Saved data/processed/2024-06-18_E8-0/E1/precut/right_side_l_and_m-xlim_0_to_10-time_vs_fluorescence_intensity.svg\n",
      "Saved data/processed/2024-06-18_E8-0/E1/precut/left_side_i-time_vs_fluorescence_intensity.svg\n",
      "Saved data/processed/2024-06-18_E8-0/E1/precut/left_side_i-xlim_0_to_10-time_vs_fluorescence_intensity.svg\n",
      "Saved data/processed/2024-06-18_E8-0/E1/precut/right_side_i-time_vs_fluorescence_intensity.svg\n",
      "Saved data/processed/2024-06-18_E8-0/E1/precut/right_side_i-xlim_0_to_10-time_vs_fluorescence_intensity.svg\n",
      "data/interim/2024-06-18_E8-0/E1/postcut/ already exists and has not been overwritten\n",
      "data/processed/2024-06-18_E8-0/E1/postcut/ already exists and has not been overwritten\n",
      "Loaded data/raw/2024-06-18_E8-0/E1/postcut/240618_GCaMP_E8.0_Exp10_E1_20x_320cyc_postcut_mid_t1_ls10_stage-3_dur-30.58.csv\n",
      "Filtered columns using regex 'Mean': Mean(LL), Mean(LI), Mean(LM), Mean(RM), Mean(RI), Mean(RL)\n",
      "Min max normalised DataFrame\n",
      "Saved data/processed/2024-06-18_E8-0/E1/postcut/all_roi-time_vs_fluorescence_intensity.svg\n"
     ]
    },
    {
     "name": "stdout",
     "output_type": "stream",
     "text": [
      "Left: lateral -> medial ---> right: lateral -> medial\n",
      "Left: 2.393 +/- 0.216 ---> right: 2.271 +/- 0.171\n",
      "overall_direction = 3\n"
     ]
    },
    {
     "name": "stderr",
     "output_type": "stream",
     "text": [
      "Saved data/processed/2024-06-18_E8-0/E1/postcut/left_side_l_and_m-time_vs_fluorescence_intensity.svg\n",
      "Saved data/processed/2024-06-18_E8-0/E1/postcut/left_side_l_and_m-xlim_0_to_10-time_vs_fluorescence_intensity.svg\n",
      "Saved data/processed/2024-06-18_E8-0/E1/postcut/right_side_l_and_m-time_vs_fluorescence_intensity.svg\n",
      "Saved data/processed/2024-06-18_E8-0/E1/postcut/right_side_l_and_m-xlim_0_to_10-time_vs_fluorescence_intensity.svg\n",
      "Saved data/processed/2024-06-18_E8-0/E1/postcut/left_side_i-time_vs_fluorescence_intensity.svg\n",
      "Saved data/processed/2024-06-18_E8-0/E1/postcut/left_side_i-xlim_0_to_10-time_vs_fluorescence_intensity.svg\n",
      "Saved data/processed/2024-06-18_E8-0/E1/postcut/right_side_i-time_vs_fluorescence_intensity.svg\n",
      "Saved data/processed/2024-06-18_E8-0/E1/postcut/right_side_i-xlim_0_to_10-time_vs_fluorescence_intensity.svg\n",
      "data/interim/2024-06-18_E8-0/E6/precut/ already exists and has not been overwritten\n",
      "data/processed/2024-06-18_E8-0/E6/precut/ already exists and has not been overwritten\n",
      "Loaded data/raw/2024-06-18_E8-0/E6/precut/240618_GCaMP_E8.0_Exp10_E6_20x_320cyc_precut_mid_t1_ls10_stage-4_dur-30.58.csv\n",
      "Filtered columns using regex 'Mean': Mean(LL), Mean(LI), Mean(LM), Mean(RM), Mean(RI), Mean(RL)\n",
      "Min max normalised DataFrame\n",
      "Saved data/processed/2024-06-18_E8-0/E6/precut/all_roi-time_vs_fluorescence_intensity.svg\n"
     ]
    },
    {
     "name": "stdout",
     "output_type": "stream",
     "text": [
      "Left: lateral -> medial ---> right: lateral -> medial\n",
      "Left: 2.642 +/- 0.271 ---> right: 1.545 +/- 0.216\n",
      "overall_direction = 3\n"
     ]
    },
    {
     "name": "stderr",
     "output_type": "stream",
     "text": [
      "Saved data/processed/2024-06-18_E8-0/E6/precut/left_side_l_and_m-time_vs_fluorescence_intensity.svg\n",
      "Saved data/processed/2024-06-18_E8-0/E6/precut/left_side_l_and_m-xlim_0_to_10-time_vs_fluorescence_intensity.svg\n",
      "Saved data/processed/2024-06-18_E8-0/E6/precut/right_side_l_and_m-time_vs_fluorescence_intensity.svg\n",
      "Saved data/processed/2024-06-18_E8-0/E6/precut/right_side_l_and_m-xlim_0_to_10-time_vs_fluorescence_intensity.svg\n",
      "Saved data/processed/2024-06-18_E8-0/E6/precut/left_side_i-time_vs_fluorescence_intensity.svg\n",
      "Saved data/processed/2024-06-18_E8-0/E6/precut/left_side_i-xlim_0_to_10-time_vs_fluorescence_intensity.svg\n",
      "Saved data/processed/2024-06-18_E8-0/E6/precut/right_side_i-time_vs_fluorescence_intensity.svg\n",
      "Saved data/processed/2024-06-18_E8-0/E6/precut/right_side_i-xlim_0_to_10-time_vs_fluorescence_intensity.svg\n",
      "data/interim/2024-06-18_E8-0/E6/postcut/ already exists and has not been overwritten\n",
      "data/processed/2024-06-18_E8-0/E6/postcut/ already exists and has not been overwritten\n",
      "Loaded data/raw/2024-06-18_E8-0/E6/postcut/240618_GCaMP_E8.0_Exp10_E6_20x_320cyc_postcut_mid_t1_ls10_stage-4_dur-30.58.csv\n",
      "Filtered columns using regex 'Mean': Mean(LL), Mean(LI), Mean(LM), Mean(RM), Mean(RI), Mean(RL)\n",
      "Min max normalised DataFrame\n",
      "Saved data/processed/2024-06-18_E8-0/E6/postcut/all_roi-time_vs_fluorescence_intensity.svg\n"
     ]
    },
    {
     "name": "stdout",
     "output_type": "stream",
     "text": [
      "Left: lateral -> medial ---> right: lateral -> medial\n",
      "Left: 2.23 +/- 0.275 ---> right: 1.064 +/- 0.24\n",
      "overall_direction = 3\n"
     ]
    },
    {
     "name": "stderr",
     "output_type": "stream",
     "text": [
      "Saved data/processed/2024-06-18_E8-0/E6/postcut/left_side_l_and_m-time_vs_fluorescence_intensity.svg\n",
      "Saved data/processed/2024-06-18_E8-0/E6/postcut/left_side_l_and_m-xlim_0_to_10-time_vs_fluorescence_intensity.svg\n",
      "Saved data/processed/2024-06-18_E8-0/E6/postcut/right_side_l_and_m-time_vs_fluorescence_intensity.svg\n",
      "Saved data/processed/2024-06-18_E8-0/E6/postcut/right_side_l_and_m-xlim_0_to_10-time_vs_fluorescence_intensity.svg\n",
      "Saved data/processed/2024-06-18_E8-0/E6/postcut/left_side_i-time_vs_fluorescence_intensity.svg\n",
      "Saved data/processed/2024-06-18_E8-0/E6/postcut/left_side_i-xlim_0_to_10-time_vs_fluorescence_intensity.svg\n",
      "Saved data/processed/2024-06-18_E8-0/E6/postcut/right_side_i-time_vs_fluorescence_intensity.svg\n",
      "Saved data/processed/2024-06-18_E8-0/E6/postcut/right_side_i-xlim_0_to_10-time_vs_fluorescence_intensity.svg\n",
      "data/interim/2024-06-18_E8-0/E9/precut/ already exists and has not been overwritten\n",
      "data/processed/2024-06-18_E8-0/E9/precut/ already exists and has not been overwritten\n",
      "Loaded data/raw/2024-06-18_E8-0/E9/precut/240618_GCaMP_E8.0_Exp10_E9_20x_320cyc_precut_mid_t1_ls10_stage-2_dur-30.58.csv\n",
      "Filtered columns using regex 'Mean': Mean(LL), Mean(LI), Mean(LM), Mean(RM), Mean(RI), Mean(RL)\n",
      "Min max normalised DataFrame\n",
      "Saved data/processed/2024-06-18_E8-0/E9/precut/all_roi-time_vs_fluorescence_intensity.svg\n"
     ]
    },
    {
     "name": "stdout",
     "output_type": "stream",
     "text": [
      "Left: lateral -> medial ---> right: lateral -> medial\n",
      "Left: 1.189 +/- 0.673 ---> right: 1.256 +/- 0.453\n",
      "overall_direction = 3\n"
     ]
    },
    {
     "name": "stderr",
     "output_type": "stream",
     "text": [
      "Saved data/processed/2024-06-18_E8-0/E9/precut/left_side_l_and_m-time_vs_fluorescence_intensity.svg\n",
      "Saved data/processed/2024-06-18_E8-0/E9/precut/left_side_l_and_m-xlim_0_to_10-time_vs_fluorescence_intensity.svg\n",
      "Saved data/processed/2024-06-18_E8-0/E9/precut/right_side_l_and_m-time_vs_fluorescence_intensity.svg\n",
      "Saved data/processed/2024-06-18_E8-0/E9/precut/right_side_l_and_m-xlim_0_to_10-time_vs_fluorescence_intensity.svg\n",
      "Saved data/processed/2024-06-18_E8-0/E9/precut/left_side_i-time_vs_fluorescence_intensity.svg\n",
      "Saved data/processed/2024-06-18_E8-0/E9/precut/left_side_i-xlim_0_to_10-time_vs_fluorescence_intensity.svg\n",
      "Saved data/processed/2024-06-18_E8-0/E9/precut/right_side_i-time_vs_fluorescence_intensity.svg\n",
      "Saved data/processed/2024-06-18_E8-0/E9/precut/right_side_i-xlim_0_to_10-time_vs_fluorescence_intensity.svg\n",
      "data/interim/2024-06-18_E8-0/E9/postcut/ already exists and has not been overwritten\n",
      "data/processed/2024-06-18_E8-0/E9/postcut/ already exists and has not been overwritten\n",
      "Loaded data/raw/2024-06-18_E8-0/E9/postcut/240618_GCaMP_E8.0_Exp10_E9_20x_320cyc_postcut_mid_t1_ls10_stage-2_dur-30.58.csv\n",
      "Filtered columns using regex 'Mean': Mean(LL), Mean(LI), Mean(LM), Mean(RM), Mean(RI), Mean(RL)\n",
      "Min max normalised DataFrame\n",
      "Saved data/processed/2024-06-18_E8-0/E9/postcut/all_roi-time_vs_fluorescence_intensity.svg\n"
     ]
    },
    {
     "name": "stdout",
     "output_type": "stream",
     "text": [
      "Left: lateral -> medial ---> right: medial -> lateral\n",
      "Left: 0.954 +/- 0.14 ---> right: -0.231 +/- 0.194\n",
      "overall_direction = 1\n"
     ]
    },
    {
     "name": "stderr",
     "output_type": "stream",
     "text": [
      "Saved data/processed/2024-06-18_E8-0/E9/postcut/left_side_l_and_m-time_vs_fluorescence_intensity.svg\n",
      "Saved data/processed/2024-06-18_E8-0/E9/postcut/left_side_l_and_m-xlim_0_to_10-time_vs_fluorescence_intensity.svg\n",
      "Saved data/processed/2024-06-18_E8-0/E9/postcut/right_side_l_and_m-time_vs_fluorescence_intensity.svg\n",
      "Saved data/processed/2024-06-18_E8-0/E9/postcut/right_side_l_and_m-xlim_0_to_10-time_vs_fluorescence_intensity.svg\n",
      "Saved data/processed/2024-06-18_E8-0/E9/postcut/left_side_i-time_vs_fluorescence_intensity.svg\n",
      "Saved data/processed/2024-06-18_E8-0/E9/postcut/left_side_i-xlim_0_to_10-time_vs_fluorescence_intensity.svg\n",
      "Saved data/processed/2024-06-18_E8-0/E9/postcut/right_side_i-time_vs_fluorescence_intensity.svg\n",
      "Saved data/processed/2024-06-18_E8-0/E9/postcut/right_side_i-xlim_0_to_10-time_vs_fluorescence_intensity.svg\n",
      "data/interim/2024-06-18_E8-0/E7/precut/ already exists and has not been overwritten\n",
      "data/processed/2024-06-18_E8-0/E7/precut/ already exists and has not been overwritten\n",
      "Loaded data/raw/2024-06-18_E8-0/E7/precut/240618_GCaMP_E8.0_Exp10_E7_20x_320cyc_precut_mid_t1_ls10_stage-2_dur-30.58.csv\n",
      "Filtered columns using regex 'Mean': Mean(LL), Mean(LI), Mean(LM), Mean(RM), Mean(RI), Mean(RL)\n",
      "Min max normalised DataFrame\n",
      "Saved data/processed/2024-06-18_E8-0/E7/precut/all_roi-time_vs_fluorescence_intensity.svg\n"
     ]
    },
    {
     "name": "stdout",
     "output_type": "stream",
     "text": [
      "Left: medial -> lateral ---> right: lateral -> medial\n",
      "Left: -9.704 +/- 0.325 ---> right: 0.512 +/- 0.404\n",
      "overall_direction = 2\n"
     ]
    },
    {
     "name": "stderr",
     "output_type": "stream",
     "text": [
      "Saved data/processed/2024-06-18_E8-0/E7/precut/left_side_l_and_m-time_vs_fluorescence_intensity.svg\n",
      "Saved data/processed/2024-06-18_E8-0/E7/precut/left_side_l_and_m-xlim_0_to_10-time_vs_fluorescence_intensity.svg\n",
      "Saved data/processed/2024-06-18_E8-0/E7/precut/right_side_l_and_m-time_vs_fluorescence_intensity.svg\n",
      "Saved data/processed/2024-06-18_E8-0/E7/precut/right_side_l_and_m-xlim_0_to_10-time_vs_fluorescence_intensity.svg\n",
      "Saved data/processed/2024-06-18_E8-0/E7/precut/left_side_i-time_vs_fluorescence_intensity.svg\n",
      "Saved data/processed/2024-06-18_E8-0/E7/precut/left_side_i-xlim_0_to_10-time_vs_fluorescence_intensity.svg\n",
      "Saved data/processed/2024-06-18_E8-0/E7/precut/right_side_i-time_vs_fluorescence_intensity.svg\n",
      "Saved data/processed/2024-06-18_E8-0/E7/precut/right_side_i-xlim_0_to_10-time_vs_fluorescence_intensity.svg\n",
      "data/interim/2024-06-18_E8-0/E7/postcut/ already exists and has not been overwritten\n",
      "data/processed/2024-06-18_E8-0/E7/postcut/ already exists and has not been overwritten\n",
      "Loaded data/raw/2024-06-18_E8-0/E7/postcut/240618_GCaMP_E8.0_Exp10_E7_20x_320cyc_postcut_mid_t1_ls10_stage-2_dur-30.58.csv\n",
      "Filtered columns using regex 'Mean': Mean(LL), Mean(LI), Mean(LM), Mean(RM), Mean(RI), Mean(RL)\n",
      "Min max normalised DataFrame\n",
      "Saved data/processed/2024-06-18_E8-0/E7/postcut/all_roi-time_vs_fluorescence_intensity.svg\n"
     ]
    },
    {
     "name": "stdout",
     "output_type": "stream",
     "text": [
      "Left: lateral -> medial ---> right: lateral -> medial\n",
      "Left: 0.73 +/- 0.177 ---> right: 1.579 +/- 0.222\n",
      "overall_direction = 3\n"
     ]
    },
    {
     "name": "stderr",
     "output_type": "stream",
     "text": [
      "Saved data/processed/2024-06-18_E8-0/E7/postcut/left_side_l_and_m-time_vs_fluorescence_intensity.svg\n",
      "Saved data/processed/2024-06-18_E8-0/E7/postcut/left_side_l_and_m-xlim_0_to_10-time_vs_fluorescence_intensity.svg\n",
      "Saved data/processed/2024-06-18_E8-0/E7/postcut/right_side_l_and_m-time_vs_fluorescence_intensity.svg\n",
      "Saved data/processed/2024-06-18_E8-0/E7/postcut/right_side_l_and_m-xlim_0_to_10-time_vs_fluorescence_intensity.svg\n",
      "Saved data/processed/2024-06-18_E8-0/E7/postcut/left_side_i-time_vs_fluorescence_intensity.svg\n",
      "Saved data/processed/2024-06-18_E8-0/E7/postcut/left_side_i-xlim_0_to_10-time_vs_fluorescence_intensity.svg\n",
      "Saved data/processed/2024-06-18_E8-0/E7/postcut/right_side_i-time_vs_fluorescence_intensity.svg\n",
      "Saved data/processed/2024-06-18_E8-0/E7/postcut/right_side_i-xlim_0_to_10-time_vs_fluorescence_intensity.svg\n",
      "data/interim/2024-05-23_E8-0/E5/precut/ already exists and has not been overwritten\n",
      "data/processed/2024-05-23_E8-0/E5/precut/ already exists and has not been overwritten\n",
      "Loaded data/raw/2024-05-23_E8-0/E5/precut/240523_GCaMP_E8.0_Exp6_E5_20x_320cyc_precut_mid_t1_ls10_stage-2_dur-30.58.csv\n",
      "Filtered columns using regex 'Mean': Mean(LL), Mean(LI), Mean(LM), Mean(RM), Mean(RI), Mean(RL)\n",
      "Min max normalised DataFrame\n",
      "Saved data/processed/2024-05-23_E8-0/E5/precut/all_roi-time_vs_fluorescence_intensity.svg\n"
     ]
    },
    {
     "name": "stdout",
     "output_type": "stream",
     "text": [
      "Left: lateral -> medial ---> right: lateral -> medial\n",
      "Left: 1.305 +/- 0.27 ---> right: 0.84 +/- 0.33\n",
      "overall_direction = 3\n"
     ]
    },
    {
     "name": "stderr",
     "output_type": "stream",
     "text": [
      "Saved data/processed/2024-05-23_E8-0/E5/precut/left_side_l_and_m-time_vs_fluorescence_intensity.svg\n",
      "Saved data/processed/2024-05-23_E8-0/E5/precut/left_side_l_and_m-xlim_0_to_10-time_vs_fluorescence_intensity.svg\n",
      "Saved data/processed/2024-05-23_E8-0/E5/precut/right_side_l_and_m-time_vs_fluorescence_intensity.svg\n",
      "Saved data/processed/2024-05-23_E8-0/E5/precut/right_side_l_and_m-xlim_0_to_10-time_vs_fluorescence_intensity.svg\n",
      "Saved data/processed/2024-05-23_E8-0/E5/precut/left_side_i-time_vs_fluorescence_intensity.svg\n",
      "Saved data/processed/2024-05-23_E8-0/E5/precut/left_side_i-xlim_0_to_10-time_vs_fluorescence_intensity.svg\n",
      "Saved data/processed/2024-05-23_E8-0/E5/precut/right_side_i-time_vs_fluorescence_intensity.svg\n",
      "Saved data/processed/2024-05-23_E8-0/E5/precut/right_side_i-xlim_0_to_10-time_vs_fluorescence_intensity.svg\n",
      "data/interim/2024-05-23_E8-0/E5/postcut/ already exists and has not been overwritten\n",
      "data/processed/2024-05-23_E8-0/E5/postcut/ already exists and has not been overwritten\n",
      "Loaded data/raw/2024-05-23_E8-0/E5/postcut/240523_GCaMP_E8.0_Exp6_E5_20x_320cyc_postcut_mid_t1_ls10_stage-2_dur-30.58.csv\n",
      "Filtered columns using regex 'Mean': Mean(LL), Mean(LI), Mean(LM), Mean(RM), Mean(RI), Mean(RL)\n",
      "Min max normalised DataFrame\n",
      "Saved data/processed/2024-05-23_E8-0/E5/postcut/all_roi-time_vs_fluorescence_intensity.svg\n"
     ]
    },
    {
     "name": "stdout",
     "output_type": "stream",
     "text": [
      "Left: lateral -> medial ---> right: lateral -> medial\n",
      "Left: 0.948 +/- 0.217 ---> right: 0.874 +/- 0.103\n",
      "overall_direction = 3\n"
     ]
    },
    {
     "name": "stderr",
     "output_type": "stream",
     "text": [
      "Saved data/processed/2024-05-23_E8-0/E5/postcut/left_side_l_and_m-time_vs_fluorescence_intensity.svg\n",
      "Saved data/processed/2024-05-23_E8-0/E5/postcut/left_side_l_and_m-xlim_0_to_10-time_vs_fluorescence_intensity.svg\n",
      "Saved data/processed/2024-05-23_E8-0/E5/postcut/right_side_l_and_m-time_vs_fluorescence_intensity.svg\n",
      "Saved data/processed/2024-05-23_E8-0/E5/postcut/right_side_l_and_m-xlim_0_to_10-time_vs_fluorescence_intensity.svg\n",
      "Saved data/processed/2024-05-23_E8-0/E5/postcut/left_side_i-time_vs_fluorescence_intensity.svg\n",
      "Saved data/processed/2024-05-23_E8-0/E5/postcut/left_side_i-xlim_0_to_10-time_vs_fluorescence_intensity.svg\n",
      "Saved data/processed/2024-05-23_E8-0/E5/postcut/right_side_i-time_vs_fluorescence_intensity.svg\n",
      "Saved data/processed/2024-05-23_E8-0/E5/postcut/right_side_i-xlim_0_to_10-time_vs_fluorescence_intensity.svg\n",
      "data/interim/2024-05-23_E8-0/E2/precut-t1/ already exists and has not been overwritten\n",
      "data/processed/2024-05-23_E8-0/E2/precut-t1/ already exists and has not been overwritten\n",
      "Loaded data/raw/2024-05-23_E8-0/E2/precut-t1/240523_GCaMP_E8.0_Exp6_E2_20x_320cyc_precut_mid_t1_ls10_stage-1_dur-30.58.csv\n",
      "Filtered columns using regex 'Mean': Mean(LL), Mean(LI), Mean(LM), Mean(RM), Mean(RI), Mean(RL)\n",
      "Min max normalised DataFrame\n",
      "Saved data/processed/2024-05-23_E8-0/E2/precut-t1/all_roi-time_vs_fluorescence_intensity.svg\n"
     ]
    },
    {
     "name": "stdout",
     "output_type": "stream",
     "text": [
      "Left: lateral -> medial ---> right: lateral -> medial\n",
      "Left: 1.833 +/- 0.17 ---> right: 0.586 +/- 0.27\n",
      "overall_direction = 3\n"
     ]
    },
    {
     "name": "stderr",
     "output_type": "stream",
     "text": [
      "Saved data/processed/2024-05-23_E8-0/E2/precut-t1/left_side_l_and_m-time_vs_fluorescence_intensity.svg\n",
      "Saved data/processed/2024-05-23_E8-0/E2/precut-t1/left_side_l_and_m-xlim_0_to_10-time_vs_fluorescence_intensity.svg\n",
      "Saved data/processed/2024-05-23_E8-0/E2/precut-t1/right_side_l_and_m-time_vs_fluorescence_intensity.svg\n",
      "Saved data/processed/2024-05-23_E8-0/E2/precut-t1/right_side_l_and_m-xlim_0_to_10-time_vs_fluorescence_intensity.svg\n",
      "Saved data/processed/2024-05-23_E8-0/E2/precut-t1/left_side_i-time_vs_fluorescence_intensity.svg\n",
      "Saved data/processed/2024-05-23_E8-0/E2/precut-t1/left_side_i-xlim_0_to_10-time_vs_fluorescence_intensity.svg\n",
      "Saved data/processed/2024-05-23_E8-0/E2/precut-t1/right_side_i-time_vs_fluorescence_intensity.svg\n",
      "Saved data/processed/2024-05-23_E8-0/E2/precut-t1/right_side_i-xlim_0_to_10-time_vs_fluorescence_intensity.svg\n",
      "data/interim/2024-05-23_E8-0/E2/precut-t0/ already exists and has not been overwritten\n",
      "data/processed/2024-05-23_E8-0/E2/precut-t0/ already exists and has not been overwritten\n",
      "Loaded data/raw/2024-05-23_E8-0/E2/precut-t0/240523_GCaMP_E8.0_Exp6_E2_20x_320cyc_precut_mid_t0_ls10_stage-1_dur-30.58.csv\n",
      "Filtered columns using regex 'Mean': Mean(LL), Mean(LI), Mean(LM), Mean(RM), Mean(RI), Mean(RL)\n",
      "Min max normalised DataFrame\n",
      "Saved data/processed/2024-05-23_E8-0/E2/precut-t0/all_roi-time_vs_fluorescence_intensity.svg\n"
     ]
    },
    {
     "name": "stdout",
     "output_type": "stream",
     "text": [
      "Left: lateral -> medial ---> right: medial -> lateral\n",
      "Left: 0.325 +/- 0.27 ---> right: -1.114 +/- 0.434\n",
      "overall_direction = 1\n"
     ]
    },
    {
     "name": "stderr",
     "output_type": "stream",
     "text": [
      "Saved data/processed/2024-05-23_E8-0/E2/precut-t0/left_side_l_and_m-time_vs_fluorescence_intensity.svg\n",
      "Saved data/processed/2024-05-23_E8-0/E2/precut-t0/left_side_l_and_m-xlim_0_to_10-time_vs_fluorescence_intensity.svg\n",
      "Saved data/processed/2024-05-23_E8-0/E2/precut-t0/right_side_l_and_m-time_vs_fluorescence_intensity.svg\n",
      "Saved data/processed/2024-05-23_E8-0/E2/precut-t0/right_side_l_and_m-xlim_0_to_10-time_vs_fluorescence_intensity.svg\n",
      "Saved data/processed/2024-05-23_E8-0/E2/precut-t0/left_side_i-time_vs_fluorescence_intensity.svg\n",
      "Saved data/processed/2024-05-23_E8-0/E2/precut-t0/left_side_i-xlim_0_to_10-time_vs_fluorescence_intensity.svg\n",
      "Saved data/processed/2024-05-23_E8-0/E2/precut-t0/right_side_i-time_vs_fluorescence_intensity.svg\n",
      "Saved data/processed/2024-05-23_E8-0/E2/precut-t0/right_side_i-xlim_0_to_10-time_vs_fluorescence_intensity.svg\n",
      "data/interim/2024-05-23_E8-0/E2/postcut/ already exists and has not been overwritten\n",
      "data/processed/2024-05-23_E8-0/E2/postcut/ already exists and has not been overwritten\n",
      "Loaded data/raw/2024-05-23_E8-0/E2/postcut/240523_GCaMP_E8.0_Exp6_E2_20x_320cyc_postcut_mid_t1_ls10_stage-1_dur-30.58.csv\n",
      "Filtered columns using regex 'Mean': Mean(LL), Mean(LI), Mean(LM), Mean(RM), Mean(RI), Mean(RL)\n",
      "Min max normalised DataFrame\n",
      "Saved data/processed/2024-05-23_E8-0/E2/postcut/all_roi-time_vs_fluorescence_intensity.svg\n"
     ]
    },
    {
     "name": "stdout",
     "output_type": "stream",
     "text": [
      "Left: lateral -> medial ---> right: lateral -> medial\n",
      "Left: 0.408 +/- 0.177 ---> right: 0.243 +/- 0.126\n",
      "overall_direction = 3\n"
     ]
    },
    {
     "name": "stderr",
     "output_type": "stream",
     "text": [
      "Saved data/processed/2024-05-23_E8-0/E2/postcut/left_side_l_and_m-time_vs_fluorescence_intensity.svg\n",
      "Saved data/processed/2024-05-23_E8-0/E2/postcut/left_side_l_and_m-xlim_0_to_10-time_vs_fluorescence_intensity.svg\n",
      "Saved data/processed/2024-05-23_E8-0/E2/postcut/right_side_l_and_m-time_vs_fluorescence_intensity.svg\n",
      "Saved data/processed/2024-05-23_E8-0/E2/postcut/right_side_l_and_m-xlim_0_to_10-time_vs_fluorescence_intensity.svg\n",
      "Saved data/processed/2024-05-23_E8-0/E2/postcut/left_side_i-time_vs_fluorescence_intensity.svg\n",
      "Saved data/processed/2024-05-23_E8-0/E2/postcut/left_side_i-xlim_0_to_10-time_vs_fluorescence_intensity.svg\n",
      "Saved data/processed/2024-05-23_E8-0/E2/postcut/right_side_i-time_vs_fluorescence_intensity.svg\n",
      "Saved data/processed/2024-05-23_E8-0/E2/postcut/right_side_i-xlim_0_to_10-time_vs_fluorescence_intensity.svg\n",
      "data/interim/2024-05-23_E8-0/E3/precut-t1/ already exists and has not been overwritten\n",
      "data/processed/2024-05-23_E8-0/E3/precut-t1/ already exists and has not been overwritten\n",
      "Loaded data/raw/2024-05-23_E8-0/E3/precut-t1/240523_GCaMP_E8.0_Exp6_E3_20x_320cyc_precut_mid_t1_ls10_stage-3_dur-30.58.csv\n",
      "Filtered columns using regex 'Mean': Mean(LL), Mean(LI), Mean(LM), Mean(RM), Mean(RI), Mean(RL)\n",
      "Min max normalised DataFrame\n",
      "Saved data/processed/2024-05-23_E8-0/E3/precut-t1/all_roi-time_vs_fluorescence_intensity.svg\n"
     ]
    },
    {
     "name": "stdout",
     "output_type": "stream",
     "text": [
      "Left: lateral -> medial ---> right: lateral -> medial\n",
      "Left: 0.537 +/- 0.213 ---> right: 0.478 +/- 0.277\n",
      "overall_direction = 3\n"
     ]
    },
    {
     "name": "stderr",
     "output_type": "stream",
     "text": [
      "Saved data/processed/2024-05-23_E8-0/E3/precut-t1/left_side_l_and_m-time_vs_fluorescence_intensity.svg\n",
      "Saved data/processed/2024-05-23_E8-0/E3/precut-t1/left_side_l_and_m-xlim_0_to_10-time_vs_fluorescence_intensity.svg\n",
      "Saved data/processed/2024-05-23_E8-0/E3/precut-t1/right_side_l_and_m-time_vs_fluorescence_intensity.svg\n",
      "Saved data/processed/2024-05-23_E8-0/E3/precut-t1/right_side_l_and_m-xlim_0_to_10-time_vs_fluorescence_intensity.svg\n",
      "Saved data/processed/2024-05-23_E8-0/E3/precut-t1/left_side_i-time_vs_fluorescence_intensity.svg\n",
      "Saved data/processed/2024-05-23_E8-0/E3/precut-t1/left_side_i-xlim_0_to_10-time_vs_fluorescence_intensity.svg\n",
      "Saved data/processed/2024-05-23_E8-0/E3/precut-t1/right_side_i-time_vs_fluorescence_intensity.svg\n",
      "Saved data/processed/2024-05-23_E8-0/E3/precut-t1/right_side_i-xlim_0_to_10-time_vs_fluorescence_intensity.svg\n",
      "data/interim/2024-05-23_E8-0/E3/precut-t0/ already exists and has not been overwritten\n",
      "data/processed/2024-05-23_E8-0/E3/precut-t0/ already exists and has not been overwritten\n",
      "Loaded data/raw/2024-05-23_E8-0/E3/precut-t0/240523_GCaMP_E8.0_Exp6_E3_20x_320cyc_precut_mid_t0_ls10_stage-3_dur-30.58.csv\n",
      "Filtered columns using regex 'Mean': Mean(LL), Mean(LI), Mean(LM), Mean(RM), Mean(RI), Mean(RL)\n",
      "Min max normalised DataFrame\n",
      "Saved data/processed/2024-05-23_E8-0/E3/precut-t0/all_roi-time_vs_fluorescence_intensity.svg\n"
     ]
    },
    {
     "name": "stdout",
     "output_type": "stream",
     "text": [
      "Left: lateral -> medial ---> right: lateral -> medial\n",
      "Left: 0.856 +/- 0.317 ---> right: 0.847 +/- 0.194\n",
      "overall_direction = 3\n"
     ]
    },
    {
     "name": "stderr",
     "output_type": "stream",
     "text": [
      "Saved data/processed/2024-05-23_E8-0/E3/precut-t0/left_side_l_and_m-time_vs_fluorescence_intensity.svg\n",
      "Saved data/processed/2024-05-23_E8-0/E3/precut-t0/left_side_l_and_m-xlim_0_to_10-time_vs_fluorescence_intensity.svg\n",
      "Saved data/processed/2024-05-23_E8-0/E3/precut-t0/right_side_l_and_m-time_vs_fluorescence_intensity.svg\n",
      "Saved data/processed/2024-05-23_E8-0/E3/precut-t0/right_side_l_and_m-xlim_0_to_10-time_vs_fluorescence_intensity.svg\n",
      "Saved data/processed/2024-05-23_E8-0/E3/precut-t0/left_side_i-time_vs_fluorescence_intensity.svg\n",
      "Saved data/processed/2024-05-23_E8-0/E3/precut-t0/left_side_i-xlim_0_to_10-time_vs_fluorescence_intensity.svg\n",
      "Saved data/processed/2024-05-23_E8-0/E3/precut-t0/right_side_i-time_vs_fluorescence_intensity.svg\n",
      "Saved data/processed/2024-05-23_E8-0/E3/precut-t0/right_side_i-xlim_0_to_10-time_vs_fluorescence_intensity.svg\n",
      "data/interim/2024-05-23_E8-0/E1/precut-t1/ already exists and has not been overwritten\n",
      "data/processed/2024-05-23_E8-0/E1/precut-t1/ already exists and has not been overwritten\n",
      "Loaded data/raw/2024-05-23_E8-0/E1/precut-t1/240523_GCaMP_E8.0_Exp6_E1_20x_320c_precut_mid_t1_ls10_stage-1_dur-30.58.csv\n",
      "Filtered columns using regex 'Mean': Mean(LL), Mean(LI), Mean(LM), Mean(RM), Mean(RI), Mean(RL)\n",
      "Min max normalised DataFrame\n",
      "Saved data/processed/2024-05-23_E8-0/E1/precut-t1/all_roi-time_vs_fluorescence_intensity.svg\n"
     ]
    },
    {
     "name": "stdout",
     "output_type": "stream",
     "text": [
      "Left: lateral -> medial ---> right: lateral -> medial\n",
      "Left: 1.334 +/- 0.303 ---> right: 0.337 +/- 0.311\n",
      "overall_direction = 3\n"
     ]
    },
    {
     "name": "stderr",
     "output_type": "stream",
     "text": [
      "Saved data/processed/2024-05-23_E8-0/E1/precut-t1/left_side_l_and_m-time_vs_fluorescence_intensity.svg\n",
      "Saved data/processed/2024-05-23_E8-0/E1/precut-t1/left_side_l_and_m-xlim_0_to_10-time_vs_fluorescence_intensity.svg\n",
      "Saved data/processed/2024-05-23_E8-0/E1/precut-t1/right_side_l_and_m-time_vs_fluorescence_intensity.svg\n",
      "Saved data/processed/2024-05-23_E8-0/E1/precut-t1/right_side_l_and_m-xlim_0_to_10-time_vs_fluorescence_intensity.svg\n",
      "Saved data/processed/2024-05-23_E8-0/E1/precut-t1/left_side_i-time_vs_fluorescence_intensity.svg\n",
      "Saved data/processed/2024-05-23_E8-0/E1/precut-t1/left_side_i-xlim_0_to_10-time_vs_fluorescence_intensity.svg\n",
      "Saved data/processed/2024-05-23_E8-0/E1/precut-t1/right_side_i-time_vs_fluorescence_intensity.svg\n",
      "Saved data/processed/2024-05-23_E8-0/E1/precut-t1/right_side_i-xlim_0_to_10-time_vs_fluorescence_intensity.svg\n",
      "data/interim/2024-05-23_E8-0/E1/precut-t0/ already exists and has not been overwritten\n",
      "data/processed/2024-05-23_E8-0/E1/precut-t0/ already exists and has not been overwritten\n",
      "Loaded data/raw/2024-05-23_E8-0/E1/precut-t0/240523_GCaMP_E8.0_Exp6_E1_20x_320c_precut_mid_t0_ls10_stage-1_dur-30.58.csv\n",
      "Filtered columns using regex 'Mean': Mean(LL), Mean(LI), Mean(LM), Mean(RM), Mean(RI), Mean(RL)\n",
      "Min max normalised DataFrame\n",
      "Saved data/processed/2024-05-23_E8-0/E1/precut-t0/all_roi-time_vs_fluorescence_intensity.svg\n"
     ]
    },
    {
     "name": "stdout",
     "output_type": "stream",
     "text": [
      "Left: medial -> lateral ---> right: lateral -> medial\n",
      "Left: -0.408 +/- 0.269 ---> right: 0.267 +/- 0.222\n",
      "overall_direction = 2\n"
     ]
    },
    {
     "name": "stderr",
     "output_type": "stream",
     "text": [
      "Saved data/processed/2024-05-23_E8-0/E1/precut-t0/left_side_l_and_m-time_vs_fluorescence_intensity.svg\n",
      "Saved data/processed/2024-05-23_E8-0/E1/precut-t0/left_side_l_and_m-xlim_0_to_10-time_vs_fluorescence_intensity.svg\n",
      "Saved data/processed/2024-05-23_E8-0/E1/precut-t0/right_side_l_and_m-time_vs_fluorescence_intensity.svg\n",
      "Saved data/processed/2024-05-23_E8-0/E1/precut-t0/right_side_l_and_m-xlim_0_to_10-time_vs_fluorescence_intensity.svg\n",
      "Saved data/processed/2024-05-23_E8-0/E1/precut-t0/left_side_i-time_vs_fluorescence_intensity.svg\n",
      "Saved data/processed/2024-05-23_E8-0/E1/precut-t0/left_side_i-xlim_0_to_10-time_vs_fluorescence_intensity.svg\n",
      "Saved data/processed/2024-05-23_E8-0/E1/precut-t0/right_side_i-time_vs_fluorescence_intensity.svg\n",
      "Saved data/processed/2024-05-23_E8-0/E1/precut-t0/right_side_i-xlim_0_to_10-time_vs_fluorescence_intensity.svg\n",
      "data/interim/2024-05-23_E8-0/E6/precut/ already exists and has not been overwritten\n",
      "data/processed/2024-05-23_E8-0/E6/precut/ already exists and has not been overwritten\n",
      "Loaded data/raw/2024-05-23_E8-0/E6/precut/240523_GCaMP_E8.0_Exp6_E6_20x_320cyc_precut_mid_t1_ls10_stage-1_dur-30.58.csv\n",
      "Filtered columns using regex 'Mean': Mean(LL), Mean(LI), Mean(LM), Mean(RM), Mean(RI), Mean(RL)\n",
      "Min max normalised DataFrame\n",
      "Saved data/processed/2024-05-23_E8-0/E6/precut/all_roi-time_vs_fluorescence_intensity.svg\n"
     ]
    },
    {
     "name": "stdout",
     "output_type": "stream",
     "text": [
      "Left: medial -> lateral ---> right: medial -> lateral\n",
      "Left: -1.015 +/- 0.714 ---> right: -0.438 +/- 0.407\n",
      "overall_direction = 4\n"
     ]
    },
    {
     "name": "stderr",
     "output_type": "stream",
     "text": [
      "Saved data/processed/2024-05-23_E8-0/E6/precut/left_side_l_and_m-time_vs_fluorescence_intensity.svg\n",
      "Saved data/processed/2024-05-23_E8-0/E6/precut/left_side_l_and_m-xlim_0_to_10-time_vs_fluorescence_intensity.svg\n",
      "Saved data/processed/2024-05-23_E8-0/E6/precut/right_side_l_and_m-time_vs_fluorescence_intensity.svg\n",
      "Saved data/processed/2024-05-23_E8-0/E6/precut/right_side_l_and_m-xlim_0_to_10-time_vs_fluorescence_intensity.svg\n",
      "Saved data/processed/2024-05-23_E8-0/E6/precut/left_side_i-time_vs_fluorescence_intensity.svg\n",
      "Saved data/processed/2024-05-23_E8-0/E6/precut/left_side_i-xlim_0_to_10-time_vs_fluorescence_intensity.svg\n",
      "Saved data/processed/2024-05-23_E8-0/E6/precut/right_side_i-time_vs_fluorescence_intensity.svg\n",
      "Saved data/processed/2024-05-23_E8-0/E6/precut/right_side_i-xlim_0_to_10-time_vs_fluorescence_intensity.svg\n",
      "data/interim/2024-05-23_E8-0/E6/postcut/ already exists and has not been overwritten\n",
      "data/processed/2024-05-23_E8-0/E6/postcut/ already exists and has not been overwritten\n",
      "Loaded data/raw/2024-05-23_E8-0/E6/postcut/240523_GCaMP_E8.0_Exp6_E6_20x_320cyc_postcut_mid_t2_ls10_stage-1_dur-30.58.csv\n",
      "Filtered columns using regex 'Mean': Mean(LL), Mean(LI), Mean(LM), Mean(RM), Mean(RI), Mean(RL)\n",
      "Min max normalised DataFrame\n",
      "Saved data/processed/2024-05-23_E8-0/E6/postcut/all_roi-time_vs_fluorescence_intensity.svg\n"
     ]
    },
    {
     "name": "stdout",
     "output_type": "stream",
     "text": [
      "Left: lateral -> medial ---> right: lateral -> medial\n",
      "Left: 0.205 +/- 0.19 ---> right: 0.063 +/- 0.207\n",
      "overall_direction = 3\n"
     ]
    },
    {
     "name": "stderr",
     "output_type": "stream",
     "text": [
      "Saved data/processed/2024-05-23_E8-0/E6/postcut/left_side_l_and_m-time_vs_fluorescence_intensity.svg\n",
      "Saved data/processed/2024-05-23_E8-0/E6/postcut/left_side_l_and_m-xlim_0_to_10-time_vs_fluorescence_intensity.svg\n",
      "Saved data/processed/2024-05-23_E8-0/E6/postcut/right_side_l_and_m-time_vs_fluorescence_intensity.svg\n",
      "Saved data/processed/2024-05-23_E8-0/E6/postcut/right_side_l_and_m-xlim_0_to_10-time_vs_fluorescence_intensity.svg\n",
      "Saved data/processed/2024-05-23_E8-0/E6/postcut/left_side_i-time_vs_fluorescence_intensity.svg\n",
      "Saved data/processed/2024-05-23_E8-0/E6/postcut/left_side_i-xlim_0_to_10-time_vs_fluorescence_intensity.svg\n",
      "Saved data/processed/2024-05-23_E8-0/E6/postcut/right_side_i-time_vs_fluorescence_intensity.svg\n",
      "Saved data/processed/2024-05-23_E8-0/E6/postcut/right_side_i-xlim_0_to_10-time_vs_fluorescence_intensity.svg\n",
      "data/interim/2024-05-22_E8-0/E2/precut-t1/ already exists and has not been overwritten\n",
      "data/processed/2024-05-22_E8-0/E2/precut-t1/ already exists and has not been overwritten\n",
      "Loaded data/raw/2024-05-22_E8-0/E2/precut-t1/240522_GCaMP_E8.0_Exp5_E2_20x_320cyc_precut_mid_t1_ls10_stage-1_dur-30.58.csv\n",
      "Filtered columns using regex 'Mean': Mean(LL), Mean(LI), Mean(LM), Mean(RM), Mean(RI), Mean(RL)\n",
      "Min max normalised DataFrame\n",
      "Saved data/processed/2024-05-22_E8-0/E2/precut-t1/all_roi-time_vs_fluorescence_intensity.svg\n"
     ]
    },
    {
     "name": "stdout",
     "output_type": "stream",
     "text": [
      "Left: lateral -> medial ---> right: lateral -> medial\n",
      "Left: 0.33 +/- 0.463 ---> right: 0.381 +/- 0.468\n",
      "overall_direction = 3\n"
     ]
    },
    {
     "name": "stderr",
     "output_type": "stream",
     "text": [
      "Saved data/processed/2024-05-22_E8-0/E2/precut-t1/left_side_l_and_m-time_vs_fluorescence_intensity.svg\n",
      "Saved data/processed/2024-05-22_E8-0/E2/precut-t1/left_side_l_and_m-xlim_0_to_10-time_vs_fluorescence_intensity.svg\n",
      "Saved data/processed/2024-05-22_E8-0/E2/precut-t1/right_side_l_and_m-time_vs_fluorescence_intensity.svg\n",
      "Saved data/processed/2024-05-22_E8-0/E2/precut-t1/right_side_l_and_m-xlim_0_to_10-time_vs_fluorescence_intensity.svg\n",
      "Saved data/processed/2024-05-22_E8-0/E2/precut-t1/left_side_i-time_vs_fluorescence_intensity.svg\n",
      "Saved data/processed/2024-05-22_E8-0/E2/precut-t1/left_side_i-xlim_0_to_10-time_vs_fluorescence_intensity.svg\n",
      "Saved data/processed/2024-05-22_E8-0/E2/precut-t1/right_side_i-time_vs_fluorescence_intensity.svg\n",
      "Saved data/processed/2024-05-22_E8-0/E2/precut-t1/right_side_i-xlim_0_to_10-time_vs_fluorescence_intensity.svg\n",
      "data/interim/2024-05-22_E8-0/E2/precut-t2/ already exists and has not been overwritten\n",
      "data/processed/2024-05-22_E8-0/E2/precut-t2/ already exists and has not been overwritten\n",
      "Loaded data/raw/2024-05-22_E8-0/E2/precut-t2/240522_GCaMP_E8.0_Exp5_E2_20x_320cyc_precut_mid_t2_ls10_stage-1_dur-30.58.csv\n",
      "Filtered columns using regex 'Mean': Mean(LL), Mean(LI), Mean(LM), Mean(RM), Mean(RI), Mean(RL)\n",
      "Min max normalised DataFrame\n",
      "Saved data/processed/2024-05-22_E8-0/E2/precut-t2/all_roi-time_vs_fluorescence_intensity.svg\n"
     ]
    },
    {
     "name": "stdout",
     "output_type": "stream",
     "text": [
      "Trying RM - RI\n",
      "Left: lateral -> medial ---> right: lateral -> medial\n",
      "Left: 0.125 +/- 0.315 ---> right: 2.784 +/- 3.719\n",
      "overall_direction = 3\n"
     ]
    },
    {
     "name": "stderr",
     "output_type": "stream",
     "text": [
      "Saved data/processed/2024-05-22_E8-0/E2/precut-t2/left_side_l_and_m-time_vs_fluorescence_intensity.svg\n",
      "Saved data/processed/2024-05-22_E8-0/E2/precut-t2/left_side_l_and_m-xlim_0_to_10-time_vs_fluorescence_intensity.svg\n",
      "Saved data/processed/2024-05-22_E8-0/E2/precut-t2/right_side_l_and_m-time_vs_fluorescence_intensity.svg\n",
      "Saved data/processed/2024-05-22_E8-0/E2/precut-t2/right_side_l_and_m-xlim_0_to_10-time_vs_fluorescence_intensity.svg\n",
      "Saved data/processed/2024-05-22_E8-0/E2/precut-t2/left_side_i-time_vs_fluorescence_intensity.svg\n",
      "Saved data/processed/2024-05-22_E8-0/E2/precut-t2/left_side_i-xlim_0_to_10-time_vs_fluorescence_intensity.svg\n",
      "Saved data/processed/2024-05-22_E8-0/E2/precut-t2/right_side_i-time_vs_fluorescence_intensity.svg\n",
      "Saved data/processed/2024-05-22_E8-0/E2/precut-t2/right_side_i-xlim_0_to_10-time_vs_fluorescence_intensity.svg\n",
      "data/interim/2024-05-22_E8-0/E3/precut/ already exists and has not been overwritten\n",
      "data/processed/2024-05-22_E8-0/E3/precut/ already exists and has not been overwritten\n",
      "Loaded data/raw/2024-05-22_E8-0/E3/precut/240522_GCaMP_E8.0_Exp5_E3_20x_320cyc_precut_mid_t1_ls10_stage-3_dur-30.58.csv\n",
      "Filtered columns using regex 'Mean': Mean(LL), Mean(LI), Mean(LM), Mean(RM), Mean(RI), Mean(RL)\n",
      "Min max normalised DataFrame\n",
      "Saved data/processed/2024-05-22_E8-0/E3/precut/all_roi-time_vs_fluorescence_intensity.svg\n"
     ]
    },
    {
     "name": "stdout",
     "output_type": "stream",
     "text": [
      "Left: lateral -> medial ---> right: medial -> lateral\n",
      "Left: 0.42 +/- 0.354 ---> right: -0.327 +/- 0.491\n",
      "overall_direction = 1\n"
     ]
    },
    {
     "name": "stderr",
     "output_type": "stream",
     "text": [
      "Saved data/processed/2024-05-22_E8-0/E3/precut/left_side_l_and_m-time_vs_fluorescence_intensity.svg\n",
      "Saved data/processed/2024-05-22_E8-0/E3/precut/left_side_l_and_m-xlim_0_to_10-time_vs_fluorescence_intensity.svg\n",
      "Saved data/processed/2024-05-22_E8-0/E3/precut/right_side_l_and_m-time_vs_fluorescence_intensity.svg\n",
      "Saved data/processed/2024-05-22_E8-0/E3/precut/right_side_l_and_m-xlim_0_to_10-time_vs_fluorescence_intensity.svg\n",
      "Saved data/processed/2024-05-22_E8-0/E3/precut/left_side_i-time_vs_fluorescence_intensity.svg\n",
      "Saved data/processed/2024-05-22_E8-0/E3/precut/left_side_i-xlim_0_to_10-time_vs_fluorescence_intensity.svg\n",
      "Saved data/processed/2024-05-22_E8-0/E3/precut/right_side_i-time_vs_fluorescence_intensity.svg\n",
      "Saved data/processed/2024-05-22_E8-0/E3/precut/right_side_i-xlim_0_to_10-time_vs_fluorescence_intensity.svg\n",
      "data/interim/2024-05-22_E8-0/E3/postcut/ already exists and has not been overwritten\n",
      "data/processed/2024-05-22_E8-0/E3/postcut/ already exists and has not been overwritten\n",
      "Loaded data/raw/2024-05-22_E8-0/E3/postcut/240522_GCaMP_E8.0_Exp5_E3_20x_320cyc_postcut_mid_t3_ls10_stage-3_dur-30.58.csv\n",
      "Filtered columns using regex 'Mean': Mean(LL), Mean(LI), Mean(LM), Mean(RM), Mean(RI), Mean(RL)\n",
      "Min max normalised DataFrame\n",
      "Saved data/processed/2024-05-22_E8-0/E3/postcut/all_roi-time_vs_fluorescence_intensity.svg\n"
     ]
    },
    {
     "name": "stdout",
     "output_type": "stream",
     "text": [
      "Left: lateral -> medial ---> right: lateral -> medial\n",
      "Left: 1.225 +/- 0.464 ---> right: 0.137 +/- 0.403\n",
      "overall_direction = 3\n"
     ]
    },
    {
     "name": "stderr",
     "output_type": "stream",
     "text": [
      "Saved data/processed/2024-05-22_E8-0/E3/postcut/left_side_l_and_m-time_vs_fluorescence_intensity.svg\n",
      "Saved data/processed/2024-05-22_E8-0/E3/postcut/left_side_l_and_m-xlim_0_to_10-time_vs_fluorescence_intensity.svg\n",
      "Saved data/processed/2024-05-22_E8-0/E3/postcut/right_side_l_and_m-time_vs_fluorescence_intensity.svg\n",
      "Saved data/processed/2024-05-22_E8-0/E3/postcut/right_side_l_and_m-xlim_0_to_10-time_vs_fluorescence_intensity.svg\n",
      "Saved data/processed/2024-05-22_E8-0/E3/postcut/left_side_i-time_vs_fluorescence_intensity.svg\n",
      "Saved data/processed/2024-05-22_E8-0/E3/postcut/left_side_i-xlim_0_to_10-time_vs_fluorescence_intensity.svg\n",
      "Saved data/processed/2024-05-22_E8-0/E3/postcut/right_side_i-time_vs_fluorescence_intensity.svg\n",
      "Saved data/processed/2024-05-22_E8-0/E3/postcut/right_side_i-xlim_0_to_10-time_vs_fluorescence_intensity.svg\n"
     ]
    },
    {
     "name": "stdout",
     "output_type": "stream",
     "text": [
      "Left: lateral -> medial ---> right: lateral -> medial\n",
      "Left: 0.671 +/- 0.315 ---> right: 1.015 +/- 0.405\n",
      "overall_direction = 3\n",
      "---> Finished <---\n"
     ]
    }
   ],
   "source": [
    "lst_of_results_dict: list[dict[str, any]] = []\n",
    "\n",
    "for csv in csv_files:\n",
    "    data_dir: str = str(pathlib.Path(csv).parent) + '/'\n",
    "    results_dict: dict[str, any] = circle.load_peak_params(data_dir=data_dir, filter_regex='Mean')\n",
    "    lst_of_results_dict.append(results_dict)\n",
    "\n",
    "results_df: pandas.DataFrame = pd.DataFrame(lst_of_results_dict)\n",
    "results_df.to_csv(f'data/processed/dataset/full_dataset.csv', index=False)\n",
    "\n",
    "print('---> Finished <---')"
   ]
  }
 ],
 "metadata": {
  "kernelspec": {
   "display_name": "heart",
   "language": "python",
   "name": "python3"
  },
  "language_info": {
   "codemirror_mode": {
    "name": "ipython",
    "version": 3
   },
   "file_extension": ".py",
   "mimetype": "text/x-python",
   "name": "python",
   "nbconvert_exporter": "python",
   "pygments_lexer": "ipython3",
   "version": "3.12.4"
  }
 },
 "nbformat": 4,
 "nbformat_minor": 2
}
