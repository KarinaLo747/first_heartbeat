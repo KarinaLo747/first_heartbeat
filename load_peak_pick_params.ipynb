{
 "cells": [
  {
   "cell_type": "code",
   "execution_count": 1,
   "metadata": {},
   "outputs": [],
   "source": [
    "import glob\n",
    "import pathlib\n",
    "import tqdm\n",
    "import pandas\n",
    "import pandas as pd\n",
    "import first_heartbeat.circles_analysis as circle\n",
    "from first_heartbeat.constants import manual_peak_find_csv"
   ]
  },
  {
   "cell_type": "code",
   "execution_count": 2,
   "metadata": {},
   "outputs": [],
   "source": [
    "def main(csv_files: list[str], to_csv_name: str, plot_graphs: bool = False):\n",
    "\n",
    "    lst_of_results_dict: list[dict[str, any]] = []\n",
    "\n",
    "    pbar = tqdm.tqdm(total=len(csv_files))\n",
    "\n",
    "    for csv in csv_files:\n",
    "        pbar.set_description(f'Processing {to_csv_name}')\n",
    "        data_dir: str = str(pathlib.Path(csv).parent) + '/'\n",
    "        results_dict: dict[str, any] = circle.load_peak_params(data_dir=data_dir, filter_regex='Mean', plot_graphs=plot_graphs)\n",
    "        lst_of_results_dict.append(results_dict)\n",
    "        pbar.update()\n",
    "\n",
    "    pbar.close()\n",
    "\n",
    "    results_df: pandas.DataFrame = pd.DataFrame(lst_of_results_dict)\n",
    "    results_df.to_csv(f'data/processed/dataset/{to_csv_name}.csv', index=False)"
   ]
  },
  {
   "cell_type": "markdown",
   "metadata": {},
   "source": [
    "## Full dataset"
   ]
  },
  {
   "cell_type": "code",
   "execution_count": 3,
   "metadata": {},
   "outputs": [
    {
     "name": "stdout",
     "output_type": "stream",
     "text": [
      "len(csv_files) = 84\n"
     ]
    },
    {
     "name": "stderr",
     "output_type": "stream",
     "text": [
      "Processing full_dataset: 100%|██████████| 84/84 [00:02<00:00, 40.29it/s]\n"
     ]
    }
   ],
   "source": [
    "csv_files: list[str] = glob.glob(f'data/raw/*/*/*/*.csv')\n",
    "print(f'{len(csv_files) = }')\n",
    "main(csv_files=csv_files, to_csv_name='full_dataset')"
   ]
  },
  {
   "cell_type": "markdown",
   "metadata": {},
   "source": [
    "## Excluding"
   ]
  },
  {
   "cell_type": "code",
   "execution_count": 4,
   "metadata": {},
   "outputs": [
    {
     "name": "stdout",
     "output_type": "stream",
     "text": [
      "len(exclude_csv) = 8\n",
      "len(csv_files_exc) = 76\n"
     ]
    },
    {
     "name": "stderr",
     "output_type": "stream",
     "text": [
      "Processing survived_embryos: 100%|██████████| 76/76 [05:11<00:00,  4.10s/it]\n"
     ]
    }
   ],
   "source": [
    "exclude_csv = [\n",
    "    'data/raw/2024-05-17_E8-0/E1/precut/240517_GCaMP_E8.0_Exp3_E1_20x_320cyc_precut_mid_t1_ls10_stage-1_dur-38.02.csv',\n",
    "    'data/raw/2024-05-21_E8-0/E5/precut/240521_GCaMP_E8.0_Exp4_E5_20x_320cyc_precut_mid_t1_ls10_stage-4_dur-30.58.csv',\n",
    "    'data/raw/2024-05-22_E8-0/E2/precut-t1/240522_GCaMP_E8.0_Exp5_E2_20x_320cyc_precut_mid_t1_ls10_stage-1_dur-30.58.csv',\n",
    "    'data/raw/2024-05-22_E8-0/E2/precut-t2/240522_GCaMP_E8.0_Exp5_E2_20x_320cyc_precut_mid_t2_ls10_stage-1_dur-30.58.csv',\n",
    "    'data/raw/2024-05-23_E8-0/E1/precut-t0/240523_GCaMP_E8.0_Exp6_E1_20x_320c_precut_mid_t0_ls10_stage-1_dur-30.58.csv',\n",
    "    'data/raw/2024-05-23_E8-0/E1/precut-t1/240523_GCaMP_E8.0_Exp6_E1_20x_320c_precut_mid_t1_ls10_stage-1_dur-30.58.csv',\n",
    "    'data/raw/2024-05-23_E8-0/E3/precut-t0/240523_GCaMP_E8.0_Exp6_E3_20x_320cyc_precut_mid_t0_ls10_stage-3_dur-30.58.csv',\n",
    "    'data/raw/2024-05-23_E8-0/E3/precut-t1/240523_GCaMP_E8.0_Exp6_E3_20x_320cyc_precut_mid_t1_ls10_stage-3_dur-30.58.csv',\n",
    "]\n",
    "\n",
    "print(f'{len(exclude_csv) = }')\n",
    "\n",
    "csv_files_exc = [csv for csv in csv_files if csv not in exclude_csv]\n",
    "print(f'{len(csv_files_exc) = }')\n",
    "\n",
    "main(csv_files=csv_files_exc, to_csv_name='survived_embryos', plot_graphs=True)"
   ]
  },
  {
   "cell_type": "markdown",
   "metadata": {},
   "source": [
    "## t0 and t1"
   ]
  },
  {
   "cell_type": "code",
   "execution_count": 5,
   "metadata": {},
   "outputs": [
    {
     "name": "stderr",
     "output_type": "stream",
     "text": [
      "Processing t0_and_t1: 100%|██████████| 16/16 [00:00<00:00, 43.88it/s]\n"
     ]
    }
   ],
   "source": [
    "t0: list[str] = glob.glob(f'data/raw/*/*/*t0/*.csv')\n",
    "t1 = [csv.replace('t0', 't1') for csv in t0]\n",
    "t0_and_t1 = t0 + t1\n",
    "main(csv_files=t0_and_t1, to_csv_name='t0_and_t1')"
   ]
  }
 ],
 "metadata": {
  "kernelspec": {
   "display_name": "heart",
   "language": "python",
   "name": "python3"
  },
  "language_info": {
   "codemirror_mode": {
    "name": "ipython",
    "version": 3
   },
   "file_extension": ".py",
   "mimetype": "text/x-python",
   "name": "python",
   "nbconvert_exporter": "python",
   "pygments_lexer": "ipython3",
   "version": "3.12.2"
  }
 },
 "nbformat": 4,
 "nbformat_minor": 2
}
