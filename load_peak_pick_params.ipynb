{
 "cells": [
  {
   "cell_type": "code",
   "execution_count": 1,
   "metadata": {},
   "outputs": [],
   "source": [
    "import glob\n",
    "import pathlib\n",
    "import tqdm\n",
    "import pandas\n",
    "import pandas as pd\n",
    "import first_heartbeat.circles_analysis as circle\n",
    "from first_heartbeat.constants import manual_peak_find_csv"
   ]
  },
  {
   "cell_type": "code",
   "execution_count": 2,
   "metadata": {},
   "outputs": [
    {
     "name": "stdout",
     "output_type": "stream",
     "text": [
      "len(csv_files) = 84\n"
     ]
    }
   ],
   "source": [
    "csv_files: list[str] = glob.glob(f'data/raw/*/*/*/*.csv')\n",
    "print(f'{len(csv_files) = }')"
   ]
  },
  {
   "cell_type": "code",
   "execution_count": 3,
   "metadata": {},
   "outputs": [
    {
     "name": "stderr",
     "output_type": "stream",
     "text": [
      "Processing: 100%|██████████| 84/84 [00:02<00:00, 36.88it/s]\n"
     ]
    }
   ],
   "source": [
    "lst_of_results_dict: list[dict[str, any]] = []\n",
    "\n",
    "pbar = tqdm.tqdm(total=len(csv_files))\n",
    "\n",
    "for csv in csv_files:\n",
    "    pbar.set_description(f'Processing')\n",
    "    data_dir: str = str(pathlib.Path(csv).parent) + '/'\n",
    "    results_dict: dict[str, any] = circle.load_peak_params(data_dir=data_dir, filter_regex='Mean')\n",
    "    lst_of_results_dict.append(results_dict)\n",
    "    pbar.update()\n",
    "\n",
    "pbar.close()\n",
    "\n",
    "results_df: pandas.DataFrame = pd.DataFrame(lst_of_results_dict)\n",
    "results_df.to_csv(f'data/processed/dataset/full_dataset.csv', index=False)"
   ]
  }
 ],
 "metadata": {
  "kernelspec": {
   "display_name": "heart",
   "language": "python",
   "name": "python3"
  },
  "language_info": {
   "codemirror_mode": {
    "name": "ipython",
    "version": 3
   },
   "file_extension": ".py",
   "mimetype": "text/x-python",
   "name": "python",
   "nbconvert_exporter": "python",
   "pygments_lexer": "ipython3",
   "version": "3.12.4"
  }
 },
 "nbformat": 4,
 "nbformat_minor": 2
}
