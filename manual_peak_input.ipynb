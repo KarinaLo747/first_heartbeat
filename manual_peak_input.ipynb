{
 "cells": [
  {
   "cell_type": "code",
   "execution_count": 2,
   "metadata": {},
   "outputs": [
    {
     "name": "stdout",
     "output_type": "stream",
     "text": [
      "1: rel_height = 0.95\n",
      "1: Plotting left_bases = 0.95\n"
     ]
    },
    {
     "name": "stdin",
     "output_type": "stream",
     "text": [
      "1: t_half satisfactory? [y/n] y\n"
     ]
    },
    {
     "name": "stdout",
     "output_type": "stream",
     "text": [
      "1: Success! Final rel_height = 0.95\n",
      "\n",
      "2: rel_height = 0.95\n",
      "2: Plotting left_bases = 0.95\n"
     ]
    },
    {
     "name": "stdin",
     "output_type": "stream",
     "text": [
      "2: t_half satisfactory? [y/n] 0.9\n"
     ]
    },
    {
     "name": "stdout",
     "output_type": "stream",
     "text": [
      "---> Please enter y or n <---\n",
      "2: rel_height = 0.95\n",
      "2: Plotting left_bases = 0.95\n"
     ]
    },
    {
     "name": "stdin",
     "output_type": "stream",
     "text": [
      "2: t_half satisfactory? [y/n] y\n"
     ]
    },
    {
     "name": "stdout",
     "output_type": "stream",
     "text": [
      "2: Success! Final rel_height = 0.95\n",
      "\n",
      "3: rel_height = 0.95\n",
      "3: Plotting left_bases = 0.95\n"
     ]
    },
    {
     "name": "stdin",
     "output_type": "stream",
     "text": [
      "3: t_half satisfactory? [y/n] n\n"
     ]
    },
    {
     "name": "stdout",
     "output_type": "stream",
     "text": [
      "3: a = 'n' - Let us try again...\n"
     ]
    },
    {
     "name": "stdin",
     "output_type": "stream",
     "text": [
      "3: Enter rel_height (float): 0.9\n"
     ]
    },
    {
     "name": "stdout",
     "output_type": "stream",
     "text": [
      "3: rel_height = 0.9\n",
      "3: Plotting left_bases = 0.9\n"
     ]
    },
    {
     "name": "stdin",
     "output_type": "stream",
     "text": [
      "3: t_half satisfactory? [y/n] n\n"
     ]
    },
    {
     "name": "stdout",
     "output_type": "stream",
     "text": [
      "3: a = 'n' - Let us try again...\n"
     ]
    },
    {
     "name": "stdin",
     "output_type": "stream",
     "text": [
      "3: Enter rel_height (float): 0.6\n"
     ]
    },
    {
     "name": "stdout",
     "output_type": "stream",
     "text": [
      "3: rel_height = 0.6\n",
      "3: Plotting left_bases = 0.6\n"
     ]
    },
    {
     "name": "stdin",
     "output_type": "stream",
     "text": [
      "3: t_half satisfactory? [y/n] y\n"
     ]
    },
    {
     "name": "stdout",
     "output_type": "stream",
     "text": [
      "3: Success! Final rel_height = 0.6\n",
      "\n",
      "4: rel_height = 0.95\n",
      "4: Plotting left_bases = 0.95\n"
     ]
    },
    {
     "name": "stdin",
     "output_type": "stream",
     "text": [
      "4: t_half satisfactory? [y/n] y\n"
     ]
    },
    {
     "name": "stdout",
     "output_type": "stream",
     "text": [
      "4: Success! Final rel_height = 0.95\n",
      "\n",
      "---> Finished <---\n"
     ]
    },
    {
     "name": "stdout",
     "output_type": "stream",
     "text": [
      "1: Success! Final rel_height = 0.95\n",
      "\n",
      "2: rel_height = 0.95\n",
      "2: Plotting rel_height = 0.95\n"
     ]
    },
    {
     "name": "stdout",
     "output_type": "stream",
     "text": [
      "2: t_half satisfactory? [y/n] 0.9\n"
     ]
    },
    {
     "name": "stdout",
     "output_type": "stream",
     "text": [
      "---> Please enter y or n <---\n",
      "2: rel_height = 0.95\n",
      "2: Plotting rel_height = 0.95\n"
     ]
    },
    {
     "name": "stdout",
     "output_type": "stream",
     "text": [
      "2: t_half satisfactory? [y/n] n\n"
     ]
    },
    {
     "name": "stdout",
     "output_type": "stream",
     "text": [
      "2: a = 'n' - Let us try again...\n"
     ]
    },
    {
     "name": "stdout",
     "output_type": "stream",
     "text": [
      "2: Enter rel_height (float): 0.9\n"
     ]
    },
    {
     "name": "stdout",
     "output_type": "stream",
     "text": [
      "2: rel_height = 0.9\n",
      "2: Plotting rel_height = 0.9\n"
     ]
    },
    {
     "name": "stdout",
     "output_type": "stream",
     "text": [
      "2: t_half satisfactory? [y/n] n\n"
     ]
    },
    {
     "name": "stdout",
     "output_type": "stream",
     "text": [
      "2: a = 'n' - Let us try again...\n"
     ]
    },
    {
     "name": "stdout",
     "output_type": "stream",
     "text": [
      "2: Enter rel_height (float): 0.8\n"
     ]
    },
    {
     "name": "stdout",
     "output_type": "stream",
     "text": [
      "2: rel_height = 0.8\n",
      "2: Plotting rel_height = 0.8\n"
     ]
    },
    {
     "name": "stdout",
     "output_type": "stream",
     "text": [
      "2: t_half satisfactory? [y/n] y\n"
     ]
    },
    {
     "name": "stdout",
     "output_type": "stream",
     "text": [
      "2: Success! Final rel_height = 0.8\n",
      "\n",
      "3: rel_height = 0.95\n",
      "3: Plotting rel_height = 0.95\n"
     ]
    },
    {
     "name": "stdout",
     "output_type": "stream",
     "text": [
      "3: t_half satisfactory? [y/n] y\n"
     ]
    },
    {
     "name": "stdout",
     "output_type": "stream",
     "text": [
      "3: Success! Final rel_height = 0.95\n",
      "\n",
      "4: rel_height = 0.95\n",
      "4: Plotting rel_height = 0.95\n"
     ]
    },
    {
     "name": "stdout",
     "output_type": "stream",
     "text": [
      "4: t_half satisfactory? [y/n] nope\n"
     ]
    },
    {
     "name": "stdout",
     "output_type": "stream",
     "text": [
      "---> Please enter y or n <---\n",
      "4: rel_height = 0.95\n",
      "4: Plotting rel_height = 0.95\n"
     ]
    },
    {
     "name": "stdout",
     "output_type": "stream",
     "text": [
      "4: t_half satisfactory? [y/n] yep\n"
     ]
    },
    {
     "name": "stdout",
     "output_type": "stream",
     "text": [
      "---> Please enter y or n <---\n",
      "4: rel_height = 0.95\n",
      "4: Plotting rel_height = 0.95\n"
     ]
    },
    {
     "name": "stdout",
     "output_type": "stream",
     "text": [
      "4: t_half satisfactory? [y/n] y\n"
     ]
    },
    {
     "name": "stdout",
     "output_type": "stream",
     "text": [
      "4: Success! Final rel_height = 0.95\n",
      "\n",
      "---> Finished <---\n"
     ]
    },
    {
     "name": "stdout",
     "output_type": "stream",
     "text": [
      "1: a = '3' - Let us try again...\n"
     ]
    },
    {
     "name": "stdout",
     "output_type": "stream",
     "text": [
      "1: Success! Final rel_height = 0.95\n",
      "\n",
      "2: rel_height = 0.95\n",
      "2: Plotting rel_height = 0.95\n"
     ]
    },
    {
     "name": "stdout",
     "output_type": "stream",
     "text": [
      "2: t_half satisfactory? [y/n] n\n"
     ]
    },
    {
     "name": "stdout",
     "output_type": "stream",
     "text": [
      "2: a = 'n' - Let us try again...\n"
     ]
    },
    {
     "name": "stdout",
     "output_type": "stream",
     "text": [
      "2: Enter rel_height (float): n\n"
     ]
    },
    {
     "name": "stdout",
     "output_type": "stream",
     "text": [
      "2: ---> Please enter a float <---\n",
      "2: rel_height = 0.95\n",
      "2: Plotting rel_height = 0.95\n"
     ]
    },
    {
     "name": "stdout",
     "output_type": "stream",
     "text": [
      "2: t_half satisfactory? [y/n] 0.9\n"
     ]
    },
    {
     "name": "stdout",
     "output_type": "stream",
     "text": [
      "2: a = '0.9' - Let us try again...\n"
     ]
    },
    {
     "name": "stdout",
     "output_type": "stream",
     "text": [
      "2: Enter rel_height (float): 0\n"
     ]
    },
    {
     "name": "stdout",
     "output_type": "stream",
     "text": [
      "2: rel_height = 0.0\n",
      "2: Plotting rel_height = 0.0\n"
     ]
    },
    {
     "name": "stdout",
     "output_type": "stream",
     "text": [
      "2: t_half satisfactory? [y/n] y\n"
     ]
    },
    {
     "name": "stdout",
     "output_type": "stream",
     "text": [
      "2: Success! Final rel_height = 0.0\n",
      "\n",
      "3: rel_height = 0.95\n",
      "3: Plotting rel_height = 0.95\n"
     ]
    },
    {
     "name": "stdout",
     "output_type": "stream",
     "text": [
      "3: t_half satisfactory? [y/n] y\n"
     ]
    },
    {
     "name": "stdout",
     "output_type": "stream",
     "text": [
      "3: Success! Final rel_height = 0.95\n",
      "\n",
      "4: rel_height = 0.95\n",
      "4: Plotting rel_height = 0.95\n"
     ]
    },
    {
     "name": "stdout",
     "output_type": "stream",
     "text": [
      "4: t_half satisfactory? [y/n] y\n"
     ]
    },
    {
     "name": "stdout",
     "output_type": "stream",
     "text": [
      "4: Success! Final rel_height = 0.95\n",
      "\n",
      "---> Finished <---\n"
     ]
    },
    {
     "name": "stdout",
     "output_type": "stream",
     "text": [
      "2: Enter rel_height (float): 0.9\n"
     ]
    },
    {
     "name": "stdout",
     "output_type": "stream",
     "text": [
      "2: New rel_height = 0.9\n",
      "2: Plotting rel_height rel_height = 0.9\n"
     ]
    },
    {
     "name": "stdout",
     "output_type": "stream",
     "text": [
      "2: t_half satisfactory? [y/n] n\n"
     ]
    },
    {
     "name": "stdout",
     "output_type": "stream",
     "text": [
      "2: a = 'n' - Let us try again...\n"
     ]
    },
    {
     "name": "stdout",
     "output_type": "stream",
     "text": [
      "2: Enter rel_height (float): n\n"
     ]
    },
    {
     "name": "stdout",
     "output_type": "stream",
     "text": [
      "2: ---> Please enter a float <---\n",
      "2: Plotting rel_height rel_height = 0.9\n"
     ]
    },
    {
     "name": "stdout",
     "output_type": "stream",
     "text": [
      "2: t_half satisfactory? [y/n] n\n"
     ]
    },
    {
     "name": "stdout",
     "output_type": "stream",
     "text": [
      "2: a = 'n' - Let us try again...\n"
     ]
    },
    {
     "name": "stdout",
     "output_type": "stream",
     "text": [
      "2: Enter rel_height (float): 0.8\n"
     ]
    },
    {
     "name": "stdout",
     "output_type": "stream",
     "text": [
      "2: New rel_height = 0.8\n",
      "2: Plotting rel_height rel_height = 0.8\n"
     ]
    },
    {
     "name": "stdout",
     "output_type": "stream",
     "text": [
      "2: t_half satisfactory? [y/n] y\n"
     ]
    },
    {
     "name": "stdout",
     "output_type": "stream",
     "text": [
      "2: Success! Final rel_height = 0.8\n",
      "3: Plotting rel_height rel_height = 0.95\n"
     ]
    },
    {
     "name": "stdout",
     "output_type": "stream",
     "text": [
      "3: t_half satisfactory? [y/n] y\n"
     ]
    },
    {
     "name": "stdout",
     "output_type": "stream",
     "text": [
      "3: Success! Final rel_height = 0.95\n",
      "4: Plotting rel_height rel_height = 0.95\n"
     ]
    },
    {
     "name": "stdout",
     "output_type": "stream",
     "text": [
      "4: t_half satisfactory? [y/n] y\n"
     ]
    },
    {
     "name": "stdout",
     "output_type": "stream",
     "text": [
      "4: Success! Final rel_height = 0.95\n",
      "---> Finished <---\n"
     ]
    }
   ],
   "source": [
    "def peak_width(i, rel_height):\n",
    "    print(f'{i}: {rel_height = }')\n",
    "    return rel_height\n",
    "\n",
    "\n",
    "def plot(i, left_bases):\n",
    "    print(f'{i}: Plotting {left_bases = }')\n",
    "\n",
    "\n",
    "def satis(i):\n",
    "\n",
    "    rel_height = 0.95\n",
    "\n",
    "    while True:\n",
    "\n",
    "        left_bases = peak_width(i, rel_height)\n",
    "        plot(i, left_bases)\n",
    "\n",
    "        a = input(f'{i}: t_half satisfactory? [y/n]')\n",
    "\n",
    "        if a.lower() in ('n', 'no'):\n",
    "\n",
    "            print(f'{i}: {a = } - Let us try again...')\n",
    "\n",
    "            try:\n",
    "                rel_height = float(input(f'{i}: Enter rel_height (float):'))\n",
    "\n",
    "            except ValueError:\n",
    "                print(f'---> Please enter a float <---')\n",
    "                continue\n",
    "\n",
    "        elif a.lower()  in ('y', 'yes', 'ye', 'es', 'ys'):\n",
    "            print(f'{i}: Success! Final {rel_height = }')\n",
    "            break\n",
    "\n",
    "        else:\n",
    "            print(f'---> Please enter y or n <---')\n",
    "            continue\n",
    "\n",
    "\n",
    "for i in range(1, 5):\n",
    "    satis(i)\n",
    "    print()\n",
    "\n",
    "\n",
    "print('---> Finished <---')"
   ]
  }
 ],
 "metadata": {
  "kernelspec": {
   "display_name": "Python 3 (ipykernel)",
   "language": "python",
   "name": "python3"
  },
  "language_info": {
   "codemirror_mode": {
    "name": "ipython",
    "version": 3
   },
   "file_extension": ".py",
   "mimetype": "text/x-python",
   "name": "python",
   "nbconvert_exporter": "python",
   "pygments_lexer": "ipython3",
   "version": "3.12.4"
  }
 },
 "nbformat": 4,
 "nbformat_minor": 4
}
