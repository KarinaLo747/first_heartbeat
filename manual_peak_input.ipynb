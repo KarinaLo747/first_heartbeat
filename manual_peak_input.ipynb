{
 "cells": [
  {
   "cell_type": "code",
   "execution_count": 1,
   "metadata": {},
   "outputs": [
    {
     "name": "stdout",
     "output_type": "stream",
     "text": [
      "1: Plotting rel_height rel_height = 0.95\n",
      "1: t_half satisfactory? [y/n]\n",
      "1: Success! Final rel_height = 0.95\n",
      "2: Plotting rel_height rel_height = 0.95\n",
      "2: t_half satisfactory? [y/n]\n",
      "2: a = 'n' - Let us try again...\n",
      "2: Enter rel_height (float):\n",
      "2: New rel_height = 0.9\n",
      "2: Plotting rel_height rel_height = 0.9\n",
      "2: t_half satisfactory? [y/n]\n",
      "2: a = 'n' - Let us try again...\n",
      "2: Enter rel_height (float):\n",
      "2: ---> Please enter a float\n",
      "2: Plotting rel_height rel_height = 0.9\n",
      "2: t_half satisfactory? [y/n]\n",
      "2: a = '0.5' - Let us try again...\n",
      "2: Enter rel_height (float):\n",
      "2: ---> Please enter a float\n",
      "2: Plotting rel_height rel_height = 0.9\n",
      "2: t_half satisfactory? [y/n]\n",
      "2: a = 'n' - Let us try again...\n",
      "2: Enter rel_height (float):\n",
      "2: New rel_height = 0.5\n",
      "2: Plotting rel_height rel_height = 0.5\n",
      "2: t_half satisfactory? [y/n]\n",
      "2: Success! Final rel_height = 0.5\n",
      "3: Plotting rel_height rel_height = 0.95\n",
      "3: t_half satisfactory? [y/n]\n",
      "3: Success! Final rel_height = 0.95\n",
      "4: Plotting rel_height rel_height = 0.95\n",
      "4: t_half satisfactory? [y/n]\n",
      "4: Success! Final rel_height = 0.95\n",
      "---> Finished <---\n"
     ]
    }
   ],
   "source": [
    "def peak_width(i, rel_height):\n",
    "    print(f'{i}: New {rel_height = }')\n",
    "\n",
    "\n",
    "def plot(i, rel_height):\n",
    "    print(f'{i}: Plotting rel_height {rel_height = }')\n",
    "\n",
    "\n",
    "def satis(i):\n",
    "\n",
    "    rel_height = 0.95\n",
    "\n",
    "    while True:\n",
    "\n",
    "        plot(i, rel_height)\n",
    "\n",
    "        print(f'{i}: t_half satisfactory? [y/n]')\n",
    "        a = input(f'{i}: t_half satisfactory? [y/n]')\n",
    "\n",
    "        if a.lower() not in ('y', 'yes', 'ye', 'es', 'ys'):\n",
    "\n",
    "            print(f'{i}: {a = } - Let us try again...')\n",
    "\n",
    "            try:\n",
    "                print(f'{i}: Enter rel_height (float):')\n",
    "                rel_height = float(input(f'{i}: Enter rel_height (float):'))\n",
    "\n",
    "            except ValueError:\n",
    "                print(f'{i}: ---> Please enter a float')\n",
    "                continue\n",
    "\n",
    "            peak_width(i, rel_height)\n",
    "\n",
    "        else:\n",
    "            print(f'{i}: Success! Final {rel_height = }')\n",
    "            break\n",
    "\n",
    "\n",
    "for i in range(1, 5):\n",
    "    satis(i)\n",
    "\n",
    "\n",
    "print('---> Finished <---')"
   ]
  }
 ],
 "metadata": {
  "kernelspec": {
   "display_name": "heart",
   "language": "python",
   "name": "python3"
  },
  "language_info": {
   "codemirror_mode": {
    "name": "ipython",
    "version": 3
   },
   "file_extension": ".py",
   "mimetype": "text/x-python",
   "name": "python",
   "nbconvert_exporter": "python",
   "pygments_lexer": "ipython3",
   "version": "3.12.4"
  }
 },
 "nbformat": 4,
 "nbformat_minor": 2
}
